{
 "cells": [
  {
   "cell_type": "markdown",
   "id": "c1b3b7ca",
   "metadata": {},
   "source": [
    "# Lead Scoring\n",
    "\n",
    "#### Problem Statement:\n",
    "\n",
    "An education company named X Education sells online courses to industry professionals. The company markets its courses on several websites and search engines like Google. Once these people land on the website, they might browse the courses or fill up a form for the course or watch some videos. When these people fill up a form providing their email address or phone number, they are classified to be a lead. Moreover, the company also gets leads through past referrals.\n",
    "\n",
    "Once these leads are acquired, employees from the sales team start making calls, writing emails, etc. Through this process, some of the leads get converted while most do not. The typical lead conversion rate at X education is around 30%.\n",
    "\n"
   ]
  },
  {
   "cell_type": "markdown",
   "id": "c0868c8f",
   "metadata": {},
   "source": [
    "#### Business Goal:\n",
    "X Education needs help in selecting the most promising leads, i.e. the leads that are most likely to convert into paying customers.\n",
    "\n",
    "The company needs a model wherein you a lead score is assigned to each of the leads such that the customers with higher lead score have a higher conversion chance and the customers with lower lead score have a lower conversion chance.\n",
    "\n",
    "The CEO, in particular, has given a ballpark of the target lead conversion rate to be around 80%."
   ]
  },
  {
   "cell_type": "markdown",
   "id": "7d8862ba",
   "metadata": {},
   "source": [
    "### Step 1: Reading and Understanding the Data"
   ]
  },
  {
   "cell_type": "code",
   "execution_count": 1,
   "id": "63a4aba4",
   "metadata": {},
   "outputs": [],
   "source": [
    "# Supress warnings\n",
    "\n",
    "import warnings\n",
    "warnings.filterwarnings(\"ignore\")"
   ]
  },
  {
   "cell_type": "code",
   "execution_count": 2,
   "id": "055dbaf4",
   "metadata": {},
   "outputs": [],
   "source": [
    "# Importing the required packages\n",
    "\n",
    "import numpy as np\n",
    "import pandas as pd\n",
    "import matplotlib.pyplot as plt\n",
    "import seaborn as sns\n",
    "%matplotlib inline\n",
    "\n",
    "from sklearn.linear_model import LogisticRegression\n",
    "from sklearn import metrics\n",
    "from sklearn.model_selection import train_test_split\n",
    "from sklearn.feature_selection import RFE\n",
    "from sklearn.preprocessing import MinMaxScaler\n",
    "from sklearn.metrics import r2_score\n",
    "from statsmodels.stats.outliers_influence import variance_inflation_factor\n",
    "from sklearn.metrics import precision_score, recall_score\n",
    "import statsmodels.api as sm\n",
    "from sklearn.metrics import precision_recall_curve\n",
    "from sklearn.preprocessing import StandardScaler"
   ]
  },
  {
   "cell_type": "code",
   "execution_count": 3,
   "id": "fbd8085f",
   "metadata": {},
   "outputs": [],
   "source": [
    "# Importing the dataset\n",
    "\n",
    "df = pd.read_csv(\"Leads.csv\", encoding = \"latin\")"
   ]
  },
  {
   "cell_type": "code",
   "execution_count": 4,
   "id": "d3380b0f",
   "metadata": {},
   "outputs": [
    {
     "data": {
      "text/html": [
       "<div>\n",
       "<style scoped>\n",
       "    .dataframe tbody tr th:only-of-type {\n",
       "        vertical-align: middle;\n",
       "    }\n",
       "\n",
       "    .dataframe tbody tr th {\n",
       "        vertical-align: top;\n",
       "    }\n",
       "\n",
       "    .dataframe thead th {\n",
       "        text-align: right;\n",
       "    }\n",
       "</style>\n",
       "<table border=\"1\" class=\"dataframe\">\n",
       "  <thead>\n",
       "    <tr style=\"text-align: right;\">\n",
       "      <th></th>\n",
       "      <th>Prospect ID</th>\n",
       "      <th>Lead Number</th>\n",
       "      <th>Lead Origin</th>\n",
       "      <th>Lead Source</th>\n",
       "      <th>Do Not Email</th>\n",
       "      <th>Do Not Call</th>\n",
       "      <th>Converted</th>\n",
       "      <th>TotalVisits</th>\n",
       "      <th>Total Time Spent on Website</th>\n",
       "      <th>Page Views Per Visit</th>\n",
       "      <th>...</th>\n",
       "      <th>Get updates on DM Content</th>\n",
       "      <th>Lead Profile</th>\n",
       "      <th>City</th>\n",
       "      <th>Asymmetrique Activity Index</th>\n",
       "      <th>Asymmetrique Profile Index</th>\n",
       "      <th>Asymmetrique Activity Score</th>\n",
       "      <th>Asymmetrique Profile Score</th>\n",
       "      <th>I agree to pay the amount through cheque</th>\n",
       "      <th>A free copy of Mastering The Interview</th>\n",
       "      <th>Last Notable Activity</th>\n",
       "    </tr>\n",
       "  </thead>\n",
       "  <tbody>\n",
       "    <tr>\n",
       "      <th>0</th>\n",
       "      <td>7927b2df-8bba-4d29-b9a2-b6e0beafe620</td>\n",
       "      <td>660737</td>\n",
       "      <td>API</td>\n",
       "      <td>Olark Chat</td>\n",
       "      <td>No</td>\n",
       "      <td>No</td>\n",
       "      <td>0</td>\n",
       "      <td>0.0</td>\n",
       "      <td>0</td>\n",
       "      <td>0.0</td>\n",
       "      <td>...</td>\n",
       "      <td>No</td>\n",
       "      <td>Select</td>\n",
       "      <td>Select</td>\n",
       "      <td>02.Medium</td>\n",
       "      <td>02.Medium</td>\n",
       "      <td>15.0</td>\n",
       "      <td>15.0</td>\n",
       "      <td>No</td>\n",
       "      <td>No</td>\n",
       "      <td>Modified</td>\n",
       "    </tr>\n",
       "    <tr>\n",
       "      <th>1</th>\n",
       "      <td>2a272436-5132-4136-86fa-dcc88c88f482</td>\n",
       "      <td>660728</td>\n",
       "      <td>API</td>\n",
       "      <td>Organic Search</td>\n",
       "      <td>No</td>\n",
       "      <td>No</td>\n",
       "      <td>0</td>\n",
       "      <td>5.0</td>\n",
       "      <td>674</td>\n",
       "      <td>2.5</td>\n",
       "      <td>...</td>\n",
       "      <td>No</td>\n",
       "      <td>Select</td>\n",
       "      <td>Select</td>\n",
       "      <td>02.Medium</td>\n",
       "      <td>02.Medium</td>\n",
       "      <td>15.0</td>\n",
       "      <td>15.0</td>\n",
       "      <td>No</td>\n",
       "      <td>No</td>\n",
       "      <td>Email Opened</td>\n",
       "    </tr>\n",
       "    <tr>\n",
       "      <th>2</th>\n",
       "      <td>8cc8c611-a219-4f35-ad23-fdfd2656bd8a</td>\n",
       "      <td>660727</td>\n",
       "      <td>Landing Page Submission</td>\n",
       "      <td>Direct Traffic</td>\n",
       "      <td>No</td>\n",
       "      <td>No</td>\n",
       "      <td>1</td>\n",
       "      <td>2.0</td>\n",
       "      <td>1532</td>\n",
       "      <td>2.0</td>\n",
       "      <td>...</td>\n",
       "      <td>No</td>\n",
       "      <td>Potential Lead</td>\n",
       "      <td>Mumbai</td>\n",
       "      <td>02.Medium</td>\n",
       "      <td>01.High</td>\n",
       "      <td>14.0</td>\n",
       "      <td>20.0</td>\n",
       "      <td>No</td>\n",
       "      <td>Yes</td>\n",
       "      <td>Email Opened</td>\n",
       "    </tr>\n",
       "    <tr>\n",
       "      <th>3</th>\n",
       "      <td>0cc2df48-7cf4-4e39-9de9-19797f9b38cc</td>\n",
       "      <td>660719</td>\n",
       "      <td>Landing Page Submission</td>\n",
       "      <td>Direct Traffic</td>\n",
       "      <td>No</td>\n",
       "      <td>No</td>\n",
       "      <td>0</td>\n",
       "      <td>1.0</td>\n",
       "      <td>305</td>\n",
       "      <td>1.0</td>\n",
       "      <td>...</td>\n",
       "      <td>No</td>\n",
       "      <td>Select</td>\n",
       "      <td>Mumbai</td>\n",
       "      <td>02.Medium</td>\n",
       "      <td>01.High</td>\n",
       "      <td>13.0</td>\n",
       "      <td>17.0</td>\n",
       "      <td>No</td>\n",
       "      <td>No</td>\n",
       "      <td>Modified</td>\n",
       "    </tr>\n",
       "    <tr>\n",
       "      <th>4</th>\n",
       "      <td>3256f628-e534-4826-9d63-4a8b88782852</td>\n",
       "      <td>660681</td>\n",
       "      <td>Landing Page Submission</td>\n",
       "      <td>Google</td>\n",
       "      <td>No</td>\n",
       "      <td>No</td>\n",
       "      <td>1</td>\n",
       "      <td>2.0</td>\n",
       "      <td>1428</td>\n",
       "      <td>1.0</td>\n",
       "      <td>...</td>\n",
       "      <td>No</td>\n",
       "      <td>Select</td>\n",
       "      <td>Mumbai</td>\n",
       "      <td>02.Medium</td>\n",
       "      <td>01.High</td>\n",
       "      <td>15.0</td>\n",
       "      <td>18.0</td>\n",
       "      <td>No</td>\n",
       "      <td>No</td>\n",
       "      <td>Modified</td>\n",
       "    </tr>\n",
       "  </tbody>\n",
       "</table>\n",
       "<p>5 rows × 37 columns</p>\n",
       "</div>"
      ],
      "text/plain": [
       "                            Prospect ID  Lead Number              Lead Origin  \\\n",
       "0  7927b2df-8bba-4d29-b9a2-b6e0beafe620       660737                      API   \n",
       "1  2a272436-5132-4136-86fa-dcc88c88f482       660728                      API   \n",
       "2  8cc8c611-a219-4f35-ad23-fdfd2656bd8a       660727  Landing Page Submission   \n",
       "3  0cc2df48-7cf4-4e39-9de9-19797f9b38cc       660719  Landing Page Submission   \n",
       "4  3256f628-e534-4826-9d63-4a8b88782852       660681  Landing Page Submission   \n",
       "\n",
       "      Lead Source Do Not Email Do Not Call  Converted  TotalVisits  \\\n",
       "0      Olark Chat           No          No          0          0.0   \n",
       "1  Organic Search           No          No          0          5.0   \n",
       "2  Direct Traffic           No          No          1          2.0   \n",
       "3  Direct Traffic           No          No          0          1.0   \n",
       "4          Google           No          No          1          2.0   \n",
       "\n",
       "   Total Time Spent on Website  Page Views Per Visit  ...  \\\n",
       "0                            0                   0.0  ...   \n",
       "1                          674                   2.5  ...   \n",
       "2                         1532                   2.0  ...   \n",
       "3                          305                   1.0  ...   \n",
       "4                         1428                   1.0  ...   \n",
       "\n",
       "  Get updates on DM Content    Lead Profile    City  \\\n",
       "0                        No          Select  Select   \n",
       "1                        No          Select  Select   \n",
       "2                        No  Potential Lead  Mumbai   \n",
       "3                        No          Select  Mumbai   \n",
       "4                        No          Select  Mumbai   \n",
       "\n",
       "  Asymmetrique Activity Index Asymmetrique Profile Index  \\\n",
       "0                   02.Medium                  02.Medium   \n",
       "1                   02.Medium                  02.Medium   \n",
       "2                   02.Medium                    01.High   \n",
       "3                   02.Medium                    01.High   \n",
       "4                   02.Medium                    01.High   \n",
       "\n",
       "  Asymmetrique Activity Score Asymmetrique Profile Score  \\\n",
       "0                        15.0                       15.0   \n",
       "1                        15.0                       15.0   \n",
       "2                        14.0                       20.0   \n",
       "3                        13.0                       17.0   \n",
       "4                        15.0                       18.0   \n",
       "\n",
       "  I agree to pay the amount through cheque  \\\n",
       "0                                       No   \n",
       "1                                       No   \n",
       "2                                       No   \n",
       "3                                       No   \n",
       "4                                       No   \n",
       "\n",
       "  A free copy of Mastering The Interview Last Notable Activity  \n",
       "0                                     No              Modified  \n",
       "1                                     No          Email Opened  \n",
       "2                                    Yes          Email Opened  \n",
       "3                                     No              Modified  \n",
       "4                                     No              Modified  \n",
       "\n",
       "[5 rows x 37 columns]"
      ]
     },
     "execution_count": 4,
     "metadata": {},
     "output_type": "execute_result"
    }
   ],
   "source": [
    "# Checking the head of the dataset\n",
    "\n",
    "df.head()"
   ]
  },
  {
   "cell_type": "code",
   "execution_count": 5,
   "id": "2cdc30ec",
   "metadata": {},
   "outputs": [
    {
     "data": {
      "text/plain": [
       "(9240, 37)"
      ]
     },
     "execution_count": 5,
     "metadata": {},
     "output_type": "execute_result"
    }
   ],
   "source": [
    "# Checking the shape\n",
    "\n",
    "df.shape"
   ]
  },
  {
   "cell_type": "code",
   "execution_count": 6,
   "id": "ba4ec42a",
   "metadata": {},
   "outputs": [
    {
     "name": "stdout",
     "output_type": "stream",
     "text": [
      "<class 'pandas.core.frame.DataFrame'>\n",
      "RangeIndex: 9240 entries, 0 to 9239\n",
      "Data columns (total 37 columns):\n",
      " #   Column                                         Non-Null Count  Dtype  \n",
      "---  ------                                         --------------  -----  \n",
      " 0   Prospect ID                                    9240 non-null   object \n",
      " 1   Lead Number                                    9240 non-null   int64  \n",
      " 2   Lead Origin                                    9240 non-null   object \n",
      " 3   Lead Source                                    9204 non-null   object \n",
      " 4   Do Not Email                                   9240 non-null   object \n",
      " 5   Do Not Call                                    9240 non-null   object \n",
      " 6   Converted                                      9240 non-null   int64  \n",
      " 7   TotalVisits                                    9103 non-null   float64\n",
      " 8   Total Time Spent on Website                    9240 non-null   int64  \n",
      " 9   Page Views Per Visit                           9103 non-null   float64\n",
      " 10  Last Activity                                  9137 non-null   object \n",
      " 11  Country                                        6779 non-null   object \n",
      " 12  Specialization                                 7802 non-null   object \n",
      " 13  How did you hear about X Education             7033 non-null   object \n",
      " 14  What is your current occupation                6550 non-null   object \n",
      " 15  What matters most to you in choosing a course  6531 non-null   object \n",
      " 16  Search                                         9240 non-null   object \n",
      " 17  Magazine                                       9240 non-null   object \n",
      " 18  Newspaper Article                              9240 non-null   object \n",
      " 19  X Education Forums                             9240 non-null   object \n",
      " 20  Newspaper                                      9240 non-null   object \n",
      " 21  Digital Advertisement                          9240 non-null   object \n",
      " 22  Through Recommendations                        9240 non-null   object \n",
      " 23  Receive More Updates About Our Courses         9240 non-null   object \n",
      " 24  Tags                                           5887 non-null   object \n",
      " 25  Lead Quality                                   4473 non-null   object \n",
      " 26  Update me on Supply Chain Content              9240 non-null   object \n",
      " 27  Get updates on DM Content                      9240 non-null   object \n",
      " 28  Lead Profile                                   6531 non-null   object \n",
      " 29  City                                           7820 non-null   object \n",
      " 30  Asymmetrique Activity Index                    5022 non-null   object \n",
      " 31  Asymmetrique Profile Index                     5022 non-null   object \n",
      " 32  Asymmetrique Activity Score                    5022 non-null   float64\n",
      " 33  Asymmetrique Profile Score                     5022 non-null   float64\n",
      " 34  I agree to pay the amount through cheque       9240 non-null   object \n",
      " 35  A free copy of Mastering The Interview         9240 non-null   object \n",
      " 36  Last Notable Activity                          9240 non-null   object \n",
      "dtypes: float64(4), int64(3), object(30)\n",
      "memory usage: 2.6+ MB\n"
     ]
    }
   ],
   "source": [
    "# Retrieving the info about columns\n",
    "\n",
    "df.info()"
   ]
  },
  {
   "cell_type": "code",
   "execution_count": 7,
   "id": "f27b3e4e",
   "metadata": {},
   "outputs": [
    {
     "data": {
      "text/html": [
       "<div>\n",
       "<style scoped>\n",
       "    .dataframe tbody tr th:only-of-type {\n",
       "        vertical-align: middle;\n",
       "    }\n",
       "\n",
       "    .dataframe tbody tr th {\n",
       "        vertical-align: top;\n",
       "    }\n",
       "\n",
       "    .dataframe thead th {\n",
       "        text-align: right;\n",
       "    }\n",
       "</style>\n",
       "<table border=\"1\" class=\"dataframe\">\n",
       "  <thead>\n",
       "    <tr style=\"text-align: right;\">\n",
       "      <th></th>\n",
       "      <th>Lead Number</th>\n",
       "      <th>Converted</th>\n",
       "      <th>TotalVisits</th>\n",
       "      <th>Total Time Spent on Website</th>\n",
       "      <th>Page Views Per Visit</th>\n",
       "      <th>Asymmetrique Activity Score</th>\n",
       "      <th>Asymmetrique Profile Score</th>\n",
       "    </tr>\n",
       "  </thead>\n",
       "  <tbody>\n",
       "    <tr>\n",
       "      <th>count</th>\n",
       "      <td>9240.000000</td>\n",
       "      <td>9240.000000</td>\n",
       "      <td>9103.000000</td>\n",
       "      <td>9240.000000</td>\n",
       "      <td>9103.000000</td>\n",
       "      <td>5022.000000</td>\n",
       "      <td>5022.000000</td>\n",
       "    </tr>\n",
       "    <tr>\n",
       "      <th>mean</th>\n",
       "      <td>617188.435606</td>\n",
       "      <td>0.385390</td>\n",
       "      <td>3.445238</td>\n",
       "      <td>487.698268</td>\n",
       "      <td>2.362820</td>\n",
       "      <td>14.306252</td>\n",
       "      <td>16.344883</td>\n",
       "    </tr>\n",
       "    <tr>\n",
       "      <th>std</th>\n",
       "      <td>23405.995698</td>\n",
       "      <td>0.486714</td>\n",
       "      <td>4.854853</td>\n",
       "      <td>548.021466</td>\n",
       "      <td>2.161418</td>\n",
       "      <td>1.386694</td>\n",
       "      <td>1.811395</td>\n",
       "    </tr>\n",
       "    <tr>\n",
       "      <th>min</th>\n",
       "      <td>579533.000000</td>\n",
       "      <td>0.000000</td>\n",
       "      <td>0.000000</td>\n",
       "      <td>0.000000</td>\n",
       "      <td>0.000000</td>\n",
       "      <td>7.000000</td>\n",
       "      <td>11.000000</td>\n",
       "    </tr>\n",
       "    <tr>\n",
       "      <th>25%</th>\n",
       "      <td>596484.500000</td>\n",
       "      <td>0.000000</td>\n",
       "      <td>1.000000</td>\n",
       "      <td>12.000000</td>\n",
       "      <td>1.000000</td>\n",
       "      <td>14.000000</td>\n",
       "      <td>15.000000</td>\n",
       "    </tr>\n",
       "    <tr>\n",
       "      <th>50%</th>\n",
       "      <td>615479.000000</td>\n",
       "      <td>0.000000</td>\n",
       "      <td>3.000000</td>\n",
       "      <td>248.000000</td>\n",
       "      <td>2.000000</td>\n",
       "      <td>14.000000</td>\n",
       "      <td>16.000000</td>\n",
       "    </tr>\n",
       "    <tr>\n",
       "      <th>75%</th>\n",
       "      <td>637387.250000</td>\n",
       "      <td>1.000000</td>\n",
       "      <td>5.000000</td>\n",
       "      <td>936.000000</td>\n",
       "      <td>3.000000</td>\n",
       "      <td>15.000000</td>\n",
       "      <td>18.000000</td>\n",
       "    </tr>\n",
       "    <tr>\n",
       "      <th>max</th>\n",
       "      <td>660737.000000</td>\n",
       "      <td>1.000000</td>\n",
       "      <td>251.000000</td>\n",
       "      <td>2272.000000</td>\n",
       "      <td>55.000000</td>\n",
       "      <td>18.000000</td>\n",
       "      <td>20.000000</td>\n",
       "    </tr>\n",
       "  </tbody>\n",
       "</table>\n",
       "</div>"
      ],
      "text/plain": [
       "         Lead Number    Converted  TotalVisits  Total Time Spent on Website  \\\n",
       "count    9240.000000  9240.000000  9103.000000                  9240.000000   \n",
       "mean   617188.435606     0.385390     3.445238                   487.698268   \n",
       "std     23405.995698     0.486714     4.854853                   548.021466   \n",
       "min    579533.000000     0.000000     0.000000                     0.000000   \n",
       "25%    596484.500000     0.000000     1.000000                    12.000000   \n",
       "50%    615479.000000     0.000000     3.000000                   248.000000   \n",
       "75%    637387.250000     1.000000     5.000000                   936.000000   \n",
       "max    660737.000000     1.000000   251.000000                  2272.000000   \n",
       "\n",
       "       Page Views Per Visit  Asymmetrique Activity Score  \\\n",
       "count           9103.000000                  5022.000000   \n",
       "mean               2.362820                    14.306252   \n",
       "std                2.161418                     1.386694   \n",
       "min                0.000000                     7.000000   \n",
       "25%                1.000000                    14.000000   \n",
       "50%                2.000000                    14.000000   \n",
       "75%                3.000000                    15.000000   \n",
       "max               55.000000                    18.000000   \n",
       "\n",
       "       Asymmetrique Profile Score  \n",
       "count                 5022.000000  \n",
       "mean                    16.344883  \n",
       "std                      1.811395  \n",
       "min                     11.000000  \n",
       "25%                     15.000000  \n",
       "50%                     16.000000  \n",
       "75%                     18.000000  \n",
       "max                     20.000000  "
      ]
     },
     "execution_count": 7,
     "metadata": {},
     "output_type": "execute_result"
    }
   ],
   "source": [
    "# Getting an insight of the columns\n",
    "\n",
    "df.describe()"
   ]
  },
  {
   "cell_type": "markdown",
   "id": "ebeb99d3",
   "metadata": {},
   "source": [
    "### Step 2: Data Cleaning"
   ]
  },
  {
   "cell_type": "code",
   "execution_count": 8,
   "id": "8bc78bce",
   "metadata": {},
   "outputs": [
    {
     "data": {
      "text/plain": [
       "Prospect ID                                         0\n",
       "Lead Number                                         0\n",
       "Lead Origin                                         0\n",
       "Lead Source                                        36\n",
       "Do Not Email                                        0\n",
       "Do Not Call                                         0\n",
       "Converted                                           0\n",
       "TotalVisits                                       137\n",
       "Total Time Spent on Website                         0\n",
       "Page Views Per Visit                              137\n",
       "Last Activity                                     103\n",
       "Country                                          2461\n",
       "Specialization                                   1438\n",
       "How did you hear about X Education               2207\n",
       "What is your current occupation                  2690\n",
       "What matters most to you in choosing a course    2709\n",
       "Search                                              0\n",
       "Magazine                                            0\n",
       "Newspaper Article                                   0\n",
       "X Education Forums                                  0\n",
       "Newspaper                                           0\n",
       "Digital Advertisement                               0\n",
       "Through Recommendations                             0\n",
       "Receive More Updates About Our Courses              0\n",
       "Tags                                             3353\n",
       "Lead Quality                                     4767\n",
       "Update me on Supply Chain Content                   0\n",
       "Get updates on DM Content                           0\n",
       "Lead Profile                                     2709\n",
       "City                                             1420\n",
       "Asymmetrique Activity Index                      4218\n",
       "Asymmetrique Profile Index                       4218\n",
       "Asymmetrique Activity Score                      4218\n",
       "Asymmetrique Profile Score                       4218\n",
       "I agree to pay the amount through cheque            0\n",
       "A free copy of Mastering The Interview              0\n",
       "Last Notable Activity                               0\n",
       "dtype: int64"
      ]
     },
     "execution_count": 8,
     "metadata": {},
     "output_type": "execute_result"
    }
   ],
   "source": [
    "# Checking for Null Values\n",
    "\n",
    "df.isnull().sum()"
   ]
  },
  {
   "cell_type": "code",
   "execution_count": 9,
   "id": "f2e71406",
   "metadata": {},
   "outputs": [
    {
     "name": "stdout",
     "output_type": "stream",
     "text": [
      "Prospect ID                                       0.00\n",
      "Lead Number                                       0.00\n",
      "Lead Origin                                       0.00\n",
      "Lead Source                                       0.39\n",
      "Do Not Email                                      0.00\n",
      "Do Not Call                                       0.00\n",
      "Converted                                         0.00\n",
      "TotalVisits                                       1.48\n",
      "Total Time Spent on Website                       0.00\n",
      "Page Views Per Visit                              1.48\n",
      "Last Activity                                     1.11\n",
      "Country                                          26.63\n",
      "Specialization                                   15.56\n",
      "How did you hear about X Education               23.89\n",
      "What is your current occupation                  29.11\n",
      "What matters most to you in choosing a course    29.32\n",
      "Search                                            0.00\n",
      "Magazine                                          0.00\n",
      "Newspaper Article                                 0.00\n",
      "X Education Forums                                0.00\n",
      "Newspaper                                         0.00\n",
      "Digital Advertisement                             0.00\n",
      "Through Recommendations                           0.00\n",
      "Receive More Updates About Our Courses            0.00\n",
      "Tags                                             36.29\n",
      "Lead Quality                                     51.59\n",
      "Update me on Supply Chain Content                 0.00\n",
      "Get updates on DM Content                         0.00\n",
      "Lead Profile                                     29.32\n",
      "City                                             15.37\n",
      "Asymmetrique Activity Index                      45.65\n",
      "Asymmetrique Profile Index                       45.65\n",
      "Asymmetrique Activity Score                      45.65\n",
      "Asymmetrique Profile Score                       45.65\n",
      "I agree to pay the amount through cheque          0.00\n",
      "A free copy of Mastering The Interview            0.00\n",
      "Last Notable Activity                             0.00\n",
      "dtype: float64\n"
     ]
    }
   ],
   "source": [
    "# Checking for percentage of Null Values in each column\n",
    "\n",
    "missing = round(100*(df.isnull().sum()/len(df.index)), 2)\n",
    "print(missing)"
   ]
  },
  {
   "cell_type": "code",
   "execution_count": 10,
   "id": "73927206",
   "metadata": {},
   "outputs": [
    {
     "data": {
      "text/html": [
       "<div>\n",
       "<style scoped>\n",
       "    .dataframe tbody tr th:only-of-type {\n",
       "        vertical-align: middle;\n",
       "    }\n",
       "\n",
       "    .dataframe tbody tr th {\n",
       "        vertical-align: top;\n",
       "    }\n",
       "\n",
       "    .dataframe thead th {\n",
       "        text-align: right;\n",
       "    }\n",
       "</style>\n",
       "<table border=\"1\" class=\"dataframe\">\n",
       "  <thead>\n",
       "    <tr style=\"text-align: right;\">\n",
       "      <th></th>\n",
       "      <th>Prospect ID</th>\n",
       "      <th>Lead Number</th>\n",
       "      <th>Lead Origin</th>\n",
       "      <th>Lead Source</th>\n",
       "      <th>Do Not Email</th>\n",
       "      <th>Do Not Call</th>\n",
       "      <th>Converted</th>\n",
       "      <th>TotalVisits</th>\n",
       "      <th>Total Time Spent on Website</th>\n",
       "      <th>Page Views Per Visit</th>\n",
       "      <th>...</th>\n",
       "      <th>Get updates on DM Content</th>\n",
       "      <th>Lead Profile</th>\n",
       "      <th>City</th>\n",
       "      <th>Asymmetrique Activity Index</th>\n",
       "      <th>Asymmetrique Profile Index</th>\n",
       "      <th>Asymmetrique Activity Score</th>\n",
       "      <th>Asymmetrique Profile Score</th>\n",
       "      <th>I agree to pay the amount through cheque</th>\n",
       "      <th>A free copy of Mastering The Interview</th>\n",
       "      <th>Last Notable Activity</th>\n",
       "    </tr>\n",
       "  </thead>\n",
       "  <tbody>\n",
       "  </tbody>\n",
       "</table>\n",
       "<p>0 rows × 37 columns</p>\n",
       "</div>"
      ],
      "text/plain": [
       "Empty DataFrame\n",
       "Columns: [Prospect ID, Lead Number, Lead Origin, Lead Source, Do Not Email, Do Not Call, Converted, TotalVisits, Total Time Spent on Website, Page Views Per Visit, Last Activity, Country, Specialization, How did you hear about X Education, What is your current occupation, What matters most to you in choosing a course, Search, Magazine, Newspaper Article, X Education Forums, Newspaper, Digital Advertisement, Through Recommendations, Receive More Updates About Our Courses, Tags, Lead Quality, Update me on Supply Chain Content, Get updates on DM Content, Lead Profile, City, Asymmetrique Activity Index, Asymmetrique Profile Index, Asymmetrique Activity Score, Asymmetrique Profile Score, I agree to pay the amount through cheque, A free copy of Mastering The Interview, Last Notable Activity]\n",
       "Index: []\n",
       "\n",
       "[0 rows x 37 columns]"
      ]
     },
     "execution_count": 10,
     "metadata": {},
     "output_type": "execute_result"
    }
   ],
   "source": [
    "# Checking for duplicate values in the dataset\n",
    "\n",
    "df[df.duplicated(keep=False)]"
   ]
  },
  {
   "cell_type": "markdown",
   "id": "6ef19024",
   "metadata": {},
   "source": [
    "- There are no duplicate values in the dataset."
   ]
  },
  {
   "cell_type": "code",
   "execution_count": 11,
   "id": "c6af7596",
   "metadata": {},
   "outputs": [],
   "source": [
    "# The following columns have a value called select. \n",
    "\n",
    "# a. Specialization\n",
    "# b. How did you hear about X Education\n",
    "# c. Lead Profile\n",
    "# d. City\n",
    "\n",
    "# Converting those values as NaN since the customer has not selected any option for these columns while entering the data.\n",
    "# \"Select\" to NaN\n",
    "\n",
    "df[\"Specialization\"] = df[\"Specialization\"].replace(\"Select\", np.nan)\n",
    "df[\"How did you hear about X Education\"] = df[\"How did you hear about X Education\"].replace(\"Select\", np.nan)\n",
    "df[\"Lead Profile\"] = df[\"Lead Profile\"].replace(\"Select\", np.nan)\n",
    "df[\"City\"] = df[\"City\"].replace(\"Select\", np.nan)"
   ]
  },
  {
   "cell_type": "code",
   "execution_count": 12,
   "id": "0dc502ee",
   "metadata": {},
   "outputs": [
    {
     "name": "stdout",
     "output_type": "stream",
     "text": [
      "Prospect ID                                       0.00\n",
      "Lead Number                                       0.00\n",
      "Lead Origin                                       0.00\n",
      "Lead Source                                       0.39\n",
      "Do Not Email                                      0.00\n",
      "Do Not Call                                       0.00\n",
      "Converted                                         0.00\n",
      "TotalVisits                                       1.48\n",
      "Total Time Spent on Website                       0.00\n",
      "Page Views Per Visit                              1.48\n",
      "Last Activity                                     1.11\n",
      "Country                                          26.63\n",
      "Specialization                                   36.58\n",
      "How did you hear about X Education               78.46\n",
      "What is your current occupation                  29.11\n",
      "What matters most to you in choosing a course    29.32\n",
      "Search                                            0.00\n",
      "Magazine                                          0.00\n",
      "Newspaper Article                                 0.00\n",
      "X Education Forums                                0.00\n",
      "Newspaper                                         0.00\n",
      "Digital Advertisement                             0.00\n",
      "Through Recommendations                           0.00\n",
      "Receive More Updates About Our Courses            0.00\n",
      "Tags                                             36.29\n",
      "Lead Quality                                     51.59\n",
      "Update me on Supply Chain Content                 0.00\n",
      "Get updates on DM Content                         0.00\n",
      "Lead Profile                                     74.19\n",
      "City                                             39.71\n",
      "Asymmetrique Activity Index                      45.65\n",
      "Asymmetrique Profile Index                       45.65\n",
      "Asymmetrique Activity Score                      45.65\n",
      "Asymmetrique Profile Score                       45.65\n",
      "I agree to pay the amount through cheque          0.00\n",
      "A free copy of Mastering The Interview            0.00\n",
      "Last Notable Activity                             0.00\n",
      "dtype: float64\n"
     ]
    }
   ],
   "source": [
    "# Checking for percentage of Null Values in each column\n",
    "\n",
    "missing = round(100*(df.isnull().sum()/len(df.index)), 2)\n",
    "print(missing)"
   ]
  },
  {
   "cell_type": "markdown",
   "id": "a13d33a1",
   "metadata": {},
   "source": [
    "#### Observation:\n",
    "- By adding columns with \"Select\" value, null values in \"Specialization\" column increased from 15.56% to 36.58%. \n",
    "- In \"How did you hear about X Education\" from 23.89% to 78.46%. \n",
    "- In \"Lead Profile\" from 29.32% to 74.19%.\n",
    "- In \"City\" from 15.37% to 39.71%."
   ]
  },
  {
   "cell_type": "code",
   "execution_count": 13,
   "id": "c337d23c",
   "metadata": {},
   "outputs": [],
   "source": [
    "# Dropping the columns that have more than 30% of Null Values.\n",
    "\n",
    "# a. Specialization\n",
    "# b. How did you hear about X Education\n",
    "# c. Tags\n",
    "# d. Lead Quality\n",
    "# e. Lead Profile\n",
    "# f. City\n",
    "# g. Asymmetrique Activity Index\n",
    "# h. Asymmetrique Profile Index\n",
    "# i. Asymmetrique Activity Score\n",
    "# j. Asymmetrique Profile Score\n",
    "\n",
    "df = df.drop(['Specialization', 'How did you hear about X Education', 'Tags', 'Lead Quality',\n",
    "            'Lead Profile','City', 'Asymmetrique Activity Index', 'Asymmetrique Profile Index',\n",
    "            'Asymmetrique Activity Score', 'Asymmetrique Profile Score'], axis=1)"
   ]
  },
  {
   "cell_type": "code",
   "execution_count": 14,
   "id": "c475375e",
   "metadata": {},
   "outputs": [
    {
     "name": "stdout",
     "output_type": "stream",
     "text": [
      "Prospect ID                                       0.00\n",
      "Lead Number                                       0.00\n",
      "Lead Origin                                       0.00\n",
      "Lead Source                                       0.39\n",
      "Do Not Email                                      0.00\n",
      "Do Not Call                                       0.00\n",
      "Converted                                         0.00\n",
      "TotalVisits                                       1.48\n",
      "Total Time Spent on Website                       0.00\n",
      "Page Views Per Visit                              1.48\n",
      "Last Activity                                     1.11\n",
      "Country                                          26.63\n",
      "What is your current occupation                  29.11\n",
      "What matters most to you in choosing a course    29.32\n",
      "Search                                            0.00\n",
      "Magazine                                          0.00\n",
      "Newspaper Article                                 0.00\n",
      "X Education Forums                                0.00\n",
      "Newspaper                                         0.00\n",
      "Digital Advertisement                             0.00\n",
      "Through Recommendations                           0.00\n",
      "Receive More Updates About Our Courses            0.00\n",
      "Update me on Supply Chain Content                 0.00\n",
      "Get updates on DM Content                         0.00\n",
      "I agree to pay the amount through cheque          0.00\n",
      "A free copy of Mastering The Interview            0.00\n",
      "Last Notable Activity                             0.00\n",
      "dtype: float64\n"
     ]
    }
   ],
   "source": [
    "# Checking the percentage of Null Values in each column after dropping columns with more than 30% null values\n",
    "\n",
    "missing = round(100*(df.isnull().sum()/len(df.index)), 2)\n",
    "print(missing)"
   ]
  },
  {
   "cell_type": "markdown",
   "id": "e4a84cbf",
   "metadata": {},
   "source": [
    "#### Following Columns have Null Values:\n",
    "- Country\n",
    "- Lead Source\n",
    "- Total Visits\n",
    "- Page Views Per Visit\n",
    "- Last Activity\n",
    "- What is your current occupation\n",
    "- What matters most to you in choosing a course\n"
   ]
  },
  {
   "cell_type": "markdown",
   "id": "1eae0a2d",
   "metadata": {},
   "source": [
    "##### Country"
   ]
  },
  {
   "cell_type": "code",
   "execution_count": 15,
   "id": "0145082a",
   "metadata": {},
   "outputs": [
    {
     "data": {
      "text/plain": [
       "India                   6492\n",
       "United States             69\n",
       "United Arab Emirates      53\n",
       "Singapore                 24\n",
       "Saudi Arabia              21\n",
       "United Kingdom            15\n",
       "Australia                 13\n",
       "Qatar                     10\n",
       "Hong Kong                  7\n",
       "Bahrain                    7\n",
       "Oman                       6\n",
       "France                     6\n",
       "unknown                    5\n",
       "South Africa               4\n",
       "Nigeria                    4\n",
       "Germany                    4\n",
       "Kuwait                     4\n",
       "Canada                     4\n",
       "Sweden                     3\n",
       "China                      2\n",
       "Asia/Pacific Region        2\n",
       "Uganda                     2\n",
       "Bangladesh                 2\n",
       "Italy                      2\n",
       "Belgium                    2\n",
       "Netherlands                2\n",
       "Ghana                      2\n",
       "Philippines                2\n",
       "Russia                     1\n",
       "Switzerland                1\n",
       "Vietnam                    1\n",
       "Denmark                    1\n",
       "Tanzania                   1\n",
       "Liberia                    1\n",
       "Malaysia                   1\n",
       "Kenya                      1\n",
       "Sri Lanka                  1\n",
       "Indonesia                  1\n",
       "Name: Country, dtype: int64"
      ]
     },
     "execution_count": 15,
     "metadata": {},
     "output_type": "execute_result"
    }
   ],
   "source": [
    "# Checking value counts for each value in country column\n",
    "\n",
    "df.Country.value_counts()"
   ]
  },
  {
   "cell_type": "code",
   "execution_count": 16,
   "id": "5b16cb94",
   "metadata": {},
   "outputs": [
    {
     "name": "stdout",
     "output_type": "stream",
     "text": [
      "70.26\n"
     ]
    }
   ],
   "source": [
    "# Checking the percentage of \"India\" as value in the Country column\n",
    "\n",
    "Country_percentage = round(100*len(df[df[\"Country\"] == \"India\"])/len(df[\"Country\"]), 2)\n",
    "print(Country_percentage)"
   ]
  },
  {
   "cell_type": "code",
   "execution_count": 17,
   "id": "884d87b9",
   "metadata": {},
   "outputs": [],
   "source": [
    "# The country column has around 27% missing values and \"India\" alone occurs 70% of the time, hence we shall drop the column \"Country\"\n",
    "\n",
    "df = df.drop([\"Country\"], axis = 1)"
   ]
  },
  {
   "cell_type": "markdown",
   "id": "e71c17c3",
   "metadata": {},
   "source": [
    "##### Lead Source"
   ]
  },
  {
   "cell_type": "code",
   "execution_count": 18,
   "id": "ee49988b",
   "metadata": {},
   "outputs": [
    {
     "data": {
      "text/plain": [
       "0.0      2189\n",
       "2.0      1680\n",
       "3.0      1306\n",
       "4.0      1120\n",
       "5.0       783\n",
       "6.0       466\n",
       "1.0       395\n",
       "7.0       309\n",
       "8.0       224\n",
       "9.0       164\n",
       "10.0      114\n",
       "11.0       86\n",
       "13.0       48\n",
       "12.0       45\n",
       "14.0       36\n",
       "16.0       21\n",
       "15.0       18\n",
       "17.0       16\n",
       "18.0       15\n",
       "20.0       12\n",
       "19.0        9\n",
       "21.0        6\n",
       "23.0        6\n",
       "24.0        5\n",
       "25.0        5\n",
       "27.0        5\n",
       "22.0        3\n",
       "29.0        2\n",
       "28.0        2\n",
       "26.0        2\n",
       "141.0       1\n",
       "55.0        1\n",
       "30.0        1\n",
       "43.0        1\n",
       "74.0        1\n",
       "41.0        1\n",
       "54.0        1\n",
       "115.0       1\n",
       "251.0       1\n",
       "32.0        1\n",
       "42.0        1\n",
       "Name: TotalVisits, dtype: int64"
      ]
     },
     "execution_count": 18,
     "metadata": {},
     "output_type": "execute_result"
    }
   ],
   "source": [
    "# Checking the value counts for column TotalVisits\n",
    "\n",
    "df[\"TotalVisits\"].value_counts()"
   ]
  },
  {
   "cell_type": "code",
   "execution_count": 19,
   "id": "cbb80c87",
   "metadata": {},
   "outputs": [
    {
     "data": {
      "text/plain": [
       "3.0"
      ]
     },
     "execution_count": 19,
     "metadata": {},
     "output_type": "execute_result"
    }
   ],
   "source": [
    "# Checking the median of the column\n",
    "\n",
    "df[\"TotalVisits\"].median()"
   ]
  },
  {
   "cell_type": "code",
   "execution_count": 20,
   "id": "ec4d4e98",
   "metadata": {},
   "outputs": [],
   "source": [
    "# Imputing the Null Values in \"TotalVisits\" by median value which is 3.0\n",
    "\n",
    "df[\"TotalVisits\"] = df[\"TotalVisits\"].replace(np.nan, df[\"TotalVisits\"].median())"
   ]
  },
  {
   "cell_type": "markdown",
   "id": "e29fd540",
   "metadata": {},
   "source": [
    "##### Page Views Per Visit"
   ]
  },
  {
   "cell_type": "code",
   "execution_count": 21,
   "id": "615751b1",
   "metadata": {},
   "outputs": [
    {
     "data": {
      "text/plain": [
       "0.00    2189\n",
       "2.00    1795\n",
       "3.00    1196\n",
       "4.00     896\n",
       "1.00     651\n",
       "        ... \n",
       "3.43       1\n",
       "2.56       1\n",
       "6.33       1\n",
       "1.64       1\n",
       "2.08       1\n",
       "Name: Page Views Per Visit, Length: 114, dtype: int64"
      ]
     },
     "execution_count": 21,
     "metadata": {},
     "output_type": "execute_result"
    }
   ],
   "source": [
    "# Checking the value counts for Page Views Per Visit\n",
    "\n",
    "df[\"Page Views Per Visit\"].value_counts()"
   ]
  },
  {
   "cell_type": "code",
   "execution_count": 22,
   "id": "9bbb088d",
   "metadata": {},
   "outputs": [
    {
     "data": {
      "text/plain": [
       "2.0"
      ]
     },
     "execution_count": 22,
     "metadata": {},
     "output_type": "execute_result"
    }
   ],
   "source": [
    "# Checking the median of the column\n",
    "\n",
    "df[\"Page Views Per Visit\"].median()"
   ]
  },
  {
   "cell_type": "code",
   "execution_count": 23,
   "id": "c65bf437",
   "metadata": {},
   "outputs": [],
   "source": [
    "# Imputing the Null Values in \"Page Views Per Visit\" by median value which is 2.0\n",
    "\n",
    "df[\"Page Views Per Visit\"] = df[\"Page Views Per Visit\"].replace(np.nan, df[\"Page Views Per Visit\"].median())"
   ]
  },
  {
   "cell_type": "markdown",
   "id": "d5bcf778",
   "metadata": {},
   "source": [
    "##### Lead Source"
   ]
  },
  {
   "cell_type": "code",
   "execution_count": 24,
   "id": "b09171eb",
   "metadata": {},
   "outputs": [
    {
     "data": {
      "text/plain": [
       "Google               2868\n",
       "Direct Traffic       2543\n",
       "Olark Chat           1755\n",
       "Organic Search       1154\n",
       "Reference             534\n",
       "Welingak Website      142\n",
       "Referral Sites        125\n",
       "Facebook               55\n",
       "bing                    6\n",
       "google                  5\n",
       "Click2call              4\n",
       "Press_Release           2\n",
       "Social Media            2\n",
       "Live Chat               2\n",
       "youtubechannel          1\n",
       "testone                 1\n",
       "Pay per Click Ads       1\n",
       "welearnblog_Home        1\n",
       "WeLearn                 1\n",
       "blog                    1\n",
       "NC_EDM                  1\n",
       "Name: Lead Source, dtype: int64"
      ]
     },
     "execution_count": 24,
     "metadata": {},
     "output_type": "execute_result"
    }
   ],
   "source": [
    "# Checking the value counts for Lead Source\n",
    "\n",
    "df[\"Lead Source\"].value_counts()"
   ]
  },
  {
   "cell_type": "code",
   "execution_count": 25,
   "id": "7abda7d5",
   "metadata": {},
   "outputs": [],
   "source": [
    "# From the above we can notice that Google appears twice with different cases. Hence we shall convert all rows with value \"Google\".\n",
    "# And since \"Google\" has large part of data, we can impute the null values with \"Google\".\n",
    "\n",
    "df['Lead Source'] = df['Lead Source'].replace('google', 'Google')\n",
    "df['Lead Source'] = df['Lead Source'].replace(np.nan, 'Google')"
   ]
  },
  {
   "cell_type": "markdown",
   "id": "a1d1ca66",
   "metadata": {},
   "source": [
    "##### Last Activity"
   ]
  },
  {
   "cell_type": "code",
   "execution_count": 26,
   "id": "e90ced6b",
   "metadata": {},
   "outputs": [
    {
     "data": {
      "text/plain": [
       "Email Opened                    3437\n",
       "SMS Sent                        2745\n",
       "Olark Chat Conversation          973\n",
       "Page Visited on Website          640\n",
       "Converted to Lead                428\n",
       "Email Bounced                    326\n",
       "Email Link Clicked               267\n",
       "Form Submitted on Website        116\n",
       "Unreachable                       93\n",
       "Unsubscribed                      61\n",
       "Had a Phone Conversation          30\n",
       "Approached upfront                 9\n",
       "View in browser link Clicked       6\n",
       "Email Received                     2\n",
       "Email Marked Spam                  2\n",
       "Visited Booth in Tradeshow         1\n",
       "Resubscribed to emails             1\n",
       "Name: Last Activity, dtype: int64"
      ]
     },
     "execution_count": 26,
     "metadata": {},
     "output_type": "execute_result"
    }
   ],
   "source": [
    "# Checking the value counts for \"Last Activity\"\n",
    "\n",
    "df[\"Last Activity\"].value_counts()"
   ]
  },
  {
   "cell_type": "code",
   "execution_count": 27,
   "id": "c6f6679d",
   "metadata": {},
   "outputs": [],
   "source": [
    "# Since we don't have any information regarding the last activity of the customer, we can add a new category - \"Not available\" for the null values\n",
    "\n",
    "df[\"Last Activity\"] = df[\"Last Activity\"].replace(np.nan, \"No Available\")"
   ]
  },
  {
   "cell_type": "markdown",
   "id": "0cc3e031",
   "metadata": {},
   "source": [
    "##### What is your current occupation"
   ]
  },
  {
   "cell_type": "code",
   "execution_count": 28,
   "id": "fbfcd05d",
   "metadata": {},
   "outputs": [
    {
     "data": {
      "text/plain": [
       "Unemployed              5600\n",
       "Working Professional     706\n",
       "Student                  210\n",
       "Other                     16\n",
       "Housewife                 10\n",
       "Businessman                8\n",
       "Name: What is your current occupation, dtype: int64"
      ]
     },
     "execution_count": 28,
     "metadata": {},
     "output_type": "execute_result"
    }
   ],
   "source": [
    "# Checking the value counts for \"What is your current occupation\"\n",
    "\n",
    "df[\"What is your current occupation\"].value_counts()"
   ]
  },
  {
   "cell_type": "code",
   "execution_count": 29,
   "id": "20c9fcad",
   "metadata": {},
   "outputs": [],
   "source": [
    "# Since we don't have any information regarding the current occupation of the customer, we can add a new category - \"No information\" for the null values\n",
    "\n",
    "df[\"What is your current occupation\"] = df[\"What is your current occupation\"].replace(np.nan, \"No Information\")"
   ]
  },
  {
   "cell_type": "markdown",
   "id": "658831e8",
   "metadata": {},
   "source": [
    "##### What matters most to you in choosing a course"
   ]
  },
  {
   "cell_type": "code",
   "execution_count": 30,
   "id": "87a71792",
   "metadata": {},
   "outputs": [
    {
     "data": {
      "text/plain": [
       "Better Career Prospects      6528\n",
       "Flexibility & Convenience       2\n",
       "Other                           1\n",
       "Name: What matters most to you in choosing a course, dtype: int64"
      ]
     },
     "execution_count": 30,
     "metadata": {},
     "output_type": "execute_result"
    }
   ],
   "source": [
    "# Checking the value counts for \"What matters most to you in choosing a course\"\n",
    "\n",
    "df[\"What matters most to you in choosing a course\"].value_counts()"
   ]
  },
  {
   "cell_type": "code",
   "execution_count": 31,
   "id": "f9ca273b",
   "metadata": {},
   "outputs": [],
   "source": [
    "# \"Better Career Prospects\" accounts for almost all the data points in \"What matters most to you in choosing a course\" column\n",
    "# Moreover, this column has 29% missing values, hence we can drop the column\n",
    "\n",
    "df = df.drop([\"What matters most to you in choosing a course\"], axis = 1)"
   ]
  },
  {
   "cell_type": "code",
   "execution_count": 32,
   "id": "231bc3e7",
   "metadata": {},
   "outputs": [
    {
     "name": "stdout",
     "output_type": "stream",
     "text": [
      "Prospect ID                                 0.0\n",
      "Lead Number                                 0.0\n",
      "Lead Origin                                 0.0\n",
      "Lead Source                                 0.0\n",
      "Do Not Email                                0.0\n",
      "Do Not Call                                 0.0\n",
      "Converted                                   0.0\n",
      "TotalVisits                                 0.0\n",
      "Total Time Spent on Website                 0.0\n",
      "Page Views Per Visit                        0.0\n",
      "Last Activity                               0.0\n",
      "What is your current occupation             0.0\n",
      "Search                                      0.0\n",
      "Magazine                                    0.0\n",
      "Newspaper Article                           0.0\n",
      "X Education Forums                          0.0\n",
      "Newspaper                                   0.0\n",
      "Digital Advertisement                       0.0\n",
      "Through Recommendations                     0.0\n",
      "Receive More Updates About Our Courses      0.0\n",
      "Update me on Supply Chain Content           0.0\n",
      "Get updates on DM Content                   0.0\n",
      "I agree to pay the amount through cheque    0.0\n",
      "A free copy of Mastering The Interview      0.0\n",
      "Last Notable Activity                       0.0\n",
      "dtype: float64\n"
     ]
    }
   ],
   "source": [
    "# Checking the percentage of Null Values in each column after dropping some columns and Imputing missing values in some columns \n",
    "\n",
    "missing = round(100*(df.isnull().sum()/len(df.index)), 2)\n",
    "print(missing)"
   ]
  },
  {
   "cell_type": "code",
   "execution_count": 33,
   "id": "65297f65",
   "metadata": {},
   "outputs": [
    {
     "data": {
      "text/plain": [
       "(9240, 25)"
      ]
     },
     "execution_count": 33,
     "metadata": {},
     "output_type": "execute_result"
    }
   ],
   "source": [
    "df.shape"
   ]
  },
  {
   "cell_type": "markdown",
   "id": "22a6b6d3",
   "metadata": {},
   "source": [
    "#### Outlier Treatment"
   ]
  },
  {
   "cell_type": "code",
   "execution_count": 34,
   "id": "bee82e56",
   "metadata": {},
   "outputs": [
    {
     "data": {
      "text/html": [
       "<div>\n",
       "<style scoped>\n",
       "    .dataframe tbody tr th:only-of-type {\n",
       "        vertical-align: middle;\n",
       "    }\n",
       "\n",
       "    .dataframe tbody tr th {\n",
       "        vertical-align: top;\n",
       "    }\n",
       "\n",
       "    .dataframe thead th {\n",
       "        text-align: right;\n",
       "    }\n",
       "</style>\n",
       "<table border=\"1\" class=\"dataframe\">\n",
       "  <thead>\n",
       "    <tr style=\"text-align: right;\">\n",
       "      <th></th>\n",
       "      <th>Lead Number</th>\n",
       "      <th>Converted</th>\n",
       "      <th>TotalVisits</th>\n",
       "      <th>Total Time Spent on Website</th>\n",
       "      <th>Page Views Per Visit</th>\n",
       "    </tr>\n",
       "  </thead>\n",
       "  <tbody>\n",
       "    <tr>\n",
       "      <th>count</th>\n",
       "      <td>9240.000000</td>\n",
       "      <td>9240.000000</td>\n",
       "      <td>9240.000000</td>\n",
       "      <td>9240.000000</td>\n",
       "      <td>9240.000000</td>\n",
       "    </tr>\n",
       "    <tr>\n",
       "      <th>mean</th>\n",
       "      <td>617188.435606</td>\n",
       "      <td>0.385390</td>\n",
       "      <td>3.438636</td>\n",
       "      <td>487.698268</td>\n",
       "      <td>2.357440</td>\n",
       "    </tr>\n",
       "    <tr>\n",
       "      <th>std</th>\n",
       "      <td>23405.995698</td>\n",
       "      <td>0.486714</td>\n",
       "      <td>4.819024</td>\n",
       "      <td>548.021466</td>\n",
       "      <td>2.145781</td>\n",
       "    </tr>\n",
       "    <tr>\n",
       "      <th>min</th>\n",
       "      <td>579533.000000</td>\n",
       "      <td>0.000000</td>\n",
       "      <td>0.000000</td>\n",
       "      <td>0.000000</td>\n",
       "      <td>0.000000</td>\n",
       "    </tr>\n",
       "    <tr>\n",
       "      <th>25%</th>\n",
       "      <td>596484.500000</td>\n",
       "      <td>0.000000</td>\n",
       "      <td>1.000000</td>\n",
       "      <td>12.000000</td>\n",
       "      <td>1.000000</td>\n",
       "    </tr>\n",
       "    <tr>\n",
       "      <th>50%</th>\n",
       "      <td>615479.000000</td>\n",
       "      <td>0.000000</td>\n",
       "      <td>3.000000</td>\n",
       "      <td>248.000000</td>\n",
       "      <td>2.000000</td>\n",
       "    </tr>\n",
       "    <tr>\n",
       "      <th>75%</th>\n",
       "      <td>637387.250000</td>\n",
       "      <td>1.000000</td>\n",
       "      <td>5.000000</td>\n",
       "      <td>936.000000</td>\n",
       "      <td>3.000000</td>\n",
       "    </tr>\n",
       "    <tr>\n",
       "      <th>90%</th>\n",
       "      <td>650506.100000</td>\n",
       "      <td>1.000000</td>\n",
       "      <td>7.000000</td>\n",
       "      <td>1380.000000</td>\n",
       "      <td>5.000000</td>\n",
       "    </tr>\n",
       "    <tr>\n",
       "      <th>95%</th>\n",
       "      <td>655404.050000</td>\n",
       "      <td>1.000000</td>\n",
       "      <td>10.000000</td>\n",
       "      <td>1562.000000</td>\n",
       "      <td>6.000000</td>\n",
       "    </tr>\n",
       "    <tr>\n",
       "      <th>99%</th>\n",
       "      <td>659592.980000</td>\n",
       "      <td>1.000000</td>\n",
       "      <td>17.000000</td>\n",
       "      <td>1840.610000</td>\n",
       "      <td>9.000000</td>\n",
       "    </tr>\n",
       "    <tr>\n",
       "      <th>max</th>\n",
       "      <td>660737.000000</td>\n",
       "      <td>1.000000</td>\n",
       "      <td>251.000000</td>\n",
       "      <td>2272.000000</td>\n",
       "      <td>55.000000</td>\n",
       "    </tr>\n",
       "  </tbody>\n",
       "</table>\n",
       "</div>"
      ],
      "text/plain": [
       "         Lead Number    Converted  TotalVisits  Total Time Spent on Website  \\\n",
       "count    9240.000000  9240.000000  9240.000000                  9240.000000   \n",
       "mean   617188.435606     0.385390     3.438636                   487.698268   \n",
       "std     23405.995698     0.486714     4.819024                   548.021466   \n",
       "min    579533.000000     0.000000     0.000000                     0.000000   \n",
       "25%    596484.500000     0.000000     1.000000                    12.000000   \n",
       "50%    615479.000000     0.000000     3.000000                   248.000000   \n",
       "75%    637387.250000     1.000000     5.000000                   936.000000   \n",
       "90%    650506.100000     1.000000     7.000000                  1380.000000   \n",
       "95%    655404.050000     1.000000    10.000000                  1562.000000   \n",
       "99%    659592.980000     1.000000    17.000000                  1840.610000   \n",
       "max    660737.000000     1.000000   251.000000                  2272.000000   \n",
       "\n",
       "       Page Views Per Visit  \n",
       "count           9240.000000  \n",
       "mean               2.357440  \n",
       "std                2.145781  \n",
       "min                0.000000  \n",
       "25%                1.000000  \n",
       "50%                2.000000  \n",
       "75%                3.000000  \n",
       "90%                5.000000  \n",
       "95%                6.000000  \n",
       "99%                9.000000  \n",
       "max               55.000000  "
      ]
     },
     "execution_count": 34,
     "metadata": {},
     "output_type": "execute_result"
    }
   ],
   "source": [
    "# Checking for Outliers at 25%, 50%, 75%, 90%, 95%  and 99%\n",
    "\n",
    "df.describe(percentiles = [.25, .5, .75, .90, .95, .99])"
   ]
  },
  {
   "cell_type": "markdown",
   "id": "0582a37e",
   "metadata": {},
   "source": [
    "##### Observation: \n",
    "- From the above Table we can clearly observe that \"TotalVisits\" and \"Page Views Per Visit\" columns have outliers."
   ]
  },
  {
   "cell_type": "code",
   "execution_count": 35,
   "id": "2dbb6ea3",
   "metadata": {},
   "outputs": [
    {
     "data": {
      "image/png": "[encoded data removed]",
      "text/plain": [
       "<Figure size 1080x1080 with 5 Axes>"
      ]
     },
     "metadata": {
      "needs_background": "light"
     },
     "output_type": "display_data"
    }
   ],
   "source": [
    "# Visualizing the Outliers of Numeric Columns\n",
    "\n",
    "plt.figure(figsize=(15,15))\n",
    "plt.subplot(2,3,1)\n",
    "sns.boxplot(y = 'Lead Number', palette='Set2', data = df)\n",
    "plt.subplot(2,3,2)\n",
    "sns.boxplot(y = 'Converted', palette='Set2', data = df)\n",
    "plt.subplot(2,3,3)\n",
    "sns.boxplot(y = 'TotalVisits', palette='Set1', data = df)\n",
    "plt.subplot(2,3,4)\n",
    "sns.boxplot(y = 'Total Time Spent on Website', palette='Set2', data = df)\n",
    "plt.subplot(2,3,5)\n",
    "sns.boxplot(y = 'Page Views Per Visit', palette='Set1', data = df)\n",
    "plt.show()"
   ]
  },
  {
   "cell_type": "markdown",
   "id": "e5cc956c",
   "metadata": {},
   "source": [
    "- This subplot also clearly indicates the presence of outliers in \"Total Visits\" and \"Page Views Per Visit\" columns"
   ]
  },
  {
   "cell_type": "code",
   "execution_count": 36,
   "id": "9ff3dc09",
   "metadata": {},
   "outputs": [],
   "source": [
    "# Removing values beyond 99% for \"TotalVisits\" and \"Page Views Per Visit\"\n",
    "\n",
    "TotalVisits = df['TotalVisits'].quantile(0.99)\n",
    "df = df[df[\"TotalVisits\"] < TotalVisits]\n",
    "\n",
    "Page_Views_Per_Visits = df['Page Views Per Visit'].quantile(0.99)\n",
    "df = df[df[\"Page Views Per Visit\"] < Page_Views_Per_Visits]\n"
   ]
  },
  {
   "cell_type": "code",
   "execution_count": 37,
   "id": "0e1f06a4",
   "metadata": {},
   "outputs": [
    {
     "data": {
      "text/html": [
       "<div>\n",
       "<style scoped>\n",
       "    .dataframe tbody tr th:only-of-type {\n",
       "        vertical-align: middle;\n",
       "    }\n",
       "\n",
       "    .dataframe tbody tr th {\n",
       "        vertical-align: top;\n",
       "    }\n",
       "\n",
       "    .dataframe thead th {\n",
       "        text-align: right;\n",
       "    }\n",
       "</style>\n",
       "<table border=\"1\" class=\"dataframe\">\n",
       "  <thead>\n",
       "    <tr style=\"text-align: right;\">\n",
       "      <th></th>\n",
       "      <th>Lead Number</th>\n",
       "      <th>Converted</th>\n",
       "      <th>TotalVisits</th>\n",
       "      <th>Total Time Spent on Website</th>\n",
       "      <th>Page Views Per Visit</th>\n",
       "    </tr>\n",
       "  </thead>\n",
       "  <tbody>\n",
       "    <tr>\n",
       "      <th>count</th>\n",
       "      <td>9029.000000</td>\n",
       "      <td>9029.000000</td>\n",
       "      <td>9029.000000</td>\n",
       "      <td>9029.000000</td>\n",
       "      <td>9029.000000</td>\n",
       "    </tr>\n",
       "    <tr>\n",
       "      <th>mean</th>\n",
       "      <td>617223.248422</td>\n",
       "      <td>0.385092</td>\n",
       "      <td>3.087164</td>\n",
       "      <td>483.133016</td>\n",
       "      <td>2.226383</td>\n",
       "    </tr>\n",
       "    <tr>\n",
       "      <th>std</th>\n",
       "      <td>23372.383121</td>\n",
       "      <td>0.486644</td>\n",
       "      <td>2.801244</td>\n",
       "      <td>547.420675</td>\n",
       "      <td>1.823395</td>\n",
       "    </tr>\n",
       "    <tr>\n",
       "      <th>min</th>\n",
       "      <td>579533.000000</td>\n",
       "      <td>0.000000</td>\n",
       "      <td>0.000000</td>\n",
       "      <td>0.000000</td>\n",
       "      <td>0.000000</td>\n",
       "    </tr>\n",
       "    <tr>\n",
       "      <th>25%</th>\n",
       "      <td>596530.000000</td>\n",
       "      <td>0.000000</td>\n",
       "      <td>1.000000</td>\n",
       "      <td>7.000000</td>\n",
       "      <td>1.000000</td>\n",
       "    </tr>\n",
       "    <tr>\n",
       "      <th>50%</th>\n",
       "      <td>615645.000000</td>\n",
       "      <td>0.000000</td>\n",
       "      <td>3.000000</td>\n",
       "      <td>245.000000</td>\n",
       "      <td>2.000000</td>\n",
       "    </tr>\n",
       "    <tr>\n",
       "      <th>75%</th>\n",
       "      <td>637360.000000</td>\n",
       "      <td>1.000000</td>\n",
       "      <td>4.000000</td>\n",
       "      <td>929.000000</td>\n",
       "      <td>3.000000</td>\n",
       "    </tr>\n",
       "    <tr>\n",
       "      <th>90%</th>\n",
       "      <td>650463.200000</td>\n",
       "      <td>1.000000</td>\n",
       "      <td>7.000000</td>\n",
       "      <td>1378.000000</td>\n",
       "      <td>5.000000</td>\n",
       "    </tr>\n",
       "    <tr>\n",
       "      <th>95%</th>\n",
       "      <td>655351.600000</td>\n",
       "      <td>1.000000</td>\n",
       "      <td>8.000000</td>\n",
       "      <td>1558.000000</td>\n",
       "      <td>6.000000</td>\n",
       "    </tr>\n",
       "    <tr>\n",
       "      <th>99%</th>\n",
       "      <td>659577.800000</td>\n",
       "      <td>1.000000</td>\n",
       "      <td>13.000000</td>\n",
       "      <td>1839.720000</td>\n",
       "      <td>7.000000</td>\n",
       "    </tr>\n",
       "    <tr>\n",
       "      <th>max</th>\n",
       "      <td>660737.000000</td>\n",
       "      <td>1.000000</td>\n",
       "      <td>16.000000</td>\n",
       "      <td>2272.000000</td>\n",
       "      <td>8.000000</td>\n",
       "    </tr>\n",
       "  </tbody>\n",
       "</table>\n",
       "</div>"
      ],
      "text/plain": [
       "         Lead Number    Converted  TotalVisits  Total Time Spent on Website  \\\n",
       "count    9029.000000  9029.000000  9029.000000                  9029.000000   \n",
       "mean   617223.248422     0.385092     3.087164                   483.133016   \n",
       "std     23372.383121     0.486644     2.801244                   547.420675   \n",
       "min    579533.000000     0.000000     0.000000                     0.000000   \n",
       "25%    596530.000000     0.000000     1.000000                     7.000000   \n",
       "50%    615645.000000     0.000000     3.000000                   245.000000   \n",
       "75%    637360.000000     1.000000     4.000000                   929.000000   \n",
       "90%    650463.200000     1.000000     7.000000                  1378.000000   \n",
       "95%    655351.600000     1.000000     8.000000                  1558.000000   \n",
       "99%    659577.800000     1.000000    13.000000                  1839.720000   \n",
       "max    660737.000000     1.000000    16.000000                  2272.000000   \n",
       "\n",
       "       Page Views Per Visit  \n",
       "count           9029.000000  \n",
       "mean               2.226383  \n",
       "std                1.823395  \n",
       "min                0.000000  \n",
       "25%                1.000000  \n",
       "50%                2.000000  \n",
       "75%                3.000000  \n",
       "90%                5.000000  \n",
       "95%                6.000000  \n",
       "99%                7.000000  \n",
       "max                8.000000  "
      ]
     },
     "execution_count": 37,
     "metadata": {},
     "output_type": "execute_result"
    }
   ],
   "source": [
    "# Checking for Outliers at 25%, 50%, 75%, 90%, 95%  and 99%\n",
    "\n",
    "df.describe(percentiles = [.25, .5, .75, .90, .95, .99])"
   ]
  },
  {
   "cell_type": "markdown",
   "id": "bf41ec5f",
   "metadata": {},
   "source": [
    "##### Observation:\n",
    "- The table shows absence of outliers in all the columns."
   ]
  },
  {
   "cell_type": "code",
   "execution_count": 38,
   "id": "6c21ccb6",
   "metadata": {},
   "outputs": [
    {
     "name": "stdout",
     "output_type": "stream",
     "text": [
      "97.72\n"
     ]
    }
   ],
   "source": [
    "# Determining the percentage of Data retained after cleaning\n",
    "\n",
    "Data_Percentage = round(100*(len(df)/9240), 2)\n",
    "print(Data_Percentage)"
   ]
  },
  {
   "cell_type": "markdown",
   "id": "d18cf911",
   "metadata": {},
   "source": [
    "- 97.72% data has been retained after cleaning."
   ]
  },
  {
   "cell_type": "markdown",
   "id": "7548405f",
   "metadata": {},
   "source": [
    "### Step 3: Data Analysis"
   ]
  },
  {
   "cell_type": "code",
   "execution_count": null,
   "id": "4ec865a2",
   "metadata": {},
   "outputs": [],
   "source": []
  },
  {
   "cell_type": "code",
   "execution_count": 39,
   "id": "86b4d51b",
   "metadata": {},
   "outputs": [],
   "source": [
    "# Defining a function to create a barplot \n",
    "\n",
    "def Visualize(column):\n",
    "    plt.figure(figsize=(15,10))\n",
    "    data = df.groupby([column, 'Converted']).size().reset_index(name='Count')\n",
    "    ax = sns.barplot(x=column, y='Count', hue='Converted', data=data, palette='RdBu', edgecolor='black')\n",
    "    ax.set_xlabel(column, fontsize=12)\n",
    "    ax.set_ylabel('Count', fontsize=12)\n",
    "    ax.tick_params(axis='x', rotation=90)\n",
    "    for x in ax.containers:\n",
    "        ax.bar_label(x, label_type='edge', fontsize=10, labels=[f\"{int(v.get_height())}\" if not np.isnan(v.get_height()) else '0' for v in x])\n",
    "    plt.show()\n"
   ]
  },
  {
   "cell_type": "code",
   "execution_count": 40,
   "id": "a49081df",
   "metadata": {
    "scrolled": true
   },
   "outputs": [
    {
     "data": {
      "image/png": "[encoded data removed]",
      "text/plain": [
       "<Figure size 360x360 with 1 Axes>"
      ]
     },
     "metadata": {
      "needs_background": "light"
     },
     "output_type": "display_data"
    }
   ],
   "source": [
    "# Plotting the Conversion column\n",
    "\n",
    "plot = sns.catplot(x=\"Converted\", kind=\"count\", data=df, palette=\"RdBu\");\n",
    "\n",
    "ax = plot.facet_axis(0,0)\n",
    "for p in ax.patches:        \n",
    "    ax.text(p.get_x() + p.get_width()/2., p.get_height(), p.get_height(), fontsize=12, color='blue', ha='center', va='bottom')\n",
    "    \n",
    "plt.show()\n"
   ]
  },
  {
   "cell_type": "markdown",
   "id": "5de76fde",
   "metadata": {},
   "source": [
    "- From the above plot, the conversion rate is around 38.4%"
   ]
  },
  {
   "cell_type": "code",
   "execution_count": 41,
   "id": "41bc5fb7",
   "metadata": {
    "scrolled": true
   },
   "outputs": [
    {
     "data": {
      "image/png": "[encoded data removed]",
      "text/plain": [
       "<Figure size 1080x720 with 1 Axes>"
      ]
     },
     "metadata": {
      "needs_background": "light"
     },
     "output_type": "display_data"
    }
   ],
   "source": [
    "# Plotting the Lead Origin column\n",
    "\n",
    "Visualize(\"Lead Origin\")\n"
   ]
  },
  {
   "cell_type": "markdown",
   "id": "6aa41caf",
   "metadata": {},
   "source": [
    "#### Inference:\n",
    "- Maximum conversions happen from Landing Page Submission followed by API."
   ]
  },
  {
   "cell_type": "code",
   "execution_count": 42,
   "id": "8b4b964c",
   "metadata": {
    "scrolled": true
   },
   "outputs": [
    {
     "data": {
      "image/png": "[encoded data removed]",
      "text/plain": [
       "<Figure size 1080x720 with 1 Axes>"
      ]
     },
     "metadata": {
      "needs_background": "light"
     },
     "output_type": "display_data"
    }
   ],
   "source": [
    "# Plotting the Lead Source column\n",
    "\n",
    "Visualize(\"Lead Source\")"
   ]
  },
  {
   "cell_type": "markdown",
   "id": "f9a8cb4f",
   "metadata": {},
   "source": [
    "#### Inference:\n",
    "- The Lead source for maximum conversions is Google, followed by Direct Traffic. "
   ]
  },
  {
   "cell_type": "code",
   "execution_count": 43,
   "id": "78a1afdb",
   "metadata": {},
   "outputs": [
    {
     "data": {
      "image/png": "[encoded data removed]",
      "text/plain": [
       "<Figure size 1080x720 with 1 Axes>"
      ]
     },
     "metadata": {
      "needs_background": "light"
     },
     "output_type": "display_data"
    }
   ],
   "source": [
    "# Plotting the Do Not Email Column\n",
    "\n",
    "Visualize(\"Do Not Email\")"
   ]
  },
  {
   "cell_type": "markdown",
   "id": "615ff8f2",
   "metadata": {},
   "source": [
    "#### Inference:\n",
    "- Most of the customers who converted, chose the option to recieve Emails. "
   ]
  },
  {
   "cell_type": "code",
   "execution_count": 44,
   "id": "d32b6c9b",
   "metadata": {},
   "outputs": [
    {
     "data": {
      "image/png": "[encoded data removed]",
      "text/plain": [
       "<Figure size 1080x720 with 1 Axes>"
      ]
     },
     "metadata": {
      "needs_background": "light"
     },
     "output_type": "display_data"
    }
   ],
   "source": [
    "# Plotting the Do Not Call\n",
    "\n",
    "Visualize(\"Do Not Call\")"
   ]
  },
  {
   "cell_type": "markdown",
   "id": "54bebe9a",
   "metadata": {},
   "source": [
    "#### Inference:\n",
    "- Almost all the leads converted when they recieved calls. Only 2 leads opted for \"Do Not Call\", and still got converted. "
   ]
  },
  {
   "cell_type": "code",
   "execution_count": 45,
   "id": "c4f815d0",
   "metadata": {},
   "outputs": [
    {
     "data": {
      "image/png": "[encoded data removed]",
      "text/plain": [
       "<Figure size 1080x720 with 1 Axes>"
      ]
     },
     "metadata": {
      "needs_background": "light"
     },
     "output_type": "display_data"
    }
   ],
   "source": [
    "# Plotting the Last Activity Column\n",
    "\n",
    "Visualize(\"Last Activity\")"
   ]
  },
  {
   "cell_type": "markdown",
   "id": "7f1964c4",
   "metadata": {},
   "source": [
    "#### Inference:\n",
    "- Majority of the leads converted after the last activity \"SMS sent\" followed by \"Email Opened\"."
   ]
  },
  {
   "cell_type": "code",
   "execution_count": 46,
   "id": "15b4efc9",
   "metadata": {
    "scrolled": true
   },
   "outputs": [
    {
     "data": {
      "image/png": "[encoded data removed]",
      "text/plain": [
       "<Figure size 1080x720 with 1 Axes>"
      ]
     },
     "metadata": {
      "needs_background": "light"
     },
     "output_type": "display_data"
    }
   ],
   "source": [
    "# Plotting the What is your current occupation Column\n",
    "\n",
    "Visualize(\"What is your current occupation\")"
   ]
  },
  {
   "cell_type": "markdown",
   "id": "cd8ea8ef",
   "metadata": {},
   "source": [
    "#### Inference:\n",
    "- Majority of the leads converted are \"Unemployed\" followed by \"Working Professionals\". Out of the 10 leads from \"Housewife\", all for them converted.  "
   ]
  },
  {
   "cell_type": "code",
   "execution_count": 47,
   "id": "fe996b37",
   "metadata": {},
   "outputs": [
    {
     "data": {
      "image/png": "[encoded data removed]",
      "text/plain": [
       "<Figure size 1080x720 with 1 Axes>"
      ]
     },
     "metadata": {
      "needs_background": "light"
     },
     "output_type": "display_data"
    }
   ],
   "source": [
    "# Plotting the Search Column\n",
    "\n",
    "Visualize(\"Search\")"
   ]
  },
  {
   "cell_type": "markdown",
   "id": "600d4a68",
   "metadata": {},
   "source": [
    "#### Inference:\n",
    "- Majority of the leads are from \"No\" category. The conversion percentage is same from both the categories(\"Yes\" and \"No\"). "
   ]
  },
  {
   "cell_type": "code",
   "execution_count": 48,
   "id": "a3a8d9c9",
   "metadata": {},
   "outputs": [
    {
     "data": {
      "image/png": "[encoded data removed]",
      "text/plain": [
       "<Figure size 1080x720 with 1 Axes>"
      ]
     },
     "metadata": {
      "needs_background": "light"
     },
     "output_type": "display_data"
    }
   ],
   "source": [
    "# Plotting the Newspaper Article Column\n",
    "\n",
    "Visualize(\"Newspaper Article\")"
   ]
  },
  {
   "cell_type": "markdown",
   "id": "448b5d4d",
   "metadata": {},
   "source": [
    "#### Inference:\n",
    "- Newspaper Article column has only one value, that is \"No\". Hence it is safe to drop this column.  "
   ]
  },
  {
   "cell_type": "code",
   "execution_count": 49,
   "id": "8a72d75f",
   "metadata": {
    "scrolled": true
   },
   "outputs": [
    {
     "data": {
      "image/png": "[encoded data removed]",
      "text/plain": [
       "<Figure size 1080x720 with 1 Axes>"
      ]
     },
     "metadata": {
      "needs_background": "light"
     },
     "output_type": "display_data"
    }
   ],
   "source": [
    "# Plotting the Newspaper Column\n",
    "\n",
    "Visualize(\"Newspaper\")"
   ]
  },
  {
   "cell_type": "markdown",
   "id": "1869e496",
   "metadata": {},
   "source": [
    "#### Inference:\n",
    "- Newspaper column has only one row with a \"Yes\" value. Hence it is safe to drop this column as all other datapoints are in \"No\" category. "
   ]
  },
  {
   "cell_type": "code",
   "execution_count": 50,
   "id": "0294446f",
   "metadata": {},
   "outputs": [
    {
     "data": {
      "image/png": "[encoded data removed]",
      "text/plain": [
       "<Figure size 1080x720 with 1 Axes>"
      ]
     },
     "metadata": {
      "needs_background": "light"
     },
     "output_type": "display_data"
    }
   ],
   "source": [
    "# Plotting the X Education Forums Column\n",
    "\n",
    "Visualize(\"X Education Forums\")"
   ]
  },
  {
   "cell_type": "markdown",
   "id": "25baed47",
   "metadata": {},
   "source": [
    "#### Inference:\n",
    "- X Education Forums column has only one value, that is \"No\". Hence it is safe to drop this column. "
   ]
  },
  {
   "cell_type": "code",
   "execution_count": 51,
   "id": "ce75fe26",
   "metadata": {},
   "outputs": [
    {
     "data": {
      "image/png": "[encoded data removed]",
      "text/plain": [
       "<Figure size 1080x720 with 1 Axes>"
      ]
     },
     "metadata": {
      "needs_background": "light"
     },
     "output_type": "display_data"
    }
   ],
   "source": [
    "# Plotting the Digital Advertisement Column\n",
    "\n",
    "Visualize(\"Digital Advertisement\")"
   ]
  },
  {
   "cell_type": "markdown",
   "id": "1b0d1b6e",
   "metadata": {},
   "source": [
    "#### Inference:\n",
    "- We can observe that there were only two leads from Digital Advertisement and one lead got converted. Hence, we can drop Digital advertisement column as almost all the datapoints lie in the \"No\" category except for two. "
   ]
  },
  {
   "cell_type": "code",
   "execution_count": 52,
   "id": "7da864b1",
   "metadata": {},
   "outputs": [
    {
     "data": {
      "image/png": "[encoded data removed]",
      "text/plain": [
       "<Figure size 1080x720 with 1 Axes>"
      ]
     },
     "metadata": {
      "needs_background": "light"
     },
     "output_type": "display_data"
    }
   ],
   "source": [
    "# Plotting the Through Recommendations Column\n",
    "\n",
    "Visualize(\"Through Recommendations\")"
   ]
  },
  {
   "cell_type": "markdown",
   "id": "310077bf",
   "metadata": {},
   "source": [
    "#### Inference:\n",
    "- We can observe that there were six leads from recommendations and five leads got converted."
   ]
  },
  {
   "cell_type": "code",
   "execution_count": 53,
   "id": "87121f07",
   "metadata": {},
   "outputs": [
    {
     "data": {
      "image/png": "[encoded data removed]",
      "text/plain": [
       "<Figure size 1080x720 with 1 Axes>"
      ]
     },
     "metadata": {
      "needs_background": "light"
     },
     "output_type": "display_data"
    }
   ],
   "source": [
    "# Plotting the A free copy of Mastering The Interview Column\n",
    "\n",
    "Visualize(\"A free copy of Mastering The Interview\")"
   ]
  },
  {
   "cell_type": "markdown",
   "id": "3f0e6ae4",
   "metadata": {},
   "source": [
    "#### Inference:\n",
    "- We received more number of leads who do no want a free copy of Mastering Interviews. Moreover the conversion rate is also high in the \"No\" category. "
   ]
  },
  {
   "cell_type": "code",
   "execution_count": 54,
   "id": "d826fc72",
   "metadata": {},
   "outputs": [
    {
     "data": {
      "image/png": "[encoded data removed]",
      "text/plain": [
       "<Figure size 1080x720 with 1 Axes>"
      ]
     },
     "metadata": {
      "needs_background": "light"
     },
     "output_type": "display_data"
    }
   ],
   "source": [
    "# Plotting the Last Notable Activity Column\n",
    "\n",
    "Visualize(\"Last Notable Activity\")"
   ]
  },
  {
   "cell_type": "markdown",
   "id": "afb4f192",
   "metadata": {},
   "source": [
    "#### Inference:\n",
    "- The results are very similar to \"Last Activity\" Column. The conversion rate is high for \"SMS Sent\" followed by \"Email Opened\"."
   ]
  },
  {
   "cell_type": "code",
   "execution_count": 55,
   "id": "8381eae6",
   "metadata": {},
   "outputs": [
    {
     "data": {
      "image/png": "[encoded data removed]",
      "text/plain": [
       "<Figure size 1080x1080 with 9 Axes>"
      ]
     },
     "metadata": {
      "needs_background": "light"
     },
     "output_type": "display_data"
    }
   ],
   "source": [
    "# Plotting the columns with only one value \"No\" in all the rows\n",
    "\n",
    "fig, axes = plt.subplots(nrows=3, ncols=3, figsize=(15, 15))\n",
    "\n",
    "columns = [\"Newspaper Article\", \"X Education Forums\", \"Newspaper\", \"Digital Advertisement\", \"Magazine\", \"Receive More Updates About Our Courses\", \"Update me on Supply Chain Content\", \"Get updates on DM Content\", \"I agree to pay the amount through cheque\"]\n",
    "\n",
    "\n",
    "for i, column in enumerate(columns):\n",
    "    row = i // 3  \n",
    "    col = i % 3   \n",
    "    \n",
    "\n",
    "    data = df.groupby([column, 'Converted']).size().reset_index(name='Count')\n",
    "    \n",
    "    ax = sns.barplot(x=column, y='Count', hue='Converted', data=data, palette='RdBu', edgecolor='black', ax=axes[row, col])\n",
    "    ax.set_xlabel(column, fontsize=10)\n",
    "    ax.set_ylabel('Count', fontsize=10)\n",
    "    ax.tick_params(axis='x', rotation=90, labelsize=8)\n",
    "    ax.tick_params(axis='y', labelsize=8)\n",
    "    ax.legend(fontsize=8)\n",
    "    \n",
    "plt.tight_layout()\n",
    "plt.show()"
   ]
  },
  {
   "cell_type": "markdown",
   "id": "96f9a92e",
   "metadata": {},
   "source": [
    "#### Inference:\n",
    "- The plots clearly show that the columns have only single value - \"No\". Hence it is safe to drop the above columns."
   ]
  },
  {
   "cell_type": "code",
   "execution_count": 56,
   "id": "eee47c28",
   "metadata": {},
   "outputs": [],
   "source": [
    "# Dropping the above columns\n",
    "\n",
    "columns = [\"Newspaper Article\", \"X Education Forums\", \"Newspaper\", \"Digital Advertisement\", \"Magazine\", \"Receive More Updates About Our Courses\", \"Update me on Supply Chain Content\", \"Get updates on DM Content\", \"I agree to pay the amount through cheque\"]\n",
    "\n",
    "df = df.drop(columns, axis = 1)"
   ]
  },
  {
   "cell_type": "code",
   "execution_count": 57,
   "id": "f207f42c",
   "metadata": {},
   "outputs": [
    {
     "data": {
      "text/plain": [
       "(9029, 16)"
      ]
     },
     "execution_count": 57,
     "metadata": {},
     "output_type": "execute_result"
    }
   ],
   "source": [
    "# Checking the shape of the dataframe\n",
    "\n",
    "df.shape"
   ]
  },
  {
   "cell_type": "markdown",
   "id": "70feda57",
   "metadata": {},
   "source": [
    "#### Checking the conversions for all numeric values"
   ]
  },
  {
   "cell_type": "code",
   "execution_count": 58,
   "id": "aeef9024",
   "metadata": {},
   "outputs": [
    {
     "data": {
      "image/png": "[encoded data removed]",
      "text/plain": [
       "<Figure size 720x720 with 3 Axes>"
      ]
     },
     "metadata": {
      "needs_background": "light"
     },
     "output_type": "display_data"
    }
   ],
   "source": [
    "plt.figure(figsize=(10,10))\n",
    "plt.subplot(2,2,1)\n",
    "sns.barplot(y = 'TotalVisits', x='Converted', palette='RdBu', data = df)\n",
    "plt.subplot(2,2,2)\n",
    "sns.barplot(y = 'Total Time Spent on Website', x='Converted', palette='RdBu', data = df)\n",
    "plt.subplot(2,2,3)\n",
    "sns.barplot(y = 'Page Views Per Visit', x='Converted', palette='RdBu', data = df)\n",
    "plt.show()"
   ]
  },
  {
   "cell_type": "markdown",
   "id": "a542f7c1",
   "metadata": {},
   "source": [
    "#### Inference:\n",
    "- The conversion rate is more from leads who have spent more time on website. The converted leads have an average of more than 3 Total Visits. In case of Page Views Per Visit it is same for leads who have converted and who haven't. "
   ]
  },
  {
   "cell_type": "markdown",
   "id": "1e2b8823",
   "metadata": {},
   "source": [
    "### Step 4: Data Preparation - Creating Dummies"
   ]
  },
  {
   "cell_type": "code",
   "execution_count": 59,
   "id": "e3fa5dd3",
   "metadata": {},
   "outputs": [],
   "source": [
    "# Converting Binary Variables (Yes/No) to 0/1\n",
    "\n",
    "list_of_variables = ['Do Not Email', 'Do Not Call', 'Search', 'Through Recommendations', 'A free copy of Mastering The Interview']\n",
    "\n",
    "# Defining the map function\n",
    "def binary_map(x):\n",
    "    return x.map({\"Yes\": 1, \"No\": 0})\n",
    "\n",
    "# Applying the function to the columns\n",
    "df[list_of_variables] = df[list_of_variables].apply(binary_map)"
   ]
  },
  {
   "cell_type": "code",
   "execution_count": 60,
   "id": "1659dc4b",
   "metadata": {},
   "outputs": [],
   "source": [
    "# Creating Dummy Variables for the columns Lead Origin, Lead Source, Last Activity, What is your current occupation\n",
    "# and, Last Notable Activity\n",
    "\n",
    "Lead_Origin_dum = pd.get_dummies(df[\"Lead Origin\"],  prefix='LeadOrigin', drop_first = True)\n",
    "Lead_Source_dum = pd.get_dummies(df[\"Lead Source\"], prefix='LeadSource', drop_first = True)\n",
    "Last_Activity_dum = pd.get_dummies(df[\"Last Activity\"], prefix='LastActivity', drop_first = True)\n",
    "What_is_your_current_occupation_dum = pd.get_dummies(df[\"What is your current occupation\"], prefix='CurrentOccupation', drop_first = True)\n",
    "Last_Notable_Activity_dum = pd.get_dummies(df[\"Last Notable Activity\"], prefix='LastNotableActivity', drop_first = True)\n"
   ]
  },
  {
   "cell_type": "code",
   "execution_count": 61,
   "id": "6f27c41b",
   "metadata": {},
   "outputs": [
    {
     "data": {
      "text/html": [
       "<div>\n",
       "<style scoped>\n",
       "    .dataframe tbody tr th:only-of-type {\n",
       "        vertical-align: middle;\n",
       "    }\n",
       "\n",
       "    .dataframe tbody tr th {\n",
       "        vertical-align: top;\n",
       "    }\n",
       "\n",
       "    .dataframe thead th {\n",
       "        text-align: right;\n",
       "    }\n",
       "</style>\n",
       "<table border=\"1\" class=\"dataframe\">\n",
       "  <thead>\n",
       "    <tr style=\"text-align: right;\">\n",
       "      <th></th>\n",
       "      <th>Prospect ID</th>\n",
       "      <th>Lead Number</th>\n",
       "      <th>Lead Origin</th>\n",
       "      <th>Lead Source</th>\n",
       "      <th>Do Not Email</th>\n",
       "      <th>Do Not Call</th>\n",
       "      <th>Converted</th>\n",
       "      <th>TotalVisits</th>\n",
       "      <th>Total Time Spent on Website</th>\n",
       "      <th>Page Views Per Visit</th>\n",
       "      <th>Last Activity</th>\n",
       "      <th>What is your current occupation</th>\n",
       "      <th>Search</th>\n",
       "      <th>Through Recommendations</th>\n",
       "      <th>A free copy of Mastering The Interview</th>\n",
       "      <th>Last Notable Activity</th>\n",
       "    </tr>\n",
       "  </thead>\n",
       "  <tbody>\n",
       "    <tr>\n",
       "      <th>0</th>\n",
       "      <td>7927b2df-8bba-4d29-b9a2-b6e0beafe620</td>\n",
       "      <td>660737</td>\n",
       "      <td>API</td>\n",
       "      <td>Olark Chat</td>\n",
       "      <td>0</td>\n",
       "      <td>0</td>\n",
       "      <td>0</td>\n",
       "      <td>0.0</td>\n",
       "      <td>0</td>\n",
       "      <td>0.0</td>\n",
       "      <td>Page Visited on Website</td>\n",
       "      <td>Unemployed</td>\n",
       "      <td>0</td>\n",
       "      <td>0</td>\n",
       "      <td>0</td>\n",
       "      <td>Modified</td>\n",
       "    </tr>\n",
       "    <tr>\n",
       "      <th>1</th>\n",
       "      <td>2a272436-5132-4136-86fa-dcc88c88f482</td>\n",
       "      <td>660728</td>\n",
       "      <td>API</td>\n",
       "      <td>Organic Search</td>\n",
       "      <td>0</td>\n",
       "      <td>0</td>\n",
       "      <td>0</td>\n",
       "      <td>5.0</td>\n",
       "      <td>674</td>\n",
       "      <td>2.5</td>\n",
       "      <td>Email Opened</td>\n",
       "      <td>Unemployed</td>\n",
       "      <td>0</td>\n",
       "      <td>0</td>\n",
       "      <td>0</td>\n",
       "      <td>Email Opened</td>\n",
       "    </tr>\n",
       "    <tr>\n",
       "      <th>2</th>\n",
       "      <td>8cc8c611-a219-4f35-ad23-fdfd2656bd8a</td>\n",
       "      <td>660727</td>\n",
       "      <td>Landing Page Submission</td>\n",
       "      <td>Direct Traffic</td>\n",
       "      <td>0</td>\n",
       "      <td>0</td>\n",
       "      <td>1</td>\n",
       "      <td>2.0</td>\n",
       "      <td>1532</td>\n",
       "      <td>2.0</td>\n",
       "      <td>Email Opened</td>\n",
       "      <td>Student</td>\n",
       "      <td>0</td>\n",
       "      <td>0</td>\n",
       "      <td>1</td>\n",
       "      <td>Email Opened</td>\n",
       "    </tr>\n",
       "    <tr>\n",
       "      <th>3</th>\n",
       "      <td>0cc2df48-7cf4-4e39-9de9-19797f9b38cc</td>\n",
       "      <td>660719</td>\n",
       "      <td>Landing Page Submission</td>\n",
       "      <td>Direct Traffic</td>\n",
       "      <td>0</td>\n",
       "      <td>0</td>\n",
       "      <td>0</td>\n",
       "      <td>1.0</td>\n",
       "      <td>305</td>\n",
       "      <td>1.0</td>\n",
       "      <td>Unreachable</td>\n",
       "      <td>Unemployed</td>\n",
       "      <td>0</td>\n",
       "      <td>0</td>\n",
       "      <td>0</td>\n",
       "      <td>Modified</td>\n",
       "    </tr>\n",
       "    <tr>\n",
       "      <th>4</th>\n",
       "      <td>3256f628-e534-4826-9d63-4a8b88782852</td>\n",
       "      <td>660681</td>\n",
       "      <td>Landing Page Submission</td>\n",
       "      <td>Google</td>\n",
       "      <td>0</td>\n",
       "      <td>0</td>\n",
       "      <td>1</td>\n",
       "      <td>2.0</td>\n",
       "      <td>1428</td>\n",
       "      <td>1.0</td>\n",
       "      <td>Converted to Lead</td>\n",
       "      <td>Unemployed</td>\n",
       "      <td>0</td>\n",
       "      <td>0</td>\n",
       "      <td>0</td>\n",
       "      <td>Modified</td>\n",
       "    </tr>\n",
       "  </tbody>\n",
       "</table>\n",
       "</div>"
      ],
      "text/plain": [
       "                            Prospect ID  Lead Number              Lead Origin  \\\n",
       "0  7927b2df-8bba-4d29-b9a2-b6e0beafe620       660737                      API   \n",
       "1  2a272436-5132-4136-86fa-dcc88c88f482       660728                      API   \n",
       "2  8cc8c611-a219-4f35-ad23-fdfd2656bd8a       660727  Landing Page Submission   \n",
       "3  0cc2df48-7cf4-4e39-9de9-19797f9b38cc       660719  Landing Page Submission   \n",
       "4  3256f628-e534-4826-9d63-4a8b88782852       660681  Landing Page Submission   \n",
       "\n",
       "      Lead Source  Do Not Email  Do Not Call  Converted  TotalVisits  \\\n",
       "0      Olark Chat             0            0          0          0.0   \n",
       "1  Organic Search             0            0          0          5.0   \n",
       "2  Direct Traffic             0            0          1          2.0   \n",
       "3  Direct Traffic             0            0          0          1.0   \n",
       "4          Google             0            0          1          2.0   \n",
       "\n",
       "   Total Time Spent on Website  Page Views Per Visit            Last Activity  \\\n",
       "0                            0                   0.0  Page Visited on Website   \n",
       "1                          674                   2.5             Email Opened   \n",
       "2                         1532                   2.0             Email Opened   \n",
       "3                          305                   1.0              Unreachable   \n",
       "4                         1428                   1.0        Converted to Lead   \n",
       "\n",
       "  What is your current occupation  Search  Through Recommendations  \\\n",
       "0                      Unemployed       0                        0   \n",
       "1                      Unemployed       0                        0   \n",
       "2                         Student       0                        0   \n",
       "3                      Unemployed       0                        0   \n",
       "4                      Unemployed       0                        0   \n",
       "\n",
       "   A free copy of Mastering The Interview Last Notable Activity  \n",
       "0                                       0              Modified  \n",
       "1                                       0          Email Opened  \n",
       "2                                       1          Email Opened  \n",
       "3                                       0              Modified  \n",
       "4                                       0              Modified  "
      ]
     },
     "execution_count": 61,
     "metadata": {},
     "output_type": "execute_result"
    }
   ],
   "source": [
    "df.head()"
   ]
  },
  {
   "cell_type": "code",
   "execution_count": 62,
   "id": "490adc61",
   "metadata": {},
   "outputs": [],
   "source": [
    "# Merging the dataframe with the dummy variable dataset. \n",
    "\n",
    "dfl = pd.concat([df, Lead_Origin_dum, Lead_Source_dum, Last_Activity_dum, What_is_your_current_occupation_dum, Last_Notable_Activity_dum], axis = 1)"
   ]
  },
  {
   "cell_type": "code",
   "execution_count": 63,
   "id": "30ab0a2b",
   "metadata": {
    "scrolled": true
   },
   "outputs": [
    {
     "data": {
      "text/html": [
       "<div>\n",
       "<style scoped>\n",
       "    .dataframe tbody tr th:only-of-type {\n",
       "        vertical-align: middle;\n",
       "    }\n",
       "\n",
       "    .dataframe tbody tr th {\n",
       "        vertical-align: top;\n",
       "    }\n",
       "\n",
       "    .dataframe thead th {\n",
       "        text-align: right;\n",
       "    }\n",
       "</style>\n",
       "<table border=\"1\" class=\"dataframe\">\n",
       "  <thead>\n",
       "    <tr style=\"text-align: right;\">\n",
       "      <th></th>\n",
       "      <th>Prospect ID</th>\n",
       "      <th>Lead Number</th>\n",
       "      <th>Lead Origin</th>\n",
       "      <th>Lead Source</th>\n",
       "      <th>Do Not Email</th>\n",
       "      <th>Do Not Call</th>\n",
       "      <th>Converted</th>\n",
       "      <th>TotalVisits</th>\n",
       "      <th>Total Time Spent on Website</th>\n",
       "      <th>Page Views Per Visit</th>\n",
       "      <th>...</th>\n",
       "      <th>LastNotableActivity_Form Submitted on Website</th>\n",
       "      <th>LastNotableActivity_Had a Phone Conversation</th>\n",
       "      <th>LastNotableActivity_Modified</th>\n",
       "      <th>LastNotableActivity_Olark Chat Conversation</th>\n",
       "      <th>LastNotableActivity_Page Visited on Website</th>\n",
       "      <th>LastNotableActivity_Resubscribed to emails</th>\n",
       "      <th>LastNotableActivity_SMS Sent</th>\n",
       "      <th>LastNotableActivity_Unreachable</th>\n",
       "      <th>LastNotableActivity_Unsubscribed</th>\n",
       "      <th>LastNotableActivity_View in browser link Clicked</th>\n",
       "    </tr>\n",
       "  </thead>\n",
       "  <tbody>\n",
       "    <tr>\n",
       "      <th>0</th>\n",
       "      <td>7927b2df-8bba-4d29-b9a2-b6e0beafe620</td>\n",
       "      <td>660737</td>\n",
       "      <td>API</td>\n",
       "      <td>Olark Chat</td>\n",
       "      <td>0</td>\n",
       "      <td>0</td>\n",
       "      <td>0</td>\n",
       "      <td>0.0</td>\n",
       "      <td>0</td>\n",
       "      <td>0.0</td>\n",
       "      <td>...</td>\n",
       "      <td>0</td>\n",
       "      <td>0</td>\n",
       "      <td>1</td>\n",
       "      <td>0</td>\n",
       "      <td>0</td>\n",
       "      <td>0</td>\n",
       "      <td>0</td>\n",
       "      <td>0</td>\n",
       "      <td>0</td>\n",
       "      <td>0</td>\n",
       "    </tr>\n",
       "    <tr>\n",
       "      <th>1</th>\n",
       "      <td>2a272436-5132-4136-86fa-dcc88c88f482</td>\n",
       "      <td>660728</td>\n",
       "      <td>API</td>\n",
       "      <td>Organic Search</td>\n",
       "      <td>0</td>\n",
       "      <td>0</td>\n",
       "      <td>0</td>\n",
       "      <td>5.0</td>\n",
       "      <td>674</td>\n",
       "      <td>2.5</td>\n",
       "      <td>...</td>\n",
       "      <td>0</td>\n",
       "      <td>0</td>\n",
       "      <td>0</td>\n",
       "      <td>0</td>\n",
       "      <td>0</td>\n",
       "      <td>0</td>\n",
       "      <td>0</td>\n",
       "      <td>0</td>\n",
       "      <td>0</td>\n",
       "      <td>0</td>\n",
       "    </tr>\n",
       "    <tr>\n",
       "      <th>2</th>\n",
       "      <td>8cc8c611-a219-4f35-ad23-fdfd2656bd8a</td>\n",
       "      <td>660727</td>\n",
       "      <td>Landing Page Submission</td>\n",
       "      <td>Direct Traffic</td>\n",
       "      <td>0</td>\n",
       "      <td>0</td>\n",
       "      <td>1</td>\n",
       "      <td>2.0</td>\n",
       "      <td>1532</td>\n",
       "      <td>2.0</td>\n",
       "      <td>...</td>\n",
       "      <td>0</td>\n",
       "      <td>0</td>\n",
       "      <td>0</td>\n",
       "      <td>0</td>\n",
       "      <td>0</td>\n",
       "      <td>0</td>\n",
       "      <td>0</td>\n",
       "      <td>0</td>\n",
       "      <td>0</td>\n",
       "      <td>0</td>\n",
       "    </tr>\n",
       "    <tr>\n",
       "      <th>3</th>\n",
       "      <td>0cc2df48-7cf4-4e39-9de9-19797f9b38cc</td>\n",
       "      <td>660719</td>\n",
       "      <td>Landing Page Submission</td>\n",
       "      <td>Direct Traffic</td>\n",
       "      <td>0</td>\n",
       "      <td>0</td>\n",
       "      <td>0</td>\n",
       "      <td>1.0</td>\n",
       "      <td>305</td>\n",
       "      <td>1.0</td>\n",
       "      <td>...</td>\n",
       "      <td>0</td>\n",
       "      <td>0</td>\n",
       "      <td>1</td>\n",
       "      <td>0</td>\n",
       "      <td>0</td>\n",
       "      <td>0</td>\n",
       "      <td>0</td>\n",
       "      <td>0</td>\n",
       "      <td>0</td>\n",
       "      <td>0</td>\n",
       "    </tr>\n",
       "    <tr>\n",
       "      <th>4</th>\n",
       "      <td>3256f628-e534-4826-9d63-4a8b88782852</td>\n",
       "      <td>660681</td>\n",
       "      <td>Landing Page Submission</td>\n",
       "      <td>Google</td>\n",
       "      <td>0</td>\n",
       "      <td>0</td>\n",
       "      <td>1</td>\n",
       "      <td>2.0</td>\n",
       "      <td>1428</td>\n",
       "      <td>1.0</td>\n",
       "      <td>...</td>\n",
       "      <td>0</td>\n",
       "      <td>0</td>\n",
       "      <td>1</td>\n",
       "      <td>0</td>\n",
       "      <td>0</td>\n",
       "      <td>0</td>\n",
       "      <td>0</td>\n",
       "      <td>0</td>\n",
       "      <td>0</td>\n",
       "      <td>0</td>\n",
       "    </tr>\n",
       "  </tbody>\n",
       "</table>\n",
       "<p>5 rows × 77 columns</p>\n",
       "</div>"
      ],
      "text/plain": [
       "                            Prospect ID  Lead Number              Lead Origin  \\\n",
       "0  7927b2df-8bba-4d29-b9a2-b6e0beafe620       660737                      API   \n",
       "1  2a272436-5132-4136-86fa-dcc88c88f482       660728                      API   \n",
       "2  8cc8c611-a219-4f35-ad23-fdfd2656bd8a       660727  Landing Page Submission   \n",
       "3  0cc2df48-7cf4-4e39-9de9-19797f9b38cc       660719  Landing Page Submission   \n",
       "4  3256f628-e534-4826-9d63-4a8b88782852       660681  Landing Page Submission   \n",
       "\n",
       "      Lead Source  Do Not Email  Do Not Call  Converted  TotalVisits  \\\n",
       "0      Olark Chat             0            0          0          0.0   \n",
       "1  Organic Search             0            0          0          5.0   \n",
       "2  Direct Traffic             0            0          1          2.0   \n",
       "3  Direct Traffic             0            0          0          1.0   \n",
       "4          Google             0            0          1          2.0   \n",
       "\n",
       "   Total Time Spent on Website  Page Views Per Visit  ...  \\\n",
       "0                            0                   0.0  ...   \n",
       "1                          674                   2.5  ...   \n",
       "2                         1532                   2.0  ...   \n",
       "3                          305                   1.0  ...   \n",
       "4                         1428                   1.0  ...   \n",
       "\n",
       "  LastNotableActivity_Form Submitted on Website  \\\n",
       "0                                             0   \n",
       "1                                             0   \n",
       "2                                             0   \n",
       "3                                             0   \n",
       "4                                             0   \n",
       "\n",
       "  LastNotableActivity_Had a Phone Conversation  LastNotableActivity_Modified  \\\n",
       "0                                            0                             1   \n",
       "1                                            0                             0   \n",
       "2                                            0                             0   \n",
       "3                                            0                             1   \n",
       "4                                            0                             1   \n",
       "\n",
       "   LastNotableActivity_Olark Chat Conversation  \\\n",
       "0                                            0   \n",
       "1                                            0   \n",
       "2                                            0   \n",
       "3                                            0   \n",
       "4                                            0   \n",
       "\n",
       "   LastNotableActivity_Page Visited on Website  \\\n",
       "0                                            0   \n",
       "1                                            0   \n",
       "2                                            0   \n",
       "3                                            0   \n",
       "4                                            0   \n",
       "\n",
       "  LastNotableActivity_Resubscribed to emails  LastNotableActivity_SMS Sent  \\\n",
       "0                                          0                             0   \n",
       "1                                          0                             0   \n",
       "2                                          0                             0   \n",
       "3                                          0                             0   \n",
       "4                                          0                             0   \n",
       "\n",
       "   LastNotableActivity_Unreachable  LastNotableActivity_Unsubscribed  \\\n",
       "0                                0                                 0   \n",
       "1                                0                                 0   \n",
       "2                                0                                 0   \n",
       "3                                0                                 0   \n",
       "4                                0                                 0   \n",
       "\n",
       "   LastNotableActivity_View in browser link Clicked  \n",
       "0                                                 0  \n",
       "1                                                 0  \n",
       "2                                                 0  \n",
       "3                                                 0  \n",
       "4                                                 0  \n",
       "\n",
       "[5 rows x 77 columns]"
      ]
     },
     "execution_count": 63,
     "metadata": {},
     "output_type": "execute_result"
    }
   ],
   "source": [
    "# Viewing the head of the new dataframe after merging\n",
    "\n",
    "dfl.head()"
   ]
  },
  {
   "cell_type": "code",
   "execution_count": 64,
   "id": "69d544fd",
   "metadata": {},
   "outputs": [],
   "source": [
    "# Dropping the unrequired columns\n",
    "\n",
    "unrequired_columns = [\"Prospect ID\", \"Lead Number\", \"Lead Origin\", \"Lead Source\", \"Last Activity\", \"What is your current occupation\", \"Last Notable Activity\"]\n",
    "\n",
    "dfl = dfl.drop(unrequired_columns, axis = 1)"
   ]
  },
  {
   "cell_type": "code",
   "execution_count": 65,
   "id": "8de12d95",
   "metadata": {
    "scrolled": true
   },
   "outputs": [
    {
     "name": "stdout",
     "output_type": "stream",
     "text": [
      "<class 'pandas.core.frame.DataFrame'>\n",
      "Int64Index: 9029 entries, 0 to 9239\n",
      "Data columns (total 70 columns):\n",
      " #   Column                                            Non-Null Count  Dtype  \n",
      "---  ------                                            --------------  -----  \n",
      " 0   Do Not Email                                      9029 non-null   int64  \n",
      " 1   Do Not Call                                       9029 non-null   int64  \n",
      " 2   Converted                                         9029 non-null   int64  \n",
      " 3   TotalVisits                                       9029 non-null   float64\n",
      " 4   Total Time Spent on Website                       9029 non-null   int64  \n",
      " 5   Page Views Per Visit                              9029 non-null   float64\n",
      " 6   Search                                            9029 non-null   int64  \n",
      " 7   Through Recommendations                           9029 non-null   int64  \n",
      " 8   A free copy of Mastering The Interview            9029 non-null   int64  \n",
      " 9   LeadOrigin_Landing Page Submission                9029 non-null   uint8  \n",
      " 10  LeadOrigin_Lead Add Form                          9029 non-null   uint8  \n",
      " 11  LeadOrigin_Lead Import                            9029 non-null   uint8  \n",
      " 12  LeadOrigin_Quick Add Form                         9029 non-null   uint8  \n",
      " 13  LeadSource_Direct Traffic                         9029 non-null   uint8  \n",
      " 14  LeadSource_Facebook                               9029 non-null   uint8  \n",
      " 15  LeadSource_Google                                 9029 non-null   uint8  \n",
      " 16  LeadSource_Live Chat                              9029 non-null   uint8  \n",
      " 17  LeadSource_NC_EDM                                 9029 non-null   uint8  \n",
      " 18  LeadSource_Olark Chat                             9029 non-null   uint8  \n",
      " 19  LeadSource_Organic Search                         9029 non-null   uint8  \n",
      " 20  LeadSource_Pay per Click Ads                      9029 non-null   uint8  \n",
      " 21  LeadSource_Press_Release                          9029 non-null   uint8  \n",
      " 22  LeadSource_Reference                              9029 non-null   uint8  \n",
      " 23  LeadSource_Referral Sites                         9029 non-null   uint8  \n",
      " 24  LeadSource_Social Media                           9029 non-null   uint8  \n",
      " 25  LeadSource_WeLearn                                9029 non-null   uint8  \n",
      " 26  LeadSource_Welingak Website                       9029 non-null   uint8  \n",
      " 27  LeadSource_bing                                   9029 non-null   uint8  \n",
      " 28  LeadSource_blog                                   9029 non-null   uint8  \n",
      " 29  LeadSource_testone                                9029 non-null   uint8  \n",
      " 30  LeadSource_welearnblog_Home                       9029 non-null   uint8  \n",
      " 31  LeadSource_youtubechannel                         9029 non-null   uint8  \n",
      " 32  LastActivity_Converted to Lead                    9029 non-null   uint8  \n",
      " 33  LastActivity_Email Bounced                        9029 non-null   uint8  \n",
      " 34  LastActivity_Email Link Clicked                   9029 non-null   uint8  \n",
      " 35  LastActivity_Email Marked Spam                    9029 non-null   uint8  \n",
      " 36  LastActivity_Email Opened                         9029 non-null   uint8  \n",
      " 37  LastActivity_Email Received                       9029 non-null   uint8  \n",
      " 38  LastActivity_Form Submitted on Website            9029 non-null   uint8  \n",
      " 39  LastActivity_Had a Phone Conversation             9029 non-null   uint8  \n",
      " 40  LastActivity_No Available                         9029 non-null   uint8  \n",
      " 41  LastActivity_Olark Chat Conversation              9029 non-null   uint8  \n",
      " 42  LastActivity_Page Visited on Website              9029 non-null   uint8  \n",
      " 43  LastActivity_Resubscribed to emails               9029 non-null   uint8  \n",
      " 44  LastActivity_SMS Sent                             9029 non-null   uint8  \n",
      " 45  LastActivity_Unreachable                          9029 non-null   uint8  \n",
      " 46  LastActivity_Unsubscribed                         9029 non-null   uint8  \n",
      " 47  LastActivity_View in browser link Clicked         9029 non-null   uint8  \n",
      " 48  LastActivity_Visited Booth in Tradeshow           9029 non-null   uint8  \n",
      " 49  CurrentOccupation_Housewife                       9029 non-null   uint8  \n",
      " 50  CurrentOccupation_No Information                  9029 non-null   uint8  \n",
      " 51  CurrentOccupation_Other                           9029 non-null   uint8  \n",
      " 52  CurrentOccupation_Student                         9029 non-null   uint8  \n",
      " 53  CurrentOccupation_Unemployed                      9029 non-null   uint8  \n",
      " 54  CurrentOccupation_Working Professional            9029 non-null   uint8  \n",
      " 55  LastNotableActivity_Email Bounced                 9029 non-null   uint8  \n",
      " 56  LastNotableActivity_Email Link Clicked            9029 non-null   uint8  \n",
      " 57  LastNotableActivity_Email Marked Spam             9029 non-null   uint8  \n",
      " 58  LastNotableActivity_Email Opened                  9029 non-null   uint8  \n",
      " 59  LastNotableActivity_Email Received                9029 non-null   uint8  \n",
      " 60  LastNotableActivity_Form Submitted on Website     9029 non-null   uint8  \n",
      " 61  LastNotableActivity_Had a Phone Conversation      9029 non-null   uint8  \n",
      " 62  LastNotableActivity_Modified                      9029 non-null   uint8  \n",
      " 63  LastNotableActivity_Olark Chat Conversation       9029 non-null   uint8  \n",
      " 64  LastNotableActivity_Page Visited on Website       9029 non-null   uint8  \n",
      " 65  LastNotableActivity_Resubscribed to emails        9029 non-null   uint8  \n",
      " 66  LastNotableActivity_SMS Sent                      9029 non-null   uint8  \n",
      " 67  LastNotableActivity_Unreachable                   9029 non-null   uint8  \n",
      " 68  LastNotableActivity_Unsubscribed                  9029 non-null   uint8  \n",
      " 69  LastNotableActivity_View in browser link Clicked  9029 non-null   uint8  \n",
      "dtypes: float64(2), int64(7), uint8(61)\n",
      "memory usage: 1.2 MB\n"
     ]
    }
   ],
   "source": [
    "dfl.info()"
   ]
  },
  {
   "cell_type": "markdown",
   "id": "b99c0b67",
   "metadata": {},
   "source": [
    "- The Non-Null Count in the above table proves that no null values are present in the dataset."
   ]
  },
  {
   "cell_type": "code",
   "execution_count": 66,
   "id": "fbac6af5",
   "metadata": {},
   "outputs": [
    {
     "data": {
      "text/plain": [
       "(9029, 70)"
      ]
     },
     "execution_count": 66,
     "metadata": {},
     "output_type": "execute_result"
    }
   ],
   "source": [
    "dfl.shape"
   ]
  },
  {
   "cell_type": "markdown",
   "id": "358d8c17",
   "metadata": {},
   "source": [
    "### Step 5: Test-Train Split"
   ]
  },
  {
   "cell_type": "code",
   "execution_count": 67,
   "id": "caae6911",
   "metadata": {},
   "outputs": [],
   "source": [
    "# Splitting the dataframe into Train and Test sets\n",
    "\n",
    "np.random.seed(0)\n",
    "df_train, df_test = train_test_split(dfl, train_size = 0.7, random_state = 100)"
   ]
  },
  {
   "cell_type": "code",
   "execution_count": 68,
   "id": "616b281d",
   "metadata": {},
   "outputs": [
    {
     "name": "stdout",
     "output_type": "stream",
     "text": [
      "(6320, 70)\n",
      "(2709, 70)\n"
     ]
    }
   ],
   "source": [
    "# Checking the shape of training and testing datasets\n",
    "\n",
    "print(df_train.shape)\n",
    "print(df_test.shape)"
   ]
  },
  {
   "cell_type": "markdown",
   "id": "8c97ecb7",
   "metadata": {},
   "source": [
    "#### Using MinMaxScaler for Rescaling the Features"
   ]
  },
  {
   "cell_type": "code",
   "execution_count": 69,
   "id": "7c970d8f",
   "metadata": {},
   "outputs": [],
   "source": [
    "scaler = MinMaxScaler()"
   ]
  },
  {
   "cell_type": "code",
   "execution_count": 70,
   "id": "cebd1deb",
   "metadata": {},
   "outputs": [],
   "source": [
    "# Apply scaler() to all the columns except the \"yes-no\"(1 - 0) and \"dummy\" variables\n",
    "\n",
    "num_vars = [\"TotalVisits\", \"Total Time Spent on Website\", \"Page Views Per Visit\"]\n",
    "\n",
    "df_train[num_vars] = scaler.fit_transform(df_train[num_vars])\n"
   ]
  },
  {
   "cell_type": "code",
   "execution_count": 71,
   "id": "6c6230df",
   "metadata": {},
   "outputs": [
    {
     "data": {
      "text/html": [
       "<div>\n",
       "<style scoped>\n",
       "    .dataframe tbody tr th:only-of-type {\n",
       "        vertical-align: middle;\n",
       "    }\n",
       "\n",
       "    .dataframe tbody tr th {\n",
       "        vertical-align: top;\n",
       "    }\n",
       "\n",
       "    .dataframe thead th {\n",
       "        text-align: right;\n",
       "    }\n",
       "</style>\n",
       "<table border=\"1\" class=\"dataframe\">\n",
       "  <thead>\n",
       "    <tr style=\"text-align: right;\">\n",
       "      <th></th>\n",
       "      <th>Do Not Email</th>\n",
       "      <th>Do Not Call</th>\n",
       "      <th>Converted</th>\n",
       "      <th>TotalVisits</th>\n",
       "      <th>Total Time Spent on Website</th>\n",
       "      <th>Page Views Per Visit</th>\n",
       "      <th>Search</th>\n",
       "      <th>Through Recommendations</th>\n",
       "      <th>A free copy of Mastering The Interview</th>\n",
       "      <th>LeadOrigin_Landing Page Submission</th>\n",
       "      <th>...</th>\n",
       "      <th>LastNotableActivity_Form Submitted on Website</th>\n",
       "      <th>LastNotableActivity_Had a Phone Conversation</th>\n",
       "      <th>LastNotableActivity_Modified</th>\n",
       "      <th>LastNotableActivity_Olark Chat Conversation</th>\n",
       "      <th>LastNotableActivity_Page Visited on Website</th>\n",
       "      <th>LastNotableActivity_Resubscribed to emails</th>\n",
       "      <th>LastNotableActivity_SMS Sent</th>\n",
       "      <th>LastNotableActivity_Unreachable</th>\n",
       "      <th>LastNotableActivity_Unsubscribed</th>\n",
       "      <th>LastNotableActivity_View in browser link Clicked</th>\n",
       "    </tr>\n",
       "  </thead>\n",
       "  <tbody>\n",
       "    <tr>\n",
       "      <th>5493</th>\n",
       "      <td>0</td>\n",
       "      <td>0</td>\n",
       "      <td>0</td>\n",
       "      <td>0.1250</td>\n",
       "      <td>0.042254</td>\n",
       "      <td>0.250</td>\n",
       "      <td>0</td>\n",
       "      <td>0</td>\n",
       "      <td>1</td>\n",
       "      <td>1</td>\n",
       "      <td>...</td>\n",
       "      <td>0</td>\n",
       "      <td>0</td>\n",
       "      <td>1</td>\n",
       "      <td>0</td>\n",
       "      <td>0</td>\n",
       "      <td>0</td>\n",
       "      <td>0</td>\n",
       "      <td>0</td>\n",
       "      <td>0</td>\n",
       "      <td>0</td>\n",
       "    </tr>\n",
       "    <tr>\n",
       "      <th>8064</th>\n",
       "      <td>0</td>\n",
       "      <td>0</td>\n",
       "      <td>0</td>\n",
       "      <td>0.1875</td>\n",
       "      <td>0.041373</td>\n",
       "      <td>0.375</td>\n",
       "      <td>0</td>\n",
       "      <td>0</td>\n",
       "      <td>0</td>\n",
       "      <td>0</td>\n",
       "      <td>...</td>\n",
       "      <td>0</td>\n",
       "      <td>0</td>\n",
       "      <td>1</td>\n",
       "      <td>0</td>\n",
       "      <td>0</td>\n",
       "      <td>0</td>\n",
       "      <td>0</td>\n",
       "      <td>0</td>\n",
       "      <td>0</td>\n",
       "      <td>0</td>\n",
       "    </tr>\n",
       "    <tr>\n",
       "      <th>4716</th>\n",
       "      <td>1</td>\n",
       "      <td>0</td>\n",
       "      <td>0</td>\n",
       "      <td>0.1875</td>\n",
       "      <td>0.099032</td>\n",
       "      <td>0.375</td>\n",
       "      <td>0</td>\n",
       "      <td>0</td>\n",
       "      <td>1</td>\n",
       "      <td>1</td>\n",
       "      <td>...</td>\n",
       "      <td>0</td>\n",
       "      <td>0</td>\n",
       "      <td>1</td>\n",
       "      <td>0</td>\n",
       "      <td>0</td>\n",
       "      <td>0</td>\n",
       "      <td>0</td>\n",
       "      <td>0</td>\n",
       "      <td>0</td>\n",
       "      <td>0</td>\n",
       "    </tr>\n",
       "    <tr>\n",
       "      <th>9117</th>\n",
       "      <td>0</td>\n",
       "      <td>0</td>\n",
       "      <td>0</td>\n",
       "      <td>0.0000</td>\n",
       "      <td>0.000000</td>\n",
       "      <td>0.000</td>\n",
       "      <td>0</td>\n",
       "      <td>0</td>\n",
       "      <td>0</td>\n",
       "      <td>0</td>\n",
       "      <td>...</td>\n",
       "      <td>0</td>\n",
       "      <td>0</td>\n",
       "      <td>0</td>\n",
       "      <td>0</td>\n",
       "      <td>0</td>\n",
       "      <td>0</td>\n",
       "      <td>0</td>\n",
       "      <td>0</td>\n",
       "      <td>0</td>\n",
       "      <td>0</td>\n",
       "    </tr>\n",
       "    <tr>\n",
       "      <th>2402</th>\n",
       "      <td>0</td>\n",
       "      <td>0</td>\n",
       "      <td>1</td>\n",
       "      <td>0.3750</td>\n",
       "      <td>0.381162</td>\n",
       "      <td>0.250</td>\n",
       "      <td>0</td>\n",
       "      <td>0</td>\n",
       "      <td>0</td>\n",
       "      <td>1</td>\n",
       "      <td>...</td>\n",
       "      <td>0</td>\n",
       "      <td>0</td>\n",
       "      <td>0</td>\n",
       "      <td>0</td>\n",
       "      <td>0</td>\n",
       "      <td>0</td>\n",
       "      <td>0</td>\n",
       "      <td>0</td>\n",
       "      <td>0</td>\n",
       "      <td>0</td>\n",
       "    </tr>\n",
       "  </tbody>\n",
       "</table>\n",
       "<p>5 rows × 70 columns</p>\n",
       "</div>"
      ],
      "text/plain": [
       "      Do Not Email  Do Not Call  Converted  TotalVisits  \\\n",
       "5493             0            0          0       0.1250   \n",
       "8064             0            0          0       0.1875   \n",
       "4716             1            0          0       0.1875   \n",
       "9117             0            0          0       0.0000   \n",
       "2402             0            0          1       0.3750   \n",
       "\n",
       "      Total Time Spent on Website  Page Views Per Visit  Search  \\\n",
       "5493                     0.042254                 0.250       0   \n",
       "8064                     0.041373                 0.375       0   \n",
       "4716                     0.099032                 0.375       0   \n",
       "9117                     0.000000                 0.000       0   \n",
       "2402                     0.381162                 0.250       0   \n",
       "\n",
       "      Through Recommendations  A free copy of Mastering The Interview  \\\n",
       "5493                        0                                       1   \n",
       "8064                        0                                       0   \n",
       "4716                        0                                       1   \n",
       "9117                        0                                       0   \n",
       "2402                        0                                       0   \n",
       "\n",
       "      LeadOrigin_Landing Page Submission  ...  \\\n",
       "5493                                   1  ...   \n",
       "8064                                   0  ...   \n",
       "4716                                   1  ...   \n",
       "9117                                   0  ...   \n",
       "2402                                   1  ...   \n",
       "\n",
       "      LastNotableActivity_Form Submitted on Website  \\\n",
       "5493                                              0   \n",
       "8064                                              0   \n",
       "4716                                              0   \n",
       "9117                                              0   \n",
       "2402                                              0   \n",
       "\n",
       "      LastNotableActivity_Had a Phone Conversation  \\\n",
       "5493                                             0   \n",
       "8064                                             0   \n",
       "4716                                             0   \n",
       "9117                                             0   \n",
       "2402                                             0   \n",
       "\n",
       "      LastNotableActivity_Modified  \\\n",
       "5493                             1   \n",
       "8064                             1   \n",
       "4716                             1   \n",
       "9117                             0   \n",
       "2402                             0   \n",
       "\n",
       "      LastNotableActivity_Olark Chat Conversation  \\\n",
       "5493                                            0   \n",
       "8064                                            0   \n",
       "4716                                            0   \n",
       "9117                                            0   \n",
       "2402                                            0   \n",
       "\n",
       "      LastNotableActivity_Page Visited on Website  \\\n",
       "5493                                            0   \n",
       "8064                                            0   \n",
       "4716                                            0   \n",
       "9117                                            0   \n",
       "2402                                            0   \n",
       "\n",
       "      LastNotableActivity_Resubscribed to emails  \\\n",
       "5493                                           0   \n",
       "8064                                           0   \n",
       "4716                                           0   \n",
       "9117                                           0   \n",
       "2402                                           0   \n",
       "\n",
       "      LastNotableActivity_SMS Sent  LastNotableActivity_Unreachable  \\\n",
       "5493                             0                                0   \n",
       "8064                             0                                0   \n",
       "4716                             0                                0   \n",
       "9117                             0                                0   \n",
       "2402                             0                                0   \n",
       "\n",
       "      LastNotableActivity_Unsubscribed  \\\n",
       "5493                                 0   \n",
       "8064                                 0   \n",
       "4716                                 0   \n",
       "9117                                 0   \n",
       "2402                                 0   \n",
       "\n",
       "      LastNotableActivity_View in browser link Clicked  \n",
       "5493                                                 0  \n",
       "8064                                                 0  \n",
       "4716                                                 0  \n",
       "9117                                                 0  \n",
       "2402                                                 0  \n",
       "\n",
       "[5 rows x 70 columns]"
      ]
     },
     "execution_count": 71,
     "metadata": {},
     "output_type": "execute_result"
    }
   ],
   "source": [
    "# Verifying the scaling in the train set\n",
    "\n",
    "df_train.head()"
   ]
  },
  {
   "cell_type": "code",
   "execution_count": 72,
   "id": "d7843249",
   "metadata": {
    "scrolled": true
   },
   "outputs": [
    {
     "data": {
      "text/html": [
       "<div>\n",
       "<style scoped>\n",
       "    .dataframe tbody tr th:only-of-type {\n",
       "        vertical-align: middle;\n",
       "    }\n",
       "\n",
       "    .dataframe tbody tr th {\n",
       "        vertical-align: top;\n",
       "    }\n",
       "\n",
       "    .dataframe thead th {\n",
       "        text-align: right;\n",
       "    }\n",
       "</style>\n",
       "<table border=\"1\" class=\"dataframe\">\n",
       "  <thead>\n",
       "    <tr style=\"text-align: right;\">\n",
       "      <th></th>\n",
       "      <th>Do Not Email</th>\n",
       "      <th>Do Not Call</th>\n",
       "      <th>Converted</th>\n",
       "      <th>TotalVisits</th>\n",
       "      <th>Total Time Spent on Website</th>\n",
       "      <th>Page Views Per Visit</th>\n",
       "      <th>Search</th>\n",
       "      <th>Through Recommendations</th>\n",
       "      <th>A free copy of Mastering The Interview</th>\n",
       "      <th>LeadOrigin_Landing Page Submission</th>\n",
       "      <th>...</th>\n",
       "      <th>LastNotableActivity_Form Submitted on Website</th>\n",
       "      <th>LastNotableActivity_Had a Phone Conversation</th>\n",
       "      <th>LastNotableActivity_Modified</th>\n",
       "      <th>LastNotableActivity_Olark Chat Conversation</th>\n",
       "      <th>LastNotableActivity_Page Visited on Website</th>\n",
       "      <th>LastNotableActivity_Resubscribed to emails</th>\n",
       "      <th>LastNotableActivity_SMS Sent</th>\n",
       "      <th>LastNotableActivity_Unreachable</th>\n",
       "      <th>LastNotableActivity_Unsubscribed</th>\n",
       "      <th>LastNotableActivity_View in browser link Clicked</th>\n",
       "    </tr>\n",
       "  </thead>\n",
       "  <tbody>\n",
       "    <tr>\n",
       "      <th>count</th>\n",
       "      <td>6320.000000</td>\n",
       "      <td>6320.0</td>\n",
       "      <td>6320.000000</td>\n",
       "      <td>6320.000000</td>\n",
       "      <td>6320.000000</td>\n",
       "      <td>6320.000000</td>\n",
       "      <td>6320.000000</td>\n",
       "      <td>6320.000000</td>\n",
       "      <td>6320.000000</td>\n",
       "      <td>6320.000000</td>\n",
       "      <td>...</td>\n",
       "      <td>6320.0</td>\n",
       "      <td>6320.000000</td>\n",
       "      <td>6320.000000</td>\n",
       "      <td>6320.000000</td>\n",
       "      <td>6320.000000</td>\n",
       "      <td>6320.000000</td>\n",
       "      <td>6320.000000</td>\n",
       "      <td>6320.000000</td>\n",
       "      <td>6320.000000</td>\n",
       "      <td>6320.000000</td>\n",
       "    </tr>\n",
       "    <tr>\n",
       "      <th>mean</th>\n",
       "      <td>0.078006</td>\n",
       "      <td>0.0</td>\n",
       "      <td>0.381487</td>\n",
       "      <td>0.194502</td>\n",
       "      <td>0.212107</td>\n",
       "      <td>0.280978</td>\n",
       "      <td>0.001582</td>\n",
       "      <td>0.000633</td>\n",
       "      <td>0.306487</td>\n",
       "      <td>0.527690</td>\n",
       "      <td>...</td>\n",
       "      <td>0.0</td>\n",
       "      <td>0.001582</td>\n",
       "      <td>0.373418</td>\n",
       "      <td>0.019620</td>\n",
       "      <td>0.032278</td>\n",
       "      <td>0.000158</td>\n",
       "      <td>0.234019</td>\n",
       "      <td>0.003481</td>\n",
       "      <td>0.004589</td>\n",
       "      <td>0.000158</td>\n",
       "    </tr>\n",
       "    <tr>\n",
       "      <th>std</th>\n",
       "      <td>0.268203</td>\n",
       "      <td>0.0</td>\n",
       "      <td>0.485790</td>\n",
       "      <td>0.176284</td>\n",
       "      <td>0.239873</td>\n",
       "      <td>0.229087</td>\n",
       "      <td>0.039750</td>\n",
       "      <td>0.025152</td>\n",
       "      <td>0.461071</td>\n",
       "      <td>0.499272</td>\n",
       "      <td>...</td>\n",
       "      <td>0.0</td>\n",
       "      <td>0.039750</td>\n",
       "      <td>0.483750</td>\n",
       "      <td>0.138702</td>\n",
       "      <td>0.176753</td>\n",
       "      <td>0.012579</td>\n",
       "      <td>0.423418</td>\n",
       "      <td>0.058902</td>\n",
       "      <td>0.067589</td>\n",
       "      <td>0.012579</td>\n",
       "    </tr>\n",
       "    <tr>\n",
       "      <th>min</th>\n",
       "      <td>0.000000</td>\n",
       "      <td>0.0</td>\n",
       "      <td>0.000000</td>\n",
       "      <td>0.000000</td>\n",
       "      <td>0.000000</td>\n",
       "      <td>0.000000</td>\n",
       "      <td>0.000000</td>\n",
       "      <td>0.000000</td>\n",
       "      <td>0.000000</td>\n",
       "      <td>0.000000</td>\n",
       "      <td>...</td>\n",
       "      <td>0.0</td>\n",
       "      <td>0.000000</td>\n",
       "      <td>0.000000</td>\n",
       "      <td>0.000000</td>\n",
       "      <td>0.000000</td>\n",
       "      <td>0.000000</td>\n",
       "      <td>0.000000</td>\n",
       "      <td>0.000000</td>\n",
       "      <td>0.000000</td>\n",
       "      <td>0.000000</td>\n",
       "    </tr>\n",
       "    <tr>\n",
       "      <th>25%</th>\n",
       "      <td>0.000000</td>\n",
       "      <td>0.0</td>\n",
       "      <td>0.000000</td>\n",
       "      <td>0.062500</td>\n",
       "      <td>0.004291</td>\n",
       "      <td>0.125000</td>\n",
       "      <td>0.000000</td>\n",
       "      <td>0.000000</td>\n",
       "      <td>0.000000</td>\n",
       "      <td>0.000000</td>\n",
       "      <td>...</td>\n",
       "      <td>0.0</td>\n",
       "      <td>0.000000</td>\n",
       "      <td>0.000000</td>\n",
       "      <td>0.000000</td>\n",
       "      <td>0.000000</td>\n",
       "      <td>0.000000</td>\n",
       "      <td>0.000000</td>\n",
       "      <td>0.000000</td>\n",
       "      <td>0.000000</td>\n",
       "      <td>0.000000</td>\n",
       "    </tr>\n",
       "    <tr>\n",
       "      <th>50%</th>\n",
       "      <td>0.000000</td>\n",
       "      <td>0.0</td>\n",
       "      <td>0.000000</td>\n",
       "      <td>0.187500</td>\n",
       "      <td>0.105634</td>\n",
       "      <td>0.250000</td>\n",
       "      <td>0.000000</td>\n",
       "      <td>0.000000</td>\n",
       "      <td>0.000000</td>\n",
       "      <td>1.000000</td>\n",
       "      <td>...</td>\n",
       "      <td>0.0</td>\n",
       "      <td>0.000000</td>\n",
       "      <td>0.000000</td>\n",
       "      <td>0.000000</td>\n",
       "      <td>0.000000</td>\n",
       "      <td>0.000000</td>\n",
       "      <td>0.000000</td>\n",
       "      <td>0.000000</td>\n",
       "      <td>0.000000</td>\n",
       "      <td>0.000000</td>\n",
       "    </tr>\n",
       "    <tr>\n",
       "      <th>75%</th>\n",
       "      <td>0.000000</td>\n",
       "      <td>0.0</td>\n",
       "      <td>1.000000</td>\n",
       "      <td>0.250000</td>\n",
       "      <td>0.406690</td>\n",
       "      <td>0.375000</td>\n",
       "      <td>0.000000</td>\n",
       "      <td>0.000000</td>\n",
       "      <td>1.000000</td>\n",
       "      <td>1.000000</td>\n",
       "      <td>...</td>\n",
       "      <td>0.0</td>\n",
       "      <td>0.000000</td>\n",
       "      <td>1.000000</td>\n",
       "      <td>0.000000</td>\n",
       "      <td>0.000000</td>\n",
       "      <td>0.000000</td>\n",
       "      <td>0.000000</td>\n",
       "      <td>0.000000</td>\n",
       "      <td>0.000000</td>\n",
       "      <td>0.000000</td>\n",
       "    </tr>\n",
       "    <tr>\n",
       "      <th>max</th>\n",
       "      <td>1.000000</td>\n",
       "      <td>0.0</td>\n",
       "      <td>1.000000</td>\n",
       "      <td>1.000000</td>\n",
       "      <td>1.000000</td>\n",
       "      <td>1.000000</td>\n",
       "      <td>1.000000</td>\n",
       "      <td>1.000000</td>\n",
       "      <td>1.000000</td>\n",
       "      <td>1.000000</td>\n",
       "      <td>...</td>\n",
       "      <td>0.0</td>\n",
       "      <td>1.000000</td>\n",
       "      <td>1.000000</td>\n",
       "      <td>1.000000</td>\n",
       "      <td>1.000000</td>\n",
       "      <td>1.000000</td>\n",
       "      <td>1.000000</td>\n",
       "      <td>1.000000</td>\n",
       "      <td>1.000000</td>\n",
       "      <td>1.000000</td>\n",
       "    </tr>\n",
       "  </tbody>\n",
       "</table>\n",
       "<p>8 rows × 70 columns</p>\n",
       "</div>"
      ],
      "text/plain": [
       "       Do Not Email  Do Not Call    Converted  TotalVisits  \\\n",
       "count   6320.000000       6320.0  6320.000000  6320.000000   \n",
       "mean       0.078006          0.0     0.381487     0.194502   \n",
       "std        0.268203          0.0     0.485790     0.176284   \n",
       "min        0.000000          0.0     0.000000     0.000000   \n",
       "25%        0.000000          0.0     0.000000     0.062500   \n",
       "50%        0.000000          0.0     0.000000     0.187500   \n",
       "75%        0.000000          0.0     1.000000     0.250000   \n",
       "max        1.000000          0.0     1.000000     1.000000   \n",
       "\n",
       "       Total Time Spent on Website  Page Views Per Visit       Search  \\\n",
       "count                  6320.000000           6320.000000  6320.000000   \n",
       "mean                      0.212107              0.280978     0.001582   \n",
       "std                       0.239873              0.229087     0.039750   \n",
       "min                       0.000000              0.000000     0.000000   \n",
       "25%                       0.004291              0.125000     0.000000   \n",
       "50%                       0.105634              0.250000     0.000000   \n",
       "75%                       0.406690              0.375000     0.000000   \n",
       "max                       1.000000              1.000000     1.000000   \n",
       "\n",
       "       Through Recommendations  A free copy of Mastering The Interview  \\\n",
       "count              6320.000000                             6320.000000   \n",
       "mean                  0.000633                                0.306487   \n",
       "std                   0.025152                                0.461071   \n",
       "min                   0.000000                                0.000000   \n",
       "25%                   0.000000                                0.000000   \n",
       "50%                   0.000000                                0.000000   \n",
       "75%                   0.000000                                1.000000   \n",
       "max                   1.000000                                1.000000   \n",
       "\n",
       "       LeadOrigin_Landing Page Submission  ...  \\\n",
       "count                         6320.000000  ...   \n",
       "mean                             0.527690  ...   \n",
       "std                              0.499272  ...   \n",
       "min                              0.000000  ...   \n",
       "25%                              0.000000  ...   \n",
       "50%                              1.000000  ...   \n",
       "75%                              1.000000  ...   \n",
       "max                              1.000000  ...   \n",
       "\n",
       "       LastNotableActivity_Form Submitted on Website  \\\n",
       "count                                         6320.0   \n",
       "mean                                             0.0   \n",
       "std                                              0.0   \n",
       "min                                              0.0   \n",
       "25%                                              0.0   \n",
       "50%                                              0.0   \n",
       "75%                                              0.0   \n",
       "max                                              0.0   \n",
       "\n",
       "       LastNotableActivity_Had a Phone Conversation  \\\n",
       "count                                   6320.000000   \n",
       "mean                                       0.001582   \n",
       "std                                        0.039750   \n",
       "min                                        0.000000   \n",
       "25%                                        0.000000   \n",
       "50%                                        0.000000   \n",
       "75%                                        0.000000   \n",
       "max                                        1.000000   \n",
       "\n",
       "       LastNotableActivity_Modified  \\\n",
       "count                   6320.000000   \n",
       "mean                       0.373418   \n",
       "std                        0.483750   \n",
       "min                        0.000000   \n",
       "25%                        0.000000   \n",
       "50%                        0.000000   \n",
       "75%                        1.000000   \n",
       "max                        1.000000   \n",
       "\n",
       "       LastNotableActivity_Olark Chat Conversation  \\\n",
       "count                                  6320.000000   \n",
       "mean                                      0.019620   \n",
       "std                                       0.138702   \n",
       "min                                       0.000000   \n",
       "25%                                       0.000000   \n",
       "50%                                       0.000000   \n",
       "75%                                       0.000000   \n",
       "max                                       1.000000   \n",
       "\n",
       "       LastNotableActivity_Page Visited on Website  \\\n",
       "count                                  6320.000000   \n",
       "mean                                      0.032278   \n",
       "std                                       0.176753   \n",
       "min                                       0.000000   \n",
       "25%                                       0.000000   \n",
       "50%                                       0.000000   \n",
       "75%                                       0.000000   \n",
       "max                                       1.000000   \n",
       "\n",
       "       LastNotableActivity_Resubscribed to emails  \\\n",
       "count                                 6320.000000   \n",
       "mean                                     0.000158   \n",
       "std                                      0.012579   \n",
       "min                                      0.000000   \n",
       "25%                                      0.000000   \n",
       "50%                                      0.000000   \n",
       "75%                                      0.000000   \n",
       "max                                      1.000000   \n",
       "\n",
       "       LastNotableActivity_SMS Sent  LastNotableActivity_Unreachable  \\\n",
       "count                   6320.000000                      6320.000000   \n",
       "mean                       0.234019                         0.003481   \n",
       "std                        0.423418                         0.058902   \n",
       "min                        0.000000                         0.000000   \n",
       "25%                        0.000000                         0.000000   \n",
       "50%                        0.000000                         0.000000   \n",
       "75%                        0.000000                         0.000000   \n",
       "max                        1.000000                         1.000000   \n",
       "\n",
       "       LastNotableActivity_Unsubscribed  \\\n",
       "count                       6320.000000   \n",
       "mean                           0.004589   \n",
       "std                            0.067589   \n",
       "min                            0.000000   \n",
       "25%                            0.000000   \n",
       "50%                            0.000000   \n",
       "75%                            0.000000   \n",
       "max                            1.000000   \n",
       "\n",
       "       LastNotableActivity_View in browser link Clicked  \n",
       "count                                       6320.000000  \n",
       "mean                                           0.000158  \n",
       "std                                            0.012579  \n",
       "min                                            0.000000  \n",
       "25%                                            0.000000  \n",
       "50%                                            0.000000  \n",
       "75%                                            0.000000  \n",
       "max                                            1.000000  \n",
       "\n",
       "[8 rows x 70 columns]"
      ]
     },
     "execution_count": 72,
     "metadata": {},
     "output_type": "execute_result"
    }
   ],
   "source": [
    "df_train.describe()"
   ]
  },
  {
   "cell_type": "markdown",
   "id": "edc19159",
   "metadata": {},
   "source": [
    "- We will not be looking at correlation using heat map because there are 70 columns. Due to the huge number of columns we will not be able to infer anything from the heatmap. "
   ]
  },
  {
   "cell_type": "markdown",
   "id": "83953c92",
   "metadata": {},
   "source": [
    "#### Dividing into X and Y sets for the Model Building "
   ]
  },
  {
   "cell_type": "code",
   "execution_count": 73,
   "id": "07497d87",
   "metadata": {},
   "outputs": [],
   "source": [
    "y_train = df_train.pop(\"Converted\")\n",
    "X_train = df_train"
   ]
  },
  {
   "cell_type": "code",
   "execution_count": 74,
   "id": "b374517d",
   "metadata": {},
   "outputs": [],
   "source": [
    "# Recursive Feature Elimination (selects the features that fit the model and removes the features until the specified number is reached.)\n",
    "\n",
    "lm = LogisticRegression()\n",
    "lm.fit(X_train, y_train)\n",
    "\n",
    "rfe = RFE(estimator = lm, n_features_to_select = 20)\n",
    "rfe = rfe.fit(X_train, y_train)"
   ]
  },
  {
   "cell_type": "code",
   "execution_count": 75,
   "id": "434d902d",
   "metadata": {},
   "outputs": [
    {
     "data": {
      "text/plain": [
       "array([ True, False,  True,  True,  True, False, False, False, False,\n",
       "        True, False, False, False, False, False, False, False,  True,\n",
       "       False, False, False, False, False, False, False,  True, False,\n",
       "       False, False, False, False,  True,  True, False, False, False,\n",
       "       False, False, False,  True,  True, False, False, False, False,\n",
       "       False, False, False,  True,  True, False, False, False,  True,\n",
       "       False,  True, False,  True, False, False,  True,  True,  True,\n",
       "        True, False, False, False, False, False])"
      ]
     },
     "execution_count": 75,
     "metadata": {},
     "output_type": "execute_result"
    }
   ],
   "source": [
    "rfe.support_"
   ]
  },
  {
   "cell_type": "code",
   "execution_count": 76,
   "id": "30146372",
   "metadata": {
    "scrolled": true
   },
   "outputs": [
    {
     "data": {
      "text/plain": [
       "[('Do Not Email', True, 1),\n",
       " ('Do Not Call', False, 50),\n",
       " ('TotalVisits', True, 1),\n",
       " ('Total Time Spent on Website', True, 1),\n",
       " ('Page Views Per Visit', True, 1),\n",
       " ('Search', False, 33),\n",
       " ('Through Recommendations', False, 7),\n",
       " ('A free copy of Mastering The Interview', False, 45),\n",
       " ('LeadOrigin_Landing Page Submission', False, 25),\n",
       " ('LeadOrigin_Lead Add Form', True, 1),\n",
       " ('LeadOrigin_Lead Import', False, 32),\n",
       " ('LeadOrigin_Quick Add Form', False, 46),\n",
       " ('LeadSource_Direct Traffic', False, 8),\n",
       " ('LeadSource_Facebook', False, 31),\n",
       " ('LeadSource_Google', False, 11),\n",
       " ('LeadSource_Live Chat', False, 38),\n",
       " ('LeadSource_NC_EDM', False, 14),\n",
       " ('LeadSource_Olark Chat', True, 1),\n",
       " ('LeadSource_Organic Search', False, 9),\n",
       " ('LeadSource_Pay per Click Ads', False, 47),\n",
       " ('LeadSource_Press_Release', False, 43),\n",
       " ('LeadSource_Reference', False, 19),\n",
       " ('LeadSource_Referral Sites', False, 10),\n",
       " ('LeadSource_Social Media', False, 15),\n",
       " ('LeadSource_WeLearn', False, 24),\n",
       " ('LeadSource_Welingak Website', True, 1),\n",
       " ('LeadSource_bing', False, 39),\n",
       " ('LeadSource_blog', False, 30),\n",
       " ('LeadSource_testone', False, 48),\n",
       " ('LeadSource_welearnblog_Home', False, 37),\n",
       " ('LeadSource_youtubechannel', False, 36),\n",
       " ('LastActivity_Converted to Lead', True, 1),\n",
       " ('LastActivity_Email Bounced', True, 1),\n",
       " ('LastActivity_Email Link Clicked', False, 29),\n",
       " ('LastActivity_Email Marked Spam', False, 20),\n",
       " ('LastActivity_Email Opened', False, 16),\n",
       " ('LastActivity_Email Received', False, 44),\n",
       " ('LastActivity_Form Submitted on Website', False, 41),\n",
       " ('LastActivity_Had a Phone Conversation', False, 13),\n",
       " ('LastActivity_No Available', True, 1),\n",
       " ('LastActivity_Olark Chat Conversation', True, 1),\n",
       " ('LastActivity_Page Visited on Website', False, 27),\n",
       " ('LastActivity_Resubscribed to emails', False, 5),\n",
       " ('LastActivity_SMS Sent', False, 4),\n",
       " ('LastActivity_Unreachable', False, 6),\n",
       " ('LastActivity_Unsubscribed', False, 18),\n",
       " ('LastActivity_View in browser link Clicked', False, 2),\n",
       " ('LastActivity_Visited Booth in Tradeshow', False, 40),\n",
       " ('CurrentOccupation_Housewife', True, 1),\n",
       " ('CurrentOccupation_No Information', True, 1),\n",
       " ('CurrentOccupation_Other', False, 23),\n",
       " ('CurrentOccupation_Student', False, 22),\n",
       " ('CurrentOccupation_Unemployed', False, 21),\n",
       " ('CurrentOccupation_Working Professional', True, 1),\n",
       " ('LastNotableActivity_Email Bounced', False, 34),\n",
       " ('LastNotableActivity_Email Link Clicked', True, 1),\n",
       " ('LastNotableActivity_Email Marked Spam', False, 17),\n",
       " ('LastNotableActivity_Email Opened', True, 1),\n",
       " ('LastNotableActivity_Email Received', False, 42),\n",
       " ('LastNotableActivity_Form Submitted on Website', False, 49),\n",
       " ('LastNotableActivity_Had a Phone Conversation', True, 1),\n",
       " ('LastNotableActivity_Modified', True, 1),\n",
       " ('LastNotableActivity_Olark Chat Conversation', True, 1),\n",
       " ('LastNotableActivity_Page Visited on Website', True, 1),\n",
       " ('LastNotableActivity_Resubscribed to emails', False, 12),\n",
       " ('LastNotableActivity_SMS Sent', False, 28),\n",
       " ('LastNotableActivity_Unreachable', False, 3),\n",
       " ('LastNotableActivity_Unsubscribed', False, 35),\n",
       " ('LastNotableActivity_View in browser link Clicked', False, 26)]"
      ]
     },
     "execution_count": 76,
     "metadata": {},
     "output_type": "execute_result"
    }
   ],
   "source": [
    "# Checking the number of variables selected - Format(\"name of the variable\", Boolean value indicating if the feature is selected or not, and a rank indicating the relevance of the feature)\n",
    "\n",
    "list(zip(X_train.columns,rfe.support_,rfe.ranking_))"
   ]
  },
  {
   "cell_type": "code",
   "execution_count": 77,
   "id": "5bdb7ff2",
   "metadata": {},
   "outputs": [
    {
     "name": "stdout",
     "output_type": "stream",
     "text": [
      "Index(['Do Not Email', 'TotalVisits', 'Total Time Spent on Website',\n",
      "       'Page Views Per Visit', 'LeadOrigin_Lead Add Form',\n",
      "       'LeadSource_Olark Chat', 'LeadSource_Welingak Website',\n",
      "       'LastActivity_Converted to Lead', 'LastActivity_Email Bounced',\n",
      "       'LastActivity_No Available', 'LastActivity_Olark Chat Conversation',\n",
      "       'CurrentOccupation_Housewife', 'CurrentOccupation_No Information',\n",
      "       'CurrentOccupation_Working Professional',\n",
      "       'LastNotableActivity_Email Link Clicked',\n",
      "       'LastNotableActivity_Email Opened',\n",
      "       'LastNotableActivity_Had a Phone Conversation',\n",
      "       'LastNotableActivity_Modified',\n",
      "       'LastNotableActivity_Olark Chat Conversation',\n",
      "       'LastNotableActivity_Page Visited on Website'],\n",
      "      dtype='object')\n"
     ]
    }
   ],
   "source": [
    "# Selecting the variables selected by RFE \n",
    "\n",
    "selected_features = X_train.columns[rfe.support_]\n",
    "print(selected_features)"
   ]
  },
  {
   "cell_type": "code",
   "execution_count": 78,
   "id": "60798698",
   "metadata": {},
   "outputs": [],
   "source": [
    "# Creating a dataframe with variables selected by RFE\n",
    "\n",
    "X_train_RFE = X_train[selected_features]"
   ]
  },
  {
   "cell_type": "code",
   "execution_count": 79,
   "id": "fed6d847",
   "metadata": {},
   "outputs": [
    {
     "data": {
      "text/plain": [
       "Index(['Do Not Call', 'Search', 'Through Recommendations',\n",
       "       'A free copy of Mastering The Interview',\n",
       "       'LeadOrigin_Landing Page Submission', 'LeadOrigin_Lead Import',\n",
       "       'LeadOrigin_Quick Add Form', 'LeadSource_Direct Traffic',\n",
       "       'LeadSource_Facebook', 'LeadSource_Google', 'LeadSource_Live Chat',\n",
       "       'LeadSource_NC_EDM', 'LeadSource_Organic Search',\n",
       "       'LeadSource_Pay per Click Ads', 'LeadSource_Press_Release',\n",
       "       'LeadSource_Reference', 'LeadSource_Referral Sites',\n",
       "       'LeadSource_Social Media', 'LeadSource_WeLearn', 'LeadSource_bing',\n",
       "       'LeadSource_blog', 'LeadSource_testone', 'LeadSource_welearnblog_Home',\n",
       "       'LeadSource_youtubechannel', 'LastActivity_Email Link Clicked',\n",
       "       'LastActivity_Email Marked Spam', 'LastActivity_Email Opened',\n",
       "       'LastActivity_Email Received', 'LastActivity_Form Submitted on Website',\n",
       "       'LastActivity_Had a Phone Conversation',\n",
       "       'LastActivity_Page Visited on Website',\n",
       "       'LastActivity_Resubscribed to emails', 'LastActivity_SMS Sent',\n",
       "       'LastActivity_Unreachable', 'LastActivity_Unsubscribed',\n",
       "       'LastActivity_View in browser link Clicked',\n",
       "       'LastActivity_Visited Booth in Tradeshow', 'CurrentOccupation_Other',\n",
       "       'CurrentOccupation_Student', 'CurrentOccupation_Unemployed',\n",
       "       'LastNotableActivity_Email Bounced',\n",
       "       'LastNotableActivity_Email Marked Spam',\n",
       "       'LastNotableActivity_Email Received',\n",
       "       'LastNotableActivity_Form Submitted on Website',\n",
       "       'LastNotableActivity_Resubscribed to emails',\n",
       "       'LastNotableActivity_SMS Sent', 'LastNotableActivity_Unreachable',\n",
       "       'LastNotableActivity_Unsubscribed',\n",
       "       'LastNotableActivity_View in browser link Clicked'],\n",
       "      dtype='object')"
      ]
     },
     "execution_count": 79,
     "metadata": {},
     "output_type": "execute_result"
    }
   ],
   "source": [
    "# Viewing the features that have been rejected by RFE\n",
    "\n",
    "X_train.columns[~rfe.support_]"
   ]
  },
  {
   "cell_type": "code",
   "execution_count": 80,
   "id": "c877ea8e",
   "metadata": {},
   "outputs": [],
   "source": [
    "# Defining a function to create a dataframe that contains the names of all the feature variables and their respective VIFs\n",
    "def VIF(df):\n",
    "    vif = pd.DataFrame()\n",
    "    vif['Features'] = df.columns\n",
    "    vif['VIF'] = [variance_inflation_factor(df.values, i) for i in range(df.shape[1])]\n",
    "    vif['VIF'] = round(vif['VIF'], 2)\n",
    "    vif = vif.sort_values(by = \"VIF\", ascending = False)\n",
    "    return vif"
   ]
  },
  {
   "cell_type": "code",
   "execution_count": 81,
   "id": "53554b61",
   "metadata": {},
   "outputs": [],
   "source": [
    "def Build_Model(cols):\n",
    "    X_train_sm = sm.add_constant(X_train[cols])\n",
    "    lm = sm.GLM(y_train, X_train_sm, family = sm.families.Binomial()).fit()\n",
    "    print(lm.summary())\n",
    "    return lm"
   ]
  },
  {
   "cell_type": "code",
   "execution_count": 82,
   "id": "b9e3544b",
   "metadata": {
    "scrolled": true
   },
   "outputs": [
    {
     "data": {
      "text/html": [
       "<div>\n",
       "<style scoped>\n",
       "    .dataframe tbody tr th:only-of-type {\n",
       "        vertical-align: middle;\n",
       "    }\n",
       "\n",
       "    .dataframe tbody tr th {\n",
       "        vertical-align: top;\n",
       "    }\n",
       "\n",
       "    .dataframe thead th {\n",
       "        text-align: right;\n",
       "    }\n",
       "</style>\n",
       "<table border=\"1\" class=\"dataframe\">\n",
       "  <thead>\n",
       "    <tr style=\"text-align: right;\">\n",
       "      <th></th>\n",
       "      <th>Features</th>\n",
       "      <th>VIF</th>\n",
       "    </tr>\n",
       "  </thead>\n",
       "  <tbody>\n",
       "    <tr>\n",
       "      <th>3</th>\n",
       "      <td>Page Views Per Visit</td>\n",
       "      <td>5.47</td>\n",
       "    </tr>\n",
       "    <tr>\n",
       "      <th>1</th>\n",
       "      <td>TotalVisits</td>\n",
       "      <td>5.13</td>\n",
       "    </tr>\n",
       "    <tr>\n",
       "      <th>17</th>\n",
       "      <td>LastNotableActivity_Modified</td>\n",
       "      <td>2.88</td>\n",
       "    </tr>\n",
       "    <tr>\n",
       "      <th>10</th>\n",
       "      <td>LastActivity_Olark Chat Conversation</td>\n",
       "      <td>2.07</td>\n",
       "    </tr>\n",
       "    <tr>\n",
       "      <th>2</th>\n",
       "      <td>Total Time Spent on Website</td>\n",
       "      <td>2.03</td>\n",
       "    </tr>\n",
       "    <tr>\n",
       "      <th>0</th>\n",
       "      <td>Do Not Email</td>\n",
       "      <td>1.88</td>\n",
       "    </tr>\n",
       "    <tr>\n",
       "      <th>15</th>\n",
       "      <td>LastNotableActivity_Email Opened</td>\n",
       "      <td>1.86</td>\n",
       "    </tr>\n",
       "    <tr>\n",
       "      <th>8</th>\n",
       "      <td>LastActivity_Email Bounced</td>\n",
       "      <td>1.84</td>\n",
       "    </tr>\n",
       "    <tr>\n",
       "      <th>5</th>\n",
       "      <td>LeadSource_Olark Chat</td>\n",
       "      <td>1.80</td>\n",
       "    </tr>\n",
       "    <tr>\n",
       "      <th>4</th>\n",
       "      <td>LeadOrigin_Lead Add Form</td>\n",
       "      <td>1.62</td>\n",
       "    </tr>\n",
       "    <tr>\n",
       "      <th>12</th>\n",
       "      <td>CurrentOccupation_No Information</td>\n",
       "      <td>1.60</td>\n",
       "    </tr>\n",
       "    <tr>\n",
       "      <th>18</th>\n",
       "      <td>LastNotableActivity_Olark Chat Conversation</td>\n",
       "      <td>1.38</td>\n",
       "    </tr>\n",
       "    <tr>\n",
       "      <th>6</th>\n",
       "      <td>LeadSource_Welingak Website</td>\n",
       "      <td>1.29</td>\n",
       "    </tr>\n",
       "    <tr>\n",
       "      <th>7</th>\n",
       "      <td>LastActivity_Converted to Lead</td>\n",
       "      <td>1.28</td>\n",
       "    </tr>\n",
       "    <tr>\n",
       "      <th>13</th>\n",
       "      <td>CurrentOccupation_Working Professional</td>\n",
       "      <td>1.19</td>\n",
       "    </tr>\n",
       "    <tr>\n",
       "      <th>19</th>\n",
       "      <td>LastNotableActivity_Page Visited on Website</td>\n",
       "      <td>1.18</td>\n",
       "    </tr>\n",
       "    <tr>\n",
       "      <th>9</th>\n",
       "      <td>LastActivity_No Available</td>\n",
       "      <td>1.17</td>\n",
       "    </tr>\n",
       "    <tr>\n",
       "      <th>14</th>\n",
       "      <td>LastNotableActivity_Email Link Clicked</td>\n",
       "      <td>1.06</td>\n",
       "    </tr>\n",
       "    <tr>\n",
       "      <th>16</th>\n",
       "      <td>LastNotableActivity_Had a Phone Conversation</td>\n",
       "      <td>1.01</td>\n",
       "    </tr>\n",
       "    <tr>\n",
       "      <th>11</th>\n",
       "      <td>CurrentOccupation_Housewife</td>\n",
       "      <td>1.00</td>\n",
       "    </tr>\n",
       "  </tbody>\n",
       "</table>\n",
       "</div>"
      ],
      "text/plain": [
       "                                        Features   VIF\n",
       "3                           Page Views Per Visit  5.47\n",
       "1                                    TotalVisits  5.13\n",
       "17                  LastNotableActivity_Modified  2.88\n",
       "10          LastActivity_Olark Chat Conversation  2.07\n",
       "2                    Total Time Spent on Website  2.03\n",
       "0                                   Do Not Email  1.88\n",
       "15              LastNotableActivity_Email Opened  1.86\n",
       "8                     LastActivity_Email Bounced  1.84\n",
       "5                          LeadSource_Olark Chat  1.80\n",
       "4                       LeadOrigin_Lead Add Form  1.62\n",
       "12              CurrentOccupation_No Information  1.60\n",
       "18   LastNotableActivity_Olark Chat Conversation  1.38\n",
       "6                    LeadSource_Welingak Website  1.29\n",
       "7                 LastActivity_Converted to Lead  1.28\n",
       "13        CurrentOccupation_Working Professional  1.19\n",
       "19   LastNotableActivity_Page Visited on Website  1.18\n",
       "9                      LastActivity_No Available  1.17\n",
       "14        LastNotableActivity_Email Link Clicked  1.06\n",
       "16  LastNotableActivity_Had a Phone Conversation  1.01\n",
       "11                   CurrentOccupation_Housewife  1.00"
      ]
     },
     "execution_count": 82,
     "metadata": {},
     "output_type": "execute_result"
    }
   ],
   "source": [
    "# Calculating the VIF of X_train_RFE\n",
    "\n",
    "VIF(X_train_RFE)"
   ]
  },
  {
   "cell_type": "markdown",
   "id": "076bd78a",
   "metadata": {},
   "source": [
    "- \"Page Views Per Visit\" and \"TotalVisits\" have high VIF values"
   ]
  },
  {
   "cell_type": "markdown",
   "id": "5ea99bd2",
   "metadata": {},
   "source": [
    "### Step 6: Model Building"
   ]
  },
  {
   "cell_type": "markdown",
   "id": "05193e8f",
   "metadata": {},
   "source": [
    "#### Model -1"
   ]
  },
  {
   "cell_type": "code",
   "execution_count": 83,
   "id": "1a7e05f5",
   "metadata": {
    "scrolled": true
   },
   "outputs": [
    {
     "data": {
      "text/plain": [
       "Index(['Do Not Email', 'TotalVisits', 'Total Time Spent on Website',\n",
       "       'Page Views Per Visit', 'LeadOrigin_Lead Add Form',\n",
       "       'LeadSource_Olark Chat', 'LeadSource_Welingak Website',\n",
       "       'LastActivity_Converted to Lead', 'LastActivity_Email Bounced',\n",
       "       'LastActivity_No Available', 'LastActivity_Olark Chat Conversation',\n",
       "       'CurrentOccupation_Housewife', 'CurrentOccupation_No Information',\n",
       "       'CurrentOccupation_Working Professional',\n",
       "       'LastNotableActivity_Email Link Clicked',\n",
       "       'LastNotableActivity_Email Opened',\n",
       "       'LastNotableActivity_Had a Phone Conversation',\n",
       "       'LastNotableActivity_Modified',\n",
       "       'LastNotableActivity_Olark Chat Conversation',\n",
       "       'LastNotableActivity_Page Visited on Website'],\n",
       "      dtype='object')"
      ]
     },
     "execution_count": 83,
     "metadata": {},
     "output_type": "execute_result"
    }
   ],
   "source": [
    "# Building a model with all the columns in X_train_RFE\n",
    "\n",
    "X_train_RFE.columns"
   ]
  },
  {
   "cell_type": "code",
   "execution_count": 84,
   "id": "6c8f54f3",
   "metadata": {},
   "outputs": [
    {
     "name": "stdout",
     "output_type": "stream",
     "text": [
      "                 Generalized Linear Model Regression Results                  \n",
      "==============================================================================\n",
      "Dep. Variable:              Converted   No. Observations:                 6320\n",
      "Model:                            GLM   Df Residuals:                     6299\n",
      "Model Family:                Binomial   Df Model:                           20\n",
      "Link Function:                  Logit   Scale:                          1.0000\n",
      "Method:                          IRLS   Log-Likelihood:                -2519.2\n",
      "Date:                Sun, 19 Mar 2023   Deviance:                       5038.4\n",
      "Time:                        16:58:07   Pearson chi2:                 6.52e+03\n",
      "No. Iterations:                    21   Pseudo R-squ. (CS):             0.4128\n",
      "Covariance Type:            nonrobust                                         \n",
      "================================================================================================================\n",
      "                                                   coef    std err          z      P>|z|      [0.025      0.975]\n",
      "----------------------------------------------------------------------------------------------------------------\n",
      "const                                           -0.6085      0.121     -5.023      0.000      -0.846      -0.371\n",
      "Do Not Email                                    -1.2795      0.198     -6.463      0.000      -1.668      -0.892\n",
      "TotalVisits                                      1.4807      0.293      5.046      0.000       0.906       2.056\n",
      "Total Time Spent on Website                      4.5851      0.171     26.772      0.000       4.249       4.921\n",
      "Page Views Per Visit                            -0.8963      0.249     -3.597      0.000      -1.385      -0.408\n",
      "LeadOrigin_Lead Add Form                         3.6341      0.230     15.816      0.000       3.184       4.084\n",
      "LeadSource_Olark Chat                            1.3708      0.133     10.304      0.000       1.110       1.632\n",
      "LeadSource_Welingak Website                      2.1301      0.744      2.862      0.004       0.671       3.589\n",
      "LastActivity_Converted to Lead                  -0.8855      0.220     -4.018      0.000      -1.317      -0.454\n",
      "LastActivity_Email Bounced                      -1.1851      0.359     -3.298      0.001      -1.889      -0.481\n",
      "LastActivity_No Available                       -1.6201      0.450     -3.604      0.000      -2.501      -0.739\n",
      "LastActivity_Olark Chat Conversation            -1.2911      0.195     -6.621      0.000      -1.673      -0.909\n",
      "CurrentOccupation_Housewife                     22.8983   1.72e+04      0.001      0.999   -3.38e+04    3.38e+04\n",
      "CurrentOccupation_No Information                -1.1320      0.089    -12.689      0.000      -1.307      -0.957\n",
      "CurrentOccupation_Working Professional           2.3642      0.182     12.990      0.000       2.007       2.721\n",
      "LastNotableActivity_Email Link Clicked          -1.6620      0.260     -6.383      0.000      -2.172      -1.152\n",
      "LastNotableActivity_Email Opened                -1.4012      0.091    -15.469      0.000      -1.579      -1.224\n",
      "LastNotableActivity_Had a Phone Conversation     1.9895      1.120      1.776      0.076      -0.206       4.185\n",
      "LastNotableActivity_Modified                    -1.6599      0.104    -15.939      0.000      -1.864      -1.456\n",
      "LastNotableActivity_Olark Chat Conversation     -1.4315      0.379     -3.780      0.000      -2.174      -0.689\n",
      "LastNotableActivity_Page Visited on Website     -1.9261      0.221     -8.708      0.000      -2.360      -1.493\n",
      "================================================================================================================\n"
     ]
    },
    {
     "data": {
      "text/plain": [
       "<statsmodels.genmod.generalized_linear_model.GLMResultsWrapper at 0x206ed757a00>"
      ]
     },
     "execution_count": 84,
     "metadata": {},
     "output_type": "execute_result"
    }
   ],
   "source": [
    "cols = ['Do Not Email', 'TotalVisits', 'Total Time Spent on Website',\n",
    "       'Page Views Per Visit', 'LeadOrigin_Lead Add Form',\n",
    "       'LeadSource_Olark Chat', 'LeadSource_Welingak Website',\n",
    "       'LastActivity_Converted to Lead', 'LastActivity_Email Bounced',\n",
    "       'LastActivity_No Available', 'LastActivity_Olark Chat Conversation',\n",
    "       'CurrentOccupation_Housewife', 'CurrentOccupation_No Information',\n",
    "       'CurrentOccupation_Working Professional',\n",
    "       'LastNotableActivity_Email Link Clicked',\n",
    "       'LastNotableActivity_Email Opened',\n",
    "       'LastNotableActivity_Had a Phone Conversation',\n",
    "       'LastNotableActivity_Modified',\n",
    "       'LastNotableActivity_Olark Chat Conversation',\n",
    "       'LastNotableActivity_Page Visited on Website']\n",
    "\n",
    "Build_Model(cols)"
   ]
  },
  {
   "cell_type": "code",
   "execution_count": 85,
   "id": "c61b2831",
   "metadata": {},
   "outputs": [],
   "source": [
    "# Dropping \"CurrentOccupation_Housewife\" as it has high p-value, hence insignificant\n",
    "\n",
    "X_train_1 = X_train_RFE.drop([\"CurrentOccupation_Housewife\"], axis = 1)\n"
   ]
  },
  {
   "cell_type": "markdown",
   "id": "44276279",
   "metadata": {},
   "source": [
    "#### Inference:\n",
    "- We have dropped \"CurrentOccupation_Housewife\". Lets build a new model without this column. "
   ]
  },
  {
   "cell_type": "markdown",
   "id": "8eca21ac",
   "metadata": {},
   "source": [
    "#### Model - 2"
   ]
  },
  {
   "cell_type": "code",
   "execution_count": 86,
   "id": "73f52661",
   "metadata": {},
   "outputs": [
    {
     "data": {
      "text/plain": [
       "Index(['Do Not Email', 'TotalVisits', 'Total Time Spent on Website',\n",
       "       'Page Views Per Visit', 'LeadOrigin_Lead Add Form',\n",
       "       'LeadSource_Olark Chat', 'LeadSource_Welingak Website',\n",
       "       'LastActivity_Converted to Lead', 'LastActivity_Email Bounced',\n",
       "       'LastActivity_No Available', 'LastActivity_Olark Chat Conversation',\n",
       "       'CurrentOccupation_No Information',\n",
       "       'CurrentOccupation_Working Professional',\n",
       "       'LastNotableActivity_Email Link Clicked',\n",
       "       'LastNotableActivity_Email Opened',\n",
       "       'LastNotableActivity_Had a Phone Conversation',\n",
       "       'LastNotableActivity_Modified',\n",
       "       'LastNotableActivity_Olark Chat Conversation',\n",
       "       'LastNotableActivity_Page Visited on Website'],\n",
       "      dtype='object')"
      ]
     },
     "execution_count": 86,
     "metadata": {},
     "output_type": "execute_result"
    }
   ],
   "source": [
    "# Building a model with all the columns in X_train_1\n",
    "\n",
    "X_train_1.columns"
   ]
  },
  {
   "cell_type": "code",
   "execution_count": 87,
   "id": "0d347536",
   "metadata": {},
   "outputs": [
    {
     "name": "stdout",
     "output_type": "stream",
     "text": [
      "                 Generalized Linear Model Regression Results                  \n",
      "==============================================================================\n",
      "Dep. Variable:              Converted   No. Observations:                 6320\n",
      "Model:                            GLM   Df Residuals:                     6300\n",
      "Model Family:                Binomial   Df Model:                           19\n",
      "Link Function:                  Logit   Scale:                          1.0000\n",
      "Method:                          IRLS   Log-Likelihood:                -2524.0\n",
      "Date:                Sun, 19 Mar 2023   Deviance:                       5047.9\n",
      "Time:                        16:58:08   Pearson chi2:                 6.53e+03\n",
      "No. Iterations:                     7   Pseudo R-squ. (CS):             0.4119\n",
      "Covariance Type:            nonrobust                                         \n",
      "================================================================================================================\n",
      "                                                   coef    std err          z      P>|z|      [0.025      0.975]\n",
      "----------------------------------------------------------------------------------------------------------------\n",
      "const                                           -0.6010      0.121     -4.965      0.000      -0.838      -0.364\n",
      "Do Not Email                                    -1.2805      0.198     -6.470      0.000      -1.668      -0.893\n",
      "TotalVisits                                      1.4728      0.293      5.022      0.000       0.898       2.048\n",
      "Total Time Spent on Website                      4.5840      0.171     26.794      0.000       4.249       4.919\n",
      "Page Views Per Visit                            -0.9051      0.249     -3.635      0.000      -1.393      -0.417\n",
      "LeadOrigin_Lead Add Form                         3.6305      0.230     15.814      0.000       3.181       4.080\n",
      "LeadSource_Olark Chat                            1.3615      0.133     10.246      0.000       1.101       1.622\n",
      "LeadSource_Welingak Website                      2.1234      0.744      2.853      0.004       0.665       3.582\n",
      "LastActivity_Converted to Lead                  -0.8929      0.220     -4.053      0.000      -1.325      -0.461\n",
      "LastActivity_Email Bounced                      -1.1877      0.359     -3.306      0.001      -1.892      -0.484\n",
      "LastActivity_No Available                       -1.6242      0.449     -3.615      0.000      -2.505      -0.743\n",
      "LastActivity_Olark Chat Conversation            -1.2933      0.195     -6.634      0.000      -1.675      -0.911\n",
      "CurrentOccupation_No Information                -1.1362      0.089    -12.742      0.000      -1.311      -0.961\n",
      "CurrentOccupation_Working Professional           2.3590      0.182     12.963      0.000       2.002       2.716\n",
      "LastNotableActivity_Email Link Clicked          -1.6612      0.260     -6.379      0.000      -2.172      -1.151\n",
      "LastNotableActivity_Email Opened                -1.3939      0.090    -15.404      0.000      -1.571      -1.217\n",
      "LastNotableActivity_Had a Phone Conversation     1.9896      1.120      1.776      0.076      -0.206       4.185\n",
      "LastNotableActivity_Modified                    -1.6555      0.104    -15.910      0.000      -1.859      -1.452\n",
      "LastNotableActivity_Olark Chat Conversation     -1.4264      0.379     -3.766      0.000      -2.169      -0.684\n",
      "LastNotableActivity_Page Visited on Website     -1.9249      0.221     -8.704      0.000      -2.358      -1.491\n",
      "================================================================================================================\n"
     ]
    },
    {
     "data": {
      "text/plain": [
       "<statsmodels.genmod.generalized_linear_model.GLMResultsWrapper at 0x206ee76b250>"
      ]
     },
     "execution_count": 87,
     "metadata": {},
     "output_type": "execute_result"
    }
   ],
   "source": [
    "cols = ['Do Not Email', 'TotalVisits', 'Total Time Spent on Website',\n",
    "       'Page Views Per Visit', 'LeadOrigin_Lead Add Form',\n",
    "       'LeadSource_Olark Chat', 'LeadSource_Welingak Website',\n",
    "       'LastActivity_Converted to Lead', 'LastActivity_Email Bounced',\n",
    "       'LastActivity_No Available', 'LastActivity_Olark Chat Conversation',\n",
    "       'CurrentOccupation_No Information',\n",
    "       'CurrentOccupation_Working Professional',\n",
    "       'LastNotableActivity_Email Link Clicked',\n",
    "       'LastNotableActivity_Email Opened',\n",
    "       'LastNotableActivity_Had a Phone Conversation',\n",
    "       'LastNotableActivity_Modified',\n",
    "       'LastNotableActivity_Olark Chat Conversation',\n",
    "       'LastNotableActivity_Page Visited on Website']\n",
    "\n",
    "Build_Model(cols)"
   ]
  },
  {
   "cell_type": "code",
   "execution_count": 88,
   "id": "3d920a5a",
   "metadata": {},
   "outputs": [],
   "source": [
    "# Dropping \"LastNotableActivity_Had a Phone Conversation\" column as it has high p-value, hence insignificant\n",
    "\n",
    "X_train_1 = X_train_1.drop([\"LastNotableActivity_Had a Phone Conversation\"], axis = 1)\n"
   ]
  },
  {
   "cell_type": "markdown",
   "id": "5aeab9a3",
   "metadata": {},
   "source": [
    "#### Inference:\n",
    "- We have dropped \"LastNotableActivity_Had a Phone Conversation\" column. Lets build a new model without this column."
   ]
  },
  {
   "cell_type": "markdown",
   "id": "3ec0d16d",
   "metadata": {},
   "source": [
    "#### Model - 3"
   ]
  },
  {
   "cell_type": "code",
   "execution_count": 89,
   "id": "edbd8fce",
   "metadata": {},
   "outputs": [
    {
     "data": {
      "text/plain": [
       "Index(['Do Not Email', 'TotalVisits', 'Total Time Spent on Website',\n",
       "       'Page Views Per Visit', 'LeadOrigin_Lead Add Form',\n",
       "       'LeadSource_Olark Chat', 'LeadSource_Welingak Website',\n",
       "       'LastActivity_Converted to Lead', 'LastActivity_Email Bounced',\n",
       "       'LastActivity_No Available', 'LastActivity_Olark Chat Conversation',\n",
       "       'CurrentOccupation_No Information',\n",
       "       'CurrentOccupation_Working Professional',\n",
       "       'LastNotableActivity_Email Link Clicked',\n",
       "       'LastNotableActivity_Email Opened', 'LastNotableActivity_Modified',\n",
       "       'LastNotableActivity_Olark Chat Conversation',\n",
       "       'LastNotableActivity_Page Visited on Website'],\n",
       "      dtype='object')"
      ]
     },
     "execution_count": 89,
     "metadata": {},
     "output_type": "execute_result"
    }
   ],
   "source": [
    "# Building a model with all the columns in X_train_1(updated)\n",
    "\n",
    "X_train_1.columns"
   ]
  },
  {
   "cell_type": "code",
   "execution_count": 90,
   "id": "51c84316",
   "metadata": {},
   "outputs": [
    {
     "name": "stdout",
     "output_type": "stream",
     "text": [
      "                 Generalized Linear Model Regression Results                  \n",
      "==============================================================================\n",
      "Dep. Variable:              Converted   No. Observations:                 6320\n",
      "Model:                            GLM   Df Residuals:                     6301\n",
      "Model Family:                Binomial   Df Model:                           18\n",
      "Link Function:                  Logit   Scale:                          1.0000\n",
      "Method:                          IRLS   Log-Likelihood:                -2526.2\n",
      "Date:                Sun, 19 Mar 2023   Deviance:                       5052.4\n",
      "Time:                        16:58:08   Pearson chi2:                 6.54e+03\n",
      "No. Iterations:                     7   Pseudo R-squ. (CS):             0.4115\n",
      "Covariance Type:            nonrobust                                         \n",
      "===============================================================================================================\n",
      "                                                  coef    std err          z      P>|z|      [0.025      0.975]\n",
      "---------------------------------------------------------------------------------------------------------------\n",
      "const                                          -0.5899      0.121     -4.880      0.000      -0.827      -0.353\n",
      "Do Not Email                                   -1.2889      0.198     -6.512      0.000      -1.677      -0.901\n",
      "TotalVisits                                     1.4853      0.292      5.081      0.000       0.912       2.058\n",
      "Total Time Spent on Website                     4.5760      0.171     26.778      0.000       4.241       4.911\n",
      "Page Views Per Visit                           -0.9036      0.249     -3.635      0.000      -1.391      -0.416\n",
      "LeadOrigin_Lead Add Form                        3.6294      0.230     15.808      0.000       3.179       4.079\n",
      "LeadSource_Olark Chat                           1.3586      0.133     10.226      0.000       1.098       1.619\n",
      "LeadSource_Welingak Website                     2.1233      0.744      2.852      0.004       0.664       3.582\n",
      "LastActivity_Converted to Lead                 -0.8918      0.220     -4.050      0.000      -1.323      -0.460\n",
      "LastActivity_Email Bounced                     -1.1848      0.359     -3.298      0.001      -1.889      -0.481\n",
      "LastActivity_No Available                      -1.6232      0.449     -3.613      0.000      -2.504      -0.743\n",
      "LastActivity_Olark Chat Conversation           -1.2916      0.195     -6.626      0.000      -1.674      -0.910\n",
      "CurrentOccupation_No Information               -1.1359      0.089    -12.742      0.000      -1.311      -0.961\n",
      "CurrentOccupation_Working Professional          2.3560      0.182     12.945      0.000       1.999       2.713\n",
      "LastNotableActivity_Email Link Clicked         -1.6725      0.260     -6.424      0.000      -2.183      -1.162\n",
      "LastNotableActivity_Email Opened               -1.4055      0.090    -15.559      0.000      -1.583      -1.228\n",
      "LastNotableActivity_Modified                   -1.6664      0.104    -16.034      0.000      -1.870      -1.463\n",
      "LastNotableActivity_Olark Chat Conversation    -1.4376      0.379     -3.797      0.000      -2.180      -0.695\n",
      "LastNotableActivity_Page Visited on Website    -1.9379      0.221     -8.769      0.000      -2.371      -1.505\n",
      "===============================================================================================================\n"
     ]
    },
    {
     "data": {
      "text/plain": [
       "<statsmodels.genmod.generalized_linear_model.GLMResultsWrapper at 0x206ee6e3c70>"
      ]
     },
     "execution_count": 90,
     "metadata": {},
     "output_type": "execute_result"
    }
   ],
   "source": [
    "cols = ['Do Not Email', 'TotalVisits', 'Total Time Spent on Website',\n",
    "       'Page Views Per Visit', 'LeadOrigin_Lead Add Form',\n",
    "       'LeadSource_Olark Chat', 'LeadSource_Welingak Website',\n",
    "       'LastActivity_Converted to Lead', 'LastActivity_Email Bounced',\n",
    "       'LastActivity_No Available', 'LastActivity_Olark Chat Conversation',\n",
    "       'CurrentOccupation_No Information',\n",
    "       'CurrentOccupation_Working Professional',\n",
    "       'LastNotableActivity_Email Link Clicked',\n",
    "       'LastNotableActivity_Email Opened', 'LastNotableActivity_Modified',\n",
    "       'LastNotableActivity_Olark Chat Conversation',\n",
    "       'LastNotableActivity_Page Visited on Website']\n",
    "\n",
    "Build_Model(cols)"
   ]
  },
  {
   "cell_type": "markdown",
   "id": "00b7d2a8",
   "metadata": {},
   "source": [
    "#### Inference:\n",
    "- Model 3 seems to have significant p-values.\n",
    "- Checking VIF of the model"
   ]
  },
  {
   "cell_type": "code",
   "execution_count": 91,
   "id": "87ddcf14",
   "metadata": {
    "scrolled": true
   },
   "outputs": [
    {
     "data": {
      "text/html": [
       "<div>\n",
       "<style scoped>\n",
       "    .dataframe tbody tr th:only-of-type {\n",
       "        vertical-align: middle;\n",
       "    }\n",
       "\n",
       "    .dataframe tbody tr th {\n",
       "        vertical-align: top;\n",
       "    }\n",
       "\n",
       "    .dataframe thead th {\n",
       "        text-align: right;\n",
       "    }\n",
       "</style>\n",
       "<table border=\"1\" class=\"dataframe\">\n",
       "  <thead>\n",
       "    <tr style=\"text-align: right;\">\n",
       "      <th></th>\n",
       "      <th>Features</th>\n",
       "      <th>VIF</th>\n",
       "    </tr>\n",
       "  </thead>\n",
       "  <tbody>\n",
       "    <tr>\n",
       "      <th>3</th>\n",
       "      <td>Page Views Per Visit</td>\n",
       "      <td>5.47</td>\n",
       "    </tr>\n",
       "    <tr>\n",
       "      <th>1</th>\n",
       "      <td>TotalVisits</td>\n",
       "      <td>5.13</td>\n",
       "    </tr>\n",
       "    <tr>\n",
       "      <th>15</th>\n",
       "      <td>LastNotableActivity_Modified</td>\n",
       "      <td>2.87</td>\n",
       "    </tr>\n",
       "    <tr>\n",
       "      <th>10</th>\n",
       "      <td>LastActivity_Olark Chat Conversation</td>\n",
       "      <td>2.07</td>\n",
       "    </tr>\n",
       "    <tr>\n",
       "      <th>2</th>\n",
       "      <td>Total Time Spent on Website</td>\n",
       "      <td>2.03</td>\n",
       "    </tr>\n",
       "    <tr>\n",
       "      <th>0</th>\n",
       "      <td>Do Not Email</td>\n",
       "      <td>1.88</td>\n",
       "    </tr>\n",
       "    <tr>\n",
       "      <th>14</th>\n",
       "      <td>LastNotableActivity_Email Opened</td>\n",
       "      <td>1.85</td>\n",
       "    </tr>\n",
       "    <tr>\n",
       "      <th>8</th>\n",
       "      <td>LastActivity_Email Bounced</td>\n",
       "      <td>1.84</td>\n",
       "    </tr>\n",
       "    <tr>\n",
       "      <th>5</th>\n",
       "      <td>LeadSource_Olark Chat</td>\n",
       "      <td>1.80</td>\n",
       "    </tr>\n",
       "    <tr>\n",
       "      <th>4</th>\n",
       "      <td>LeadOrigin_Lead Add Form</td>\n",
       "      <td>1.62</td>\n",
       "    </tr>\n",
       "    <tr>\n",
       "      <th>11</th>\n",
       "      <td>CurrentOccupation_No Information</td>\n",
       "      <td>1.60</td>\n",
       "    </tr>\n",
       "    <tr>\n",
       "      <th>16</th>\n",
       "      <td>LastNotableActivity_Olark Chat Conversation</td>\n",
       "      <td>1.38</td>\n",
       "    </tr>\n",
       "    <tr>\n",
       "      <th>6</th>\n",
       "      <td>LeadSource_Welingak Website</td>\n",
       "      <td>1.29</td>\n",
       "    </tr>\n",
       "    <tr>\n",
       "      <th>7</th>\n",
       "      <td>LastActivity_Converted to Lead</td>\n",
       "      <td>1.28</td>\n",
       "    </tr>\n",
       "    <tr>\n",
       "      <th>12</th>\n",
       "      <td>CurrentOccupation_Working Professional</td>\n",
       "      <td>1.19</td>\n",
       "    </tr>\n",
       "    <tr>\n",
       "      <th>17</th>\n",
       "      <td>LastNotableActivity_Page Visited on Website</td>\n",
       "      <td>1.18</td>\n",
       "    </tr>\n",
       "    <tr>\n",
       "      <th>9</th>\n",
       "      <td>LastActivity_No Available</td>\n",
       "      <td>1.17</td>\n",
       "    </tr>\n",
       "    <tr>\n",
       "      <th>13</th>\n",
       "      <td>LastNotableActivity_Email Link Clicked</td>\n",
       "      <td>1.06</td>\n",
       "    </tr>\n",
       "  </tbody>\n",
       "</table>\n",
       "</div>"
      ],
      "text/plain": [
       "                                       Features   VIF\n",
       "3                          Page Views Per Visit  5.47\n",
       "1                                   TotalVisits  5.13\n",
       "15                 LastNotableActivity_Modified  2.87\n",
       "10         LastActivity_Olark Chat Conversation  2.07\n",
       "2                   Total Time Spent on Website  2.03\n",
       "0                                  Do Not Email  1.88\n",
       "14             LastNotableActivity_Email Opened  1.85\n",
       "8                    LastActivity_Email Bounced  1.84\n",
       "5                         LeadSource_Olark Chat  1.80\n",
       "4                      LeadOrigin_Lead Add Form  1.62\n",
       "11             CurrentOccupation_No Information  1.60\n",
       "16  LastNotableActivity_Olark Chat Conversation  1.38\n",
       "6                   LeadSource_Welingak Website  1.29\n",
       "7                LastActivity_Converted to Lead  1.28\n",
       "12       CurrentOccupation_Working Professional  1.19\n",
       "17  LastNotableActivity_Page Visited on Website  1.18\n",
       "9                     LastActivity_No Available  1.17\n",
       "13       LastNotableActivity_Email Link Clicked  1.06"
      ]
     },
     "execution_count": 91,
     "metadata": {},
     "output_type": "execute_result"
    }
   ],
   "source": [
    "# Calculating VIF for this model\n",
    "\n",
    "VIF(X_train_1)"
   ]
  },
  {
   "cell_type": "markdown",
   "id": "ce68873a",
   "metadata": {},
   "source": [
    "#### Inference: \n",
    "- \"Page Views Per Visit\" and \"TotalVisits\" have higher VIF."
   ]
  },
  {
   "cell_type": "code",
   "execution_count": 92,
   "id": "e581c1c7",
   "metadata": {},
   "outputs": [],
   "source": [
    "# Dropping \"Page Views Per Visit\" column as it has high VIF \n",
    "\n",
    "X_train_1 = X_train_1.drop([\"Page Views Per Visit\"], axis = 1)"
   ]
  },
  {
   "cell_type": "markdown",
   "id": "487ad126",
   "metadata": {},
   "source": [
    "#### Model - 4"
   ]
  },
  {
   "cell_type": "code",
   "execution_count": 93,
   "id": "5f02845d",
   "metadata": {},
   "outputs": [
    {
     "data": {
      "text/plain": [
       "Index(['Do Not Email', 'TotalVisits', 'Total Time Spent on Website',\n",
       "       'LeadOrigin_Lead Add Form', 'LeadSource_Olark Chat',\n",
       "       'LeadSource_Welingak Website', 'LastActivity_Converted to Lead',\n",
       "       'LastActivity_Email Bounced', 'LastActivity_No Available',\n",
       "       'LastActivity_Olark Chat Conversation',\n",
       "       'CurrentOccupation_No Information',\n",
       "       'CurrentOccupation_Working Professional',\n",
       "       'LastNotableActivity_Email Link Clicked',\n",
       "       'LastNotableActivity_Email Opened', 'LastNotableActivity_Modified',\n",
       "       'LastNotableActivity_Olark Chat Conversation',\n",
       "       'LastNotableActivity_Page Visited on Website'],\n",
       "      dtype='object')"
      ]
     },
     "execution_count": 93,
     "metadata": {},
     "output_type": "execute_result"
    }
   ],
   "source": [
    "# Building a model with all the columns in X_train_1(updated)\n",
    "\n",
    "X_train_1.columns"
   ]
  },
  {
   "cell_type": "code",
   "execution_count": 94,
   "id": "5b69b2d5",
   "metadata": {},
   "outputs": [],
   "source": [
    "cols = ['Do Not Email', 'TotalVisits', 'Total Time Spent on Website',\n",
    "       'LeadOrigin_Lead Add Form', 'LeadSource_Olark Chat',\n",
    "       'LeadSource_Welingak Website', 'LastActivity_Converted to Lead',\n",
    "       'LastActivity_Email Bounced', 'LastActivity_No Available',\n",
    "       'LastActivity_Olark Chat Conversation',\n",
    "       'CurrentOccupation_No Information',\n",
    "       'CurrentOccupation_Working Professional',\n",
    "       'LastNotableActivity_Email Link Clicked',\n",
    "       'LastNotableActivity_Email Opened', 'LastNotableActivity_Modified',\n",
    "       'LastNotableActivity_Olark Chat Conversation',\n",
    "       'LastNotableActivity_Page Visited on Website']\n"
   ]
  },
  {
   "cell_type": "code",
   "execution_count": 95,
   "id": "19eee9cd",
   "metadata": {},
   "outputs": [
    {
     "data": {
      "text/html": [
       "<table class=\"simpletable\">\n",
       "<caption>Generalized Linear Model Regression Results</caption>\n",
       "<tr>\n",
       "  <th>Dep. Variable:</th>       <td>Converted</td>    <th>  No. Observations:  </th>  <td>  6320</td> \n",
       "</tr>\n",
       "<tr>\n",
       "  <th>Model:</th>                  <td>GLM</td>       <th>  Df Residuals:      </th>  <td>  6302</td> \n",
       "</tr>\n",
       "<tr>\n",
       "  <th>Model Family:</th>        <td>Binomial</td>     <th>  Df Model:          </th>  <td>    17</td> \n",
       "</tr>\n",
       "<tr>\n",
       "  <th>Link Function:</th>         <td>Logit</td>      <th>  Scale:             </th> <td>  1.0000</td>\n",
       "</tr>\n",
       "<tr>\n",
       "  <th>Method:</th>                <td>IRLS</td>       <th>  Log-Likelihood:    </th> <td> -2532.9</td>\n",
       "</tr>\n",
       "<tr>\n",
       "  <th>Date:</th>            <td>Sun, 19 Mar 2023</td> <th>  Deviance:          </th> <td>  5065.8</td>\n",
       "</tr>\n",
       "<tr>\n",
       "  <th>Time:</th>                <td>16:58:08</td>     <th>  Pearson chi2:      </th> <td>6.57e+03</td>\n",
       "</tr>\n",
       "<tr>\n",
       "  <th>No. Iterations:</th>          <td>7</td>        <th>  Pseudo R-squ. (CS):</th>  <td>0.4102</td> \n",
       "</tr>\n",
       "<tr>\n",
       "  <th>Covariance Type:</th>     <td>nonrobust</td>    <th>                     </th>     <td> </td>   \n",
       "</tr>\n",
       "</table>\n",
       "<table class=\"simpletable\">\n",
       "<tr>\n",
       "                       <td></td>                          <th>coef</th>     <th>std err</th>      <th>z</th>      <th>P>|z|</th>  <th>[0.025</th>    <th>0.975]</th>  \n",
       "</tr>\n",
       "<tr>\n",
       "  <th>const</th>                                       <td>   -0.8058</td> <td>    0.106</td> <td>   -7.626</td> <td> 0.000</td> <td>   -1.013</td> <td>   -0.599</td>\n",
       "</tr>\n",
       "<tr>\n",
       "  <th>Do Not Email</th>                                <td>   -1.3065</td> <td>    0.198</td> <td>   -6.598</td> <td> 0.000</td> <td>   -1.695</td> <td>   -0.918</td>\n",
       "</tr>\n",
       "<tr>\n",
       "  <th>TotalVisits</th>                                 <td>    0.9369</td> <td>    0.250</td> <td>    3.742</td> <td> 0.000</td> <td>    0.446</td> <td>    1.428</td>\n",
       "</tr>\n",
       "<tr>\n",
       "  <th>Total Time Spent on Website</th>                 <td>    4.5689</td> <td>    0.171</td> <td>   26.751</td> <td> 0.000</td> <td>    4.234</td> <td>    4.904</td>\n",
       "</tr>\n",
       "<tr>\n",
       "  <th>LeadOrigin_Lead Add Form</th>                    <td>    3.8169</td> <td>    0.224</td> <td>   17.040</td> <td> 0.000</td> <td>    3.378</td> <td>    4.256</td>\n",
       "</tr>\n",
       "<tr>\n",
       "  <th>LeadSource_Olark Chat</th>                       <td>    1.5488</td> <td>    0.123</td> <td>   12.594</td> <td> 0.000</td> <td>    1.308</td> <td>    1.790</td>\n",
       "</tr>\n",
       "<tr>\n",
       "  <th>LeadSource_Welingak Website</th>                 <td>    2.1293</td> <td>    0.744</td> <td>    2.861</td> <td> 0.004</td> <td>    0.671</td> <td>    3.588</td>\n",
       "</tr>\n",
       "<tr>\n",
       "  <th>LastActivity_Converted to Lead</th>              <td>   -0.8189</td> <td>    0.220</td> <td>   -3.730</td> <td> 0.000</td> <td>   -1.249</td> <td>   -0.389</td>\n",
       "</tr>\n",
       "<tr>\n",
       "  <th>LastActivity_Email Bounced</th>                  <td>   -1.1175</td> <td>    0.359</td> <td>   -3.117</td> <td> 0.002</td> <td>   -1.820</td> <td>   -0.415</td>\n",
       "</tr>\n",
       "<tr>\n",
       "  <th>LastActivity_No Available</th>                   <td>   -1.6980</td> <td>    0.454</td> <td>   -3.740</td> <td> 0.000</td> <td>   -2.588</td> <td>   -0.808</td>\n",
       "</tr>\n",
       "<tr>\n",
       "  <th>LastActivity_Olark Chat Conversation</th>        <td>   -1.2655</td> <td>    0.195</td> <td>   -6.506</td> <td> 0.000</td> <td>   -1.647</td> <td>   -0.884</td>\n",
       "</tr>\n",
       "<tr>\n",
       "  <th>CurrentOccupation_No Information</th>            <td>   -1.1329</td> <td>    0.089</td> <td>  -12.736</td> <td> 0.000</td> <td>   -1.307</td> <td>   -0.959</td>\n",
       "</tr>\n",
       "<tr>\n",
       "  <th>CurrentOccupation_Working Professional</th>      <td>    2.3504</td> <td>    0.182</td> <td>   12.929</td> <td> 0.000</td> <td>    1.994</td> <td>    2.707</td>\n",
       "</tr>\n",
       "<tr>\n",
       "  <th>LastNotableActivity_Email Link Clicked</th>      <td>   -1.6310</td> <td>    0.259</td> <td>   -6.288</td> <td> 0.000</td> <td>   -2.139</td> <td>   -1.123</td>\n",
       "</tr>\n",
       "<tr>\n",
       "  <th>LastNotableActivity_Email Opened</th>            <td>   -1.3862</td> <td>    0.090</td> <td>  -15.405</td> <td> 0.000</td> <td>   -1.563</td> <td>   -1.210</td>\n",
       "</tr>\n",
       "<tr>\n",
       "  <th>LastNotableActivity_Modified</th>                <td>   -1.6574</td> <td>    0.104</td> <td>  -15.992</td> <td> 0.000</td> <td>   -1.860</td> <td>   -1.454</td>\n",
       "</tr>\n",
       "<tr>\n",
       "  <th>LastNotableActivity_Olark Chat Conversation</th> <td>   -1.3982</td> <td>    0.377</td> <td>   -3.712</td> <td> 0.000</td> <td>   -2.136</td> <td>   -0.660</td>\n",
       "</tr>\n",
       "<tr>\n",
       "  <th>LastNotableActivity_Page Visited on Website</th> <td>   -1.8224</td> <td>    0.217</td> <td>   -8.389</td> <td> 0.000</td> <td>   -2.248</td> <td>   -1.397</td>\n",
       "</tr>\n",
       "</table>"
      ],
      "text/plain": [
       "<class 'statsmodels.iolib.summary.Summary'>\n",
       "\"\"\"\n",
       "                 Generalized Linear Model Regression Results                  \n",
       "==============================================================================\n",
       "Dep. Variable:              Converted   No. Observations:                 6320\n",
       "Model:                            GLM   Df Residuals:                     6302\n",
       "Model Family:                Binomial   Df Model:                           17\n",
       "Link Function:                  Logit   Scale:                          1.0000\n",
       "Method:                          IRLS   Log-Likelihood:                -2532.9\n",
       "Date:                Sun, 19 Mar 2023   Deviance:                       5065.8\n",
       "Time:                        16:58:08   Pearson chi2:                 6.57e+03\n",
       "No. Iterations:                     7   Pseudo R-squ. (CS):             0.4102\n",
       "Covariance Type:            nonrobust                                         \n",
       "===============================================================================================================\n",
       "                                                  coef    std err          z      P>|z|      [0.025      0.975]\n",
       "---------------------------------------------------------------------------------------------------------------\n",
       "const                                          -0.8058      0.106     -7.626      0.000      -1.013      -0.599\n",
       "Do Not Email                                   -1.3065      0.198     -6.598      0.000      -1.695      -0.918\n",
       "TotalVisits                                     0.9369      0.250      3.742      0.000       0.446       1.428\n",
       "Total Time Spent on Website                     4.5689      0.171     26.751      0.000       4.234       4.904\n",
       "LeadOrigin_Lead Add Form                        3.8169      0.224     17.040      0.000       3.378       4.256\n",
       "LeadSource_Olark Chat                           1.5488      0.123     12.594      0.000       1.308       1.790\n",
       "LeadSource_Welingak Website                     2.1293      0.744      2.861      0.004       0.671       3.588\n",
       "LastActivity_Converted to Lead                 -0.8189      0.220     -3.730      0.000      -1.249      -0.389\n",
       "LastActivity_Email Bounced                     -1.1175      0.359     -3.117      0.002      -1.820      -0.415\n",
       "LastActivity_No Available                      -1.6980      0.454     -3.740      0.000      -2.588      -0.808\n",
       "LastActivity_Olark Chat Conversation           -1.2655      0.195     -6.506      0.000      -1.647      -0.884\n",
       "CurrentOccupation_No Information               -1.1329      0.089    -12.736      0.000      -1.307      -0.959\n",
       "CurrentOccupation_Working Professional          2.3504      0.182     12.929      0.000       1.994       2.707\n",
       "LastNotableActivity_Email Link Clicked         -1.6310      0.259     -6.288      0.000      -2.139      -1.123\n",
       "LastNotableActivity_Email Opened               -1.3862      0.090    -15.405      0.000      -1.563      -1.210\n",
       "LastNotableActivity_Modified                   -1.6574      0.104    -15.992      0.000      -1.860      -1.454\n",
       "LastNotableActivity_Olark Chat Conversation    -1.3982      0.377     -3.712      0.000      -2.136      -0.660\n",
       "LastNotableActivity_Page Visited on Website    -1.8224      0.217     -8.389      0.000      -2.248      -1.397\n",
       "===============================================================================================================\n",
       "\"\"\""
      ]
     },
     "execution_count": 95,
     "metadata": {},
     "output_type": "execute_result"
    }
   ],
   "source": [
    "X_train_sm = sm.add_constant(X_train_1[cols])\n",
    "logm4 = sm.GLM(y_train,X_train_sm, family = sm.families.Binomial())\n",
    "res = logm4.fit()\n",
    "res.summary()"
   ]
  },
  {
   "cell_type": "code",
   "execution_count": 96,
   "id": "e1099163",
   "metadata": {},
   "outputs": [
    {
     "data": {
      "text/html": [
       "<div>\n",
       "<style scoped>\n",
       "    .dataframe tbody tr th:only-of-type {\n",
       "        vertical-align: middle;\n",
       "    }\n",
       "\n",
       "    .dataframe tbody tr th {\n",
       "        vertical-align: top;\n",
       "    }\n",
       "\n",
       "    .dataframe thead th {\n",
       "        text-align: right;\n",
       "    }\n",
       "</style>\n",
       "<table border=\"1\" class=\"dataframe\">\n",
       "  <thead>\n",
       "    <tr style=\"text-align: right;\">\n",
       "      <th></th>\n",
       "      <th>Features</th>\n",
       "      <th>VIF</th>\n",
       "    </tr>\n",
       "  </thead>\n",
       "  <tbody>\n",
       "    <tr>\n",
       "      <th>14</th>\n",
       "      <td>LastNotableActivity_Modified</td>\n",
       "      <td>2.75</td>\n",
       "    </tr>\n",
       "    <tr>\n",
       "      <th>1</th>\n",
       "      <td>TotalVisits</td>\n",
       "      <td>2.67</td>\n",
       "    </tr>\n",
       "    <tr>\n",
       "      <th>9</th>\n",
       "      <td>LastActivity_Olark Chat Conversation</td>\n",
       "      <td>2.07</td>\n",
       "    </tr>\n",
       "    <tr>\n",
       "      <th>2</th>\n",
       "      <td>Total Time Spent on Website</td>\n",
       "      <td>1.94</td>\n",
       "    </tr>\n",
       "    <tr>\n",
       "      <th>0</th>\n",
       "      <td>Do Not Email</td>\n",
       "      <td>1.86</td>\n",
       "    </tr>\n",
       "    <tr>\n",
       "      <th>7</th>\n",
       "      <td>LastActivity_Email Bounced</td>\n",
       "      <td>1.84</td>\n",
       "    </tr>\n",
       "    <tr>\n",
       "      <th>13</th>\n",
       "      <td>LastNotableActivity_Email Opened</td>\n",
       "      <td>1.77</td>\n",
       "    </tr>\n",
       "    <tr>\n",
       "      <th>4</th>\n",
       "      <td>LeadSource_Olark Chat</td>\n",
       "      <td>1.76</td>\n",
       "    </tr>\n",
       "    <tr>\n",
       "      <th>3</th>\n",
       "      <td>LeadOrigin_Lead Add Form</td>\n",
       "      <td>1.60</td>\n",
       "    </tr>\n",
       "    <tr>\n",
       "      <th>10</th>\n",
       "      <td>CurrentOccupation_No Information</td>\n",
       "      <td>1.59</td>\n",
       "    </tr>\n",
       "    <tr>\n",
       "      <th>15</th>\n",
       "      <td>LastNotableActivity_Olark Chat Conversation</td>\n",
       "      <td>1.38</td>\n",
       "    </tr>\n",
       "    <tr>\n",
       "      <th>5</th>\n",
       "      <td>LeadSource_Welingak Website</td>\n",
       "      <td>1.29</td>\n",
       "    </tr>\n",
       "    <tr>\n",
       "      <th>6</th>\n",
       "      <td>LastActivity_Converted to Lead</td>\n",
       "      <td>1.27</td>\n",
       "    </tr>\n",
       "    <tr>\n",
       "      <th>11</th>\n",
       "      <td>CurrentOccupation_Working Professional</td>\n",
       "      <td>1.18</td>\n",
       "    </tr>\n",
       "    <tr>\n",
       "      <th>8</th>\n",
       "      <td>LastActivity_No Available</td>\n",
       "      <td>1.17</td>\n",
       "    </tr>\n",
       "    <tr>\n",
       "      <th>16</th>\n",
       "      <td>LastNotableActivity_Page Visited on Website</td>\n",
       "      <td>1.17</td>\n",
       "    </tr>\n",
       "    <tr>\n",
       "      <th>12</th>\n",
       "      <td>LastNotableActivity_Email Link Clicked</td>\n",
       "      <td>1.06</td>\n",
       "    </tr>\n",
       "  </tbody>\n",
       "</table>\n",
       "</div>"
      ],
      "text/plain": [
       "                                       Features   VIF\n",
       "14                 LastNotableActivity_Modified  2.75\n",
       "1                                   TotalVisits  2.67\n",
       "9          LastActivity_Olark Chat Conversation  2.07\n",
       "2                   Total Time Spent on Website  1.94\n",
       "0                                  Do Not Email  1.86\n",
       "7                    LastActivity_Email Bounced  1.84\n",
       "13             LastNotableActivity_Email Opened  1.77\n",
       "4                         LeadSource_Olark Chat  1.76\n",
       "3                      LeadOrigin_Lead Add Form  1.60\n",
       "10             CurrentOccupation_No Information  1.59\n",
       "15  LastNotableActivity_Olark Chat Conversation  1.38\n",
       "5                   LeadSource_Welingak Website  1.29\n",
       "6                LastActivity_Converted to Lead  1.27\n",
       "11       CurrentOccupation_Working Professional  1.18\n",
       "8                     LastActivity_No Available  1.17\n",
       "16  LastNotableActivity_Page Visited on Website  1.17\n",
       "12       LastNotableActivity_Email Link Clicked  1.06"
      ]
     },
     "execution_count": 96,
     "metadata": {},
     "output_type": "execute_result"
    }
   ],
   "source": [
    "# Calculating VIF for this model\n",
    "\n",
    "VIF(X_train_1)"
   ]
  },
  {
   "cell_type": "markdown",
   "id": "e7d79351",
   "metadata": {},
   "source": [
    "#### Inference:\n",
    "- This model seems to be stable with significant p-values, and all the columns have VIF < 4. Hence, we shall go ahead with this model for further analysis. "
   ]
  },
  {
   "cell_type": "code",
   "execution_count": 97,
   "id": "5c4d4eb1",
   "metadata": {},
   "outputs": [
    {
     "data": {
      "text/plain": [
       "5493    0.104052\n",
       "8064    0.109247\n",
       "4716    0.013730\n",
       "9117    0.344528\n",
       "2402    0.475239\n",
       "1796    0.035135\n",
       "1120    0.035135\n",
       "253     0.057269\n",
       "1491    0.125597\n",
       "2004    0.387121\n",
       "dtype: float64"
      ]
     },
     "execution_count": 97,
     "metadata": {},
     "output_type": "execute_result"
    }
   ],
   "source": [
    "# Getting the predicted values on the train set\n",
    "\n",
    "y_train_pred = res.predict(X_train_sm)\n",
    "y_train_pred[:10]"
   ]
  },
  {
   "cell_type": "code",
   "execution_count": 98,
   "id": "20b6df04",
   "metadata": {},
   "outputs": [
    {
     "data": {
      "text/plain": [
       "array([0.10405204, 0.10924662, 0.01372963, 0.34452789, 0.47523947,\n",
       "       0.03513469, 0.03513469, 0.05726853, 0.12559713, 0.38712128])"
      ]
     },
     "execution_count": 98,
     "metadata": {},
     "output_type": "execute_result"
    }
   ],
   "source": [
    "# Reshape\n",
    "\n",
    "y_train_pred = y_train_pred.values.reshape(-1)\n",
    "y_train_pred[:10]"
   ]
  },
  {
   "cell_type": "markdown",
   "id": "d8acd746",
   "metadata": {},
   "source": [
    "#### Creating a Dataframe with the actual converted flag and the predicted probabilities."
   ]
  },
  {
   "cell_type": "code",
   "execution_count": 99,
   "id": "9b38084c",
   "metadata": {},
   "outputs": [
    {
     "data": {
      "text/html": [
       "<div>\n",
       "<style scoped>\n",
       "    .dataframe tbody tr th:only-of-type {\n",
       "        vertical-align: middle;\n",
       "    }\n",
       "\n",
       "    .dataframe tbody tr th {\n",
       "        vertical-align: top;\n",
       "    }\n",
       "\n",
       "    .dataframe thead th {\n",
       "        text-align: right;\n",
       "    }\n",
       "</style>\n",
       "<table border=\"1\" class=\"dataframe\">\n",
       "  <thead>\n",
       "    <tr style=\"text-align: right;\">\n",
       "      <th></th>\n",
       "      <th>Converted</th>\n",
       "      <th>Converted_Prob</th>\n",
       "      <th>LeadId</th>\n",
       "    </tr>\n",
       "  </thead>\n",
       "  <tbody>\n",
       "    <tr>\n",
       "      <th>0</th>\n",
       "      <td>0</td>\n",
       "      <td>0.104052</td>\n",
       "      <td>5493</td>\n",
       "    </tr>\n",
       "    <tr>\n",
       "      <th>1</th>\n",
       "      <td>0</td>\n",
       "      <td>0.109247</td>\n",
       "      <td>8064</td>\n",
       "    </tr>\n",
       "    <tr>\n",
       "      <th>2</th>\n",
       "      <td>0</td>\n",
       "      <td>0.013730</td>\n",
       "      <td>4716</td>\n",
       "    </tr>\n",
       "    <tr>\n",
       "      <th>3</th>\n",
       "      <td>0</td>\n",
       "      <td>0.344528</td>\n",
       "      <td>9117</td>\n",
       "    </tr>\n",
       "    <tr>\n",
       "      <th>4</th>\n",
       "      <td>1</td>\n",
       "      <td>0.475239</td>\n",
       "      <td>2402</td>\n",
       "    </tr>\n",
       "  </tbody>\n",
       "</table>\n",
       "</div>"
      ],
      "text/plain": [
       "   Converted  Converted_Prob  LeadId\n",
       "0          0        0.104052    5493\n",
       "1          0        0.109247    8064\n",
       "2          0        0.013730    4716\n",
       "3          0        0.344528    9117\n",
       "4          1        0.475239    2402"
      ]
     },
     "execution_count": 99,
     "metadata": {},
     "output_type": "execute_result"
    }
   ],
   "source": [
    "y_train_pred_final = pd.DataFrame({\"Converted\":y_train.values, \"Converted_Prob\":y_train_pred})\n",
    "y_train_pred_final[\"LeadId\"] = y_train.index\n",
    "y_train_pred_final.head()"
   ]
  },
  {
   "cell_type": "markdown",
   "id": "d9e4544b",
   "metadata": {},
   "source": [
    "#### Creating a new column \"predicted\" with 1 if Converted_Prob > 0.5 else 0\n"
   ]
  },
  {
   "cell_type": "code",
   "execution_count": 100,
   "id": "9f868d46",
   "metadata": {},
   "outputs": [
    {
     "data": {
      "text/html": [
       "<div>\n",
       "<style scoped>\n",
       "    .dataframe tbody tr th:only-of-type {\n",
       "        vertical-align: middle;\n",
       "    }\n",
       "\n",
       "    .dataframe tbody tr th {\n",
       "        vertical-align: top;\n",
       "    }\n",
       "\n",
       "    .dataframe thead th {\n",
       "        text-align: right;\n",
       "    }\n",
       "</style>\n",
       "<table border=\"1\" class=\"dataframe\">\n",
       "  <thead>\n",
       "    <tr style=\"text-align: right;\">\n",
       "      <th></th>\n",
       "      <th>Converted</th>\n",
       "      <th>Converted_Prob</th>\n",
       "      <th>LeadId</th>\n",
       "      <th>predicted</th>\n",
       "    </tr>\n",
       "  </thead>\n",
       "  <tbody>\n",
       "    <tr>\n",
       "      <th>0</th>\n",
       "      <td>0</td>\n",
       "      <td>0.104052</td>\n",
       "      <td>5493</td>\n",
       "      <td>0</td>\n",
       "    </tr>\n",
       "    <tr>\n",
       "      <th>1</th>\n",
       "      <td>0</td>\n",
       "      <td>0.109247</td>\n",
       "      <td>8064</td>\n",
       "      <td>0</td>\n",
       "    </tr>\n",
       "    <tr>\n",
       "      <th>2</th>\n",
       "      <td>0</td>\n",
       "      <td>0.013730</td>\n",
       "      <td>4716</td>\n",
       "      <td>0</td>\n",
       "    </tr>\n",
       "    <tr>\n",
       "      <th>3</th>\n",
       "      <td>0</td>\n",
       "      <td>0.344528</td>\n",
       "      <td>9117</td>\n",
       "      <td>0</td>\n",
       "    </tr>\n",
       "    <tr>\n",
       "      <th>4</th>\n",
       "      <td>1</td>\n",
       "      <td>0.475239</td>\n",
       "      <td>2402</td>\n",
       "      <td>0</td>\n",
       "    </tr>\n",
       "  </tbody>\n",
       "</table>\n",
       "</div>"
      ],
      "text/plain": [
       "   Converted  Converted_Prob  LeadId  predicted\n",
       "0          0        0.104052    5493          0\n",
       "1          0        0.109247    8064          0\n",
       "2          0        0.013730    4716          0\n",
       "3          0        0.344528    9117          0\n",
       "4          1        0.475239    2402          0"
      ]
     },
     "execution_count": 100,
     "metadata": {},
     "output_type": "execute_result"
    }
   ],
   "source": [
    "y_train_pred_final[\"predicted\"] = y_train_pred_final.Converted_Prob.map(lambda x: 1 if x>0.5 else 0)\n",
    "y_train_pred_final.head()"
   ]
  },
  {
   "cell_type": "markdown",
   "id": "ec42a94f",
   "metadata": {},
   "source": [
    "#### Checking Confusion Matrixs and Accuracy"
   ]
  },
  {
   "cell_type": "code",
   "execution_count": 101,
   "id": "76f43215",
   "metadata": {},
   "outputs": [],
   "source": [
    "from sklearn import metrics"
   ]
  },
  {
   "cell_type": "code",
   "execution_count": 102,
   "id": "ea087cf7",
   "metadata": {},
   "outputs": [
    {
     "name": "stdout",
     "output_type": "stream",
     "text": [
      "[[3455  454]\n",
      " [ 706 1705]]\n"
     ]
    }
   ],
   "source": [
    "# Confusion Matrix\n",
    "\n",
    "Confusion_Mat = metrics.confusion_matrix(y_train_pred_final.Converted, y_train_pred_final.predicted)\n",
    "print(Confusion_Mat)"
   ]
  },
  {
   "cell_type": "code",
   "execution_count": 103,
   "id": "5773c9c2",
   "metadata": {},
   "outputs": [],
   "source": [
    "# Predicted     not_converted    converted\n",
    "# Actual\n",
    "# not_converted        3455      454\n",
    "# converted            706       1705"
   ]
  },
  {
   "cell_type": "code",
   "execution_count": 104,
   "id": "6951fbf5",
   "metadata": {},
   "outputs": [
    {
     "name": "stdout",
     "output_type": "stream",
     "text": [
      "0.8164556962025317\n"
     ]
    }
   ],
   "source": [
    "# Checking the overall accuracy\n",
    "\n",
    "Accuracy = metrics.accuracy_score(y_train_pred_final.Converted, y_train_pred_final.predicted)\n",
    "print(Accuracy)"
   ]
  },
  {
   "cell_type": "markdown",
   "id": "7da7646f",
   "metadata": {},
   "source": [
    "#### Inference:\n",
    "- The accuracy is around 81.6% which is good. We also need to calculate other metrics as we cannot depend on accuracy metric alone. "
   ]
  },
  {
   "cell_type": "markdown",
   "id": "28a22f23",
   "metadata": {},
   "source": [
    "### Metrics - Sensitivity, Specificity, False Positive Rate, Positive Predictive Value and Negative Predictive Value"
   ]
  },
  {
   "cell_type": "code",
   "execution_count": 105,
   "id": "ef2edc5e",
   "metadata": {},
   "outputs": [],
   "source": [
    "TP = Confusion_Mat[1,1] # true positive \n",
    "TN = Confusion_Mat[0,0] # true negatives\n",
    "FP = Confusion_Mat[0,1] # false positives\n",
    "FN = Confusion_Mat[1,0] # false negatives"
   ]
  },
  {
   "cell_type": "code",
   "execution_count": 106,
   "id": "d462fd03",
   "metadata": {},
   "outputs": [
    {
     "name": "stdout",
     "output_type": "stream",
     "text": [
      "Sensitivity = 0.7071754458730817\n"
     ]
    }
   ],
   "source": [
    "# Sensitivity\n",
    "\n",
    "Sensitivity = TP / float(TP + FN)\n",
    "print(\"Sensitivity =\", Sensitivity)"
   ]
  },
  {
   "cell_type": "code",
   "execution_count": 107,
   "id": "b317f198",
   "metadata": {},
   "outputs": [
    {
     "name": "stdout",
     "output_type": "stream",
     "text": [
      "Specificity = 0.8838577641340496\n"
     ]
    }
   ],
   "source": [
    "# Specificity\n",
    "\n",
    "Specificity = TN / float(TN + FP)\n",
    "print(\"Specificity =\", Specificity)"
   ]
  },
  {
   "cell_type": "code",
   "execution_count": 108,
   "id": "395d9237",
   "metadata": {},
   "outputs": [
    {
     "name": "stdout",
     "output_type": "stream",
     "text": [
      "False_Positive_Rate =  0.11614223586595038\n"
     ]
    }
   ],
   "source": [
    "# False Positive Rate - Predicting non converted leads as converted\n",
    "\n",
    "False_Positive_Rate = FP / float(TN + FP)\n",
    "print(\"False_Positive_Rate = \", False_Positive_Rate)"
   ]
  },
  {
   "cell_type": "code",
   "execution_count": 109,
   "id": "e8a51966",
   "metadata": {},
   "outputs": [
    {
     "name": "stdout",
     "output_type": "stream",
     "text": [
      "Positive_Predictive_Value =  0.7897174617878647\n"
     ]
    }
   ],
   "source": [
    "# Positive Predictive Value\n",
    "\n",
    "Positive_Predictive_Value = TP / float(TP + FP)\n",
    "print(\"Positive_Predictive_Value = \", Positive_Predictive_Value)"
   ]
  },
  {
   "cell_type": "code",
   "execution_count": 110,
   "id": "5d4efbf7",
   "metadata": {},
   "outputs": [
    {
     "name": "stdout",
     "output_type": "stream",
     "text": [
      "Negative_Predictive_Value =  0.8303292477769767\n"
     ]
    }
   ],
   "source": [
    "# Negative Predictive Value\n",
    "\n",
    "Negative_Predictive_Value = TN / float(TN + FN)\n",
    "print(\"Negative_Predictive_Value = \", Negative_Predictive_Value)"
   ]
  },
  {
   "cell_type": "markdown",
   "id": "22672d2d",
   "metadata": {},
   "source": [
    "### Step 7: Plotting ROC Curve\n",
    "\n",
    "An ROC curve demonstrates several things:\n",
    "\n",
    "- It shows the tradeoff between sensitivity and specificity (any increase in sensitivity will be accompanied by a decrease in specificity).\n",
    "- The closer the curve follows the left-hand border and then the top border of the ROC space, the more accurate the test.\n",
    "- The closer the curve comes to the 45-degree diagonal of the ROC space, the less accurate the test."
   ]
  },
  {
   "cell_type": "code",
   "execution_count": 111,
   "id": "831b4e65",
   "metadata": {},
   "outputs": [],
   "source": [
    "def draw_roc( actual, probs ):\n",
    "    fpr, tpr, thresholds = metrics.roc_curve( actual, probs,\n",
    "                                              drop_intermediate = False )\n",
    "    auc_score = metrics.roc_auc_score( actual, probs )\n",
    "    plt.figure(figsize=(5, 5))\n",
    "    plt.plot( fpr, tpr, label='ROC curve (area = %0.2f)' % auc_score )\n",
    "    plt.plot([0, 1], [0, 1], 'k--')\n",
    "    plt.xlim([0.0, 1.0])\n",
    "    plt.ylim([0.0, 1.05])\n",
    "    plt.xlabel('False Positive Rate or [1 - True Negative Rate]')\n",
    "    plt.ylabel('True Positive Rate')\n",
    "    plt.title('Receiver operating characteristic example')\n",
    "    plt.legend(loc=\"lower right\")\n",
    "    plt.show()\n",
    "\n",
    "    return None"
   ]
  },
  {
   "cell_type": "code",
   "execution_count": 112,
   "id": "502d9a00",
   "metadata": {},
   "outputs": [],
   "source": [
    "fpr, tpr, thresholds = metrics.roc_curve(y_train_pred_final.Converted, y_train_pred_final.Converted_Prob, drop_intermediate = False)"
   ]
  },
  {
   "cell_type": "code",
   "execution_count": 113,
   "id": "b7a66674",
   "metadata": {},
   "outputs": [
    {
     "data": {
      "image/png": "[encoded data removed]",
      "text/plain": [
       "<Figure size 360x360 with 1 Axes>"
      ]
     },
     "metadata": {
      "needs_background": "light"
     },
     "output_type": "display_data"
    }
   ],
   "source": [
    "draw_roc(y_train_pred_final.Converted, y_train_pred_final.Converted_Prob)"
   ]
  },
  {
   "cell_type": "markdown",
   "id": "63cc2526",
   "metadata": {},
   "source": [
    "### Step 8: Finding Optimal Cutoff Point"
   ]
  },
  {
   "cell_type": "markdown",
   "id": "0f2fc928",
   "metadata": {},
   "source": [
    "- Optimal cutoff probability is that probability where we get balanced sensitivity and specificity"
   ]
  },
  {
   "cell_type": "code",
   "execution_count": 114,
   "id": "600b2404",
   "metadata": {},
   "outputs": [
    {
     "data": {
      "text/html": [
       "<div>\n",
       "<style scoped>\n",
       "    .dataframe tbody tr th:only-of-type {\n",
       "        vertical-align: middle;\n",
       "    }\n",
       "\n",
       "    .dataframe tbody tr th {\n",
       "        vertical-align: top;\n",
       "    }\n",
       "\n",
       "    .dataframe thead th {\n",
       "        text-align: right;\n",
       "    }\n",
       "</style>\n",
       "<table border=\"1\" class=\"dataframe\">\n",
       "  <thead>\n",
       "    <tr style=\"text-align: right;\">\n",
       "      <th></th>\n",
       "      <th>Converted</th>\n",
       "      <th>Converted_Prob</th>\n",
       "      <th>LeadId</th>\n",
       "      <th>predicted</th>\n",
       "      <th>0.0</th>\n",
       "      <th>0.1</th>\n",
       "      <th>0.2</th>\n",
       "      <th>0.3</th>\n",
       "      <th>0.4</th>\n",
       "      <th>0.5</th>\n",
       "      <th>0.6</th>\n",
       "      <th>0.7</th>\n",
       "      <th>0.8</th>\n",
       "      <th>0.9</th>\n",
       "    </tr>\n",
       "  </thead>\n",
       "  <tbody>\n",
       "    <tr>\n",
       "      <th>0</th>\n",
       "      <td>0</td>\n",
       "      <td>0.104052</td>\n",
       "      <td>5493</td>\n",
       "      <td>0</td>\n",
       "      <td>1</td>\n",
       "      <td>1</td>\n",
       "      <td>0</td>\n",
       "      <td>0</td>\n",
       "      <td>0</td>\n",
       "      <td>0</td>\n",
       "      <td>0</td>\n",
       "      <td>0</td>\n",
       "      <td>0</td>\n",
       "      <td>0</td>\n",
       "    </tr>\n",
       "    <tr>\n",
       "      <th>1</th>\n",
       "      <td>0</td>\n",
       "      <td>0.109247</td>\n",
       "      <td>8064</td>\n",
       "      <td>0</td>\n",
       "      <td>1</td>\n",
       "      <td>1</td>\n",
       "      <td>0</td>\n",
       "      <td>0</td>\n",
       "      <td>0</td>\n",
       "      <td>0</td>\n",
       "      <td>0</td>\n",
       "      <td>0</td>\n",
       "      <td>0</td>\n",
       "      <td>0</td>\n",
       "    </tr>\n",
       "    <tr>\n",
       "      <th>2</th>\n",
       "      <td>0</td>\n",
       "      <td>0.013730</td>\n",
       "      <td>4716</td>\n",
       "      <td>0</td>\n",
       "      <td>1</td>\n",
       "      <td>0</td>\n",
       "      <td>0</td>\n",
       "      <td>0</td>\n",
       "      <td>0</td>\n",
       "      <td>0</td>\n",
       "      <td>0</td>\n",
       "      <td>0</td>\n",
       "      <td>0</td>\n",
       "      <td>0</td>\n",
       "    </tr>\n",
       "    <tr>\n",
       "      <th>3</th>\n",
       "      <td>0</td>\n",
       "      <td>0.344528</td>\n",
       "      <td>9117</td>\n",
       "      <td>0</td>\n",
       "      <td>1</td>\n",
       "      <td>1</td>\n",
       "      <td>1</td>\n",
       "      <td>1</td>\n",
       "      <td>0</td>\n",
       "      <td>0</td>\n",
       "      <td>0</td>\n",
       "      <td>0</td>\n",
       "      <td>0</td>\n",
       "      <td>0</td>\n",
       "    </tr>\n",
       "    <tr>\n",
       "      <th>4</th>\n",
       "      <td>1</td>\n",
       "      <td>0.475239</td>\n",
       "      <td>2402</td>\n",
       "      <td>0</td>\n",
       "      <td>1</td>\n",
       "      <td>1</td>\n",
       "      <td>1</td>\n",
       "      <td>1</td>\n",
       "      <td>1</td>\n",
       "      <td>0</td>\n",
       "      <td>0</td>\n",
       "      <td>0</td>\n",
       "      <td>0</td>\n",
       "      <td>0</td>\n",
       "    </tr>\n",
       "  </tbody>\n",
       "</table>\n",
       "</div>"
      ],
      "text/plain": [
       "   Converted  Converted_Prob  LeadId  predicted  0.0  0.1  0.2  0.3  0.4  0.5  \\\n",
       "0          0        0.104052    5493          0    1    1    0    0    0    0   \n",
       "1          0        0.109247    8064          0    1    1    0    0    0    0   \n",
       "2          0        0.013730    4716          0    1    0    0    0    0    0   \n",
       "3          0        0.344528    9117          0    1    1    1    1    0    0   \n",
       "4          1        0.475239    2402          0    1    1    1    1    1    0   \n",
       "\n",
       "   0.6  0.7  0.8  0.9  \n",
       "0    0    0    0    0  \n",
       "1    0    0    0    0  \n",
       "2    0    0    0    0  \n",
       "3    0    0    0    0  \n",
       "4    0    0    0    0  "
      ]
     },
     "execution_count": 114,
     "metadata": {},
     "output_type": "execute_result"
    }
   ],
   "source": [
    "# Let's create columns with different probability cutoffs\n",
    "\n",
    "numbers = [float(x)/10 for x in range(10)]\n",
    "for i in numbers:\n",
    "    y_train_pred_final[i] = y_train_pred_final.Converted_Prob.map(lambda x: 1 if x > i else 0)\n",
    "    \n",
    "y_train_pred_final.head()"
   ]
  },
  {
   "cell_type": "code",
   "execution_count": 115,
   "id": "cda015ad",
   "metadata": {},
   "outputs": [
    {
     "name": "stdout",
     "output_type": "stream",
     "text": [
      "     Prob  accuracy  Sensitivity  Specificity\n",
      "0.0   0.0  0.381487     1.000000     0.000000\n",
      "0.1   0.1  0.615823     0.975529     0.393963\n",
      "0.2   0.2  0.763924     0.911240     0.673062\n",
      "0.3   0.3  0.805696     0.865201     0.768995\n",
      "0.4   0.4  0.818038     0.788884     0.836019\n",
      "0.5   0.5  0.816456     0.707175     0.883858\n",
      "0.6   0.6  0.810443     0.633762     0.919417\n",
      "0.7   0.7  0.787816     0.520946     0.952417\n",
      "0.8   0.8  0.760443     0.421817     0.969302\n",
      "0.9   0.9  0.718038     0.282041     0.986953\n"
     ]
    }
   ],
   "source": [
    "# Calculating accuracy, sensitivity, and specificity for various probability cutoffs.\n",
    "\n",
    "cutoff_df = pd.DataFrame( columns = [\"Prob\", \"accuracy\", \"Sensitivity\", \"Specificity\"])\n",
    "\n",
    "num = [0.0, 0.1, 0.2, 0.3, 0.4, 0.5, 0.6, 0.7, 0.8, 0.9]\n",
    "for i in num:\n",
    "    cm1 = metrics.confusion_matrix(y_train_pred_final.Converted, y_train_pred_final[i] )\n",
    "    total1 = sum(sum(cm1))\n",
    "    accuracy = (cm1[0,0] + cm1[1,1])/total1\n",
    "    \n",
    "    Specificity = cm1[0,0]/(cm1[0,0] + cm1[0,1])\n",
    "    Sensitivity = cm1[1,1]/(cm1[1,0] + cm1[1,1])\n",
    "    cutoff_df.loc[i] = [ i, accuracy, Sensitivity, Specificity]\n",
    "print(cutoff_df)"
   ]
  },
  {
   "cell_type": "code",
   "execution_count": 116,
   "id": "235b7ad7",
   "metadata": {},
   "outputs": [
    {
     "data": {
      "image/png": "[encoded data removed]",
      "text/plain": [
       "<Figure size 432x288 with 1 Axes>"
      ]
     },
     "metadata": {
      "needs_background": "light"
     },
     "output_type": "display_data"
    }
   ],
   "source": [
    "# Plotting Accuracy, Sensitivity, and Specificity for various probabilities to find the intersection.\n",
    "intersection = cutoff_df.loc[cutoff_df[[\"accuracy\", \"Sensitivity\", \"Specificity\"]].idxmax().value_counts().idxmax()]\n",
    " \n",
    "cutoff_df.plot.line(x = \"Prob\", y = [\"accuracy\", \"Sensitivity\", \"Specificity\"])\n",
    "\n",
    "plt.scatter(intersection[\"Prob\"], intersection[\"accuracy\"], color = \"red\")\n",
    "plt.legend()\n",
    "plt.grid(True)\n",
    "plt.show()"
   ]
  },
  {
   "cell_type": "code",
   "execution_count": 117,
   "id": "866e8c12",
   "metadata": {},
   "outputs": [
    {
     "name": "stdout",
     "output_type": "stream",
     "text": [
      "Threshold: 0.31 Accuracy: 0.8072784810126582 Sensitivity: 0.8627125673994194 Specificity: 0.7730877462266564\n",
      "Threshold: 0.32 Accuracy: 0.8082278481012658 Sensitivity: 0.8589796764827873 Specificity: 0.776925044768483\n",
      "Threshold: 0.33 Accuracy: 0.8079113924050633 Sensitivity: 0.8556615512235587 Specificity: 0.7784599641852136\n",
      "Threshold: 0.34 Accuracy: 0.8091772151898734 Sensitivity: 0.8531729572791373 Specificity: 0.7820414428242517\n",
      "Threshold: 0.35 Accuracy: 0.8118670886075949 Sensitivity: 0.820821236001659 Specificity: 0.8063443335891533\n",
      "Threshold: 0.36 Accuracy: 0.8150316455696203 Sensitivity: 0.8166735794276234 Specificity: 0.8140189306728064\n",
      "Threshold: 0.37 Accuracy: 0.8156645569620253 Sensitivity: 0.8071339693073414 Specificity: 0.8209260680480941\n",
      "Threshold: 0.38 Accuracy: 0.8167721518987342 Sensitivity: 0.8021567814184986 Specificity: 0.8257866462010744\n",
      "Threshold: 0.39 Accuracy: 0.8169303797468355 Sensitivity: 0.7963500622148486 Specificity: 0.829623944742901\n",
      "Threshold: 0.4 Accuracy: 0.8180379746835443 Sensitivity: 0.7888842803815844 Specificity: 0.8360194423126119\n"
     ]
    }
   ],
   "source": [
    "# FInding out the exact probability where Accuracy, Sensitivity, and Specificity intersect. \n",
    "\n",
    "cutoff_df_tf = pd.DataFrame(columns=[\"Prob\", \"accu\", \"Sensitiv\", \"Specific\"])\n",
    "\n",
    "# creating a list of probabilities to check the metrics\n",
    "num = [0.31, 0.32, 0.33, 0.34, 0.35, 0.36, 0.37, 0.38, 0.39, 0.40]\n",
    "\n",
    "# looping through the list of probabilities and calculating metrics for each\n",
    "for i in num:\n",
    "    # converting the predicted probability to predicted value of conversion based on the threshold i\n",
    "    y_train_pred_final[i]= y_train_pred_final.Converted_Prob.map(lambda x: 1 if x > i else 0)\n",
    "    \n",
    "    # calculating the confusion matrix\n",
    "    cm1 = metrics.confusion_matrix(y_train_pred_final.Converted, y_train_pred_final[i])\n",
    "    \n",
    "    # calculating total observations\n",
    "    total1 = float(sum(sum(cm1)))\n",
    "    \n",
    "    # calculating accuracy\n",
    "    accu = (cm1[0, 0] + cm1[1, 1]) / total1\n",
    "    \n",
    "    # calculating sensitivity\n",
    "    sensi = cm1[1, 1] / (cm1[1, 0] + cm1[1, 1])\n",
    "    \n",
    "    # calculating specificity\n",
    "    speci = cm1[0, 0] / (cm1[0, 0] + cm1[0, 1])\n",
    "    \n",
    "    # printing the accuracy, sensitivity, specificity for each threshold\n",
    "    print(\"Threshold:\", i, \"Accuracy:\", accu, \"Sensitivity:\", sensi, \"Specificity:\", speci)\n"
   ]
  },
  {
   "cell_type": "markdown",
   "id": "889200ab",
   "metadata": {},
   "source": [
    "#### Inference:\n",
    "- It seems the  0.36 is the closest point (Probability) at which Accuracy, Sensitivity, and Specificity meet. Hence 0.36 is the optimum point to take it as a cutoff probability."
   ]
  },
  {
   "cell_type": "code",
   "execution_count": 118,
   "id": "534a9d12",
   "metadata": {},
   "outputs": [
    {
     "data": {
      "text/html": [
       "<div>\n",
       "<style scoped>\n",
       "    .dataframe tbody tr th:only-of-type {\n",
       "        vertical-align: middle;\n",
       "    }\n",
       "\n",
       "    .dataframe tbody tr th {\n",
       "        vertical-align: top;\n",
       "    }\n",
       "\n",
       "    .dataframe thead th {\n",
       "        text-align: right;\n",
       "    }\n",
       "</style>\n",
       "<table border=\"1\" class=\"dataframe\">\n",
       "  <thead>\n",
       "    <tr style=\"text-align: right;\">\n",
       "      <th></th>\n",
       "      <th>Converted</th>\n",
       "      <th>Converted_Prob</th>\n",
       "      <th>LeadId</th>\n",
       "      <th>predicted</th>\n",
       "      <th>0.0</th>\n",
       "      <th>0.1</th>\n",
       "      <th>0.2</th>\n",
       "      <th>0.3</th>\n",
       "      <th>0.4</th>\n",
       "      <th>0.5</th>\n",
       "      <th>...</th>\n",
       "      <th>0.31</th>\n",
       "      <th>0.32</th>\n",
       "      <th>0.33</th>\n",
       "      <th>0.34</th>\n",
       "      <th>0.35</th>\n",
       "      <th>0.36</th>\n",
       "      <th>0.37</th>\n",
       "      <th>0.38</th>\n",
       "      <th>0.39</th>\n",
       "      <th>final_predicted</th>\n",
       "    </tr>\n",
       "  </thead>\n",
       "  <tbody>\n",
       "    <tr>\n",
       "      <th>0</th>\n",
       "      <td>0</td>\n",
       "      <td>0.104052</td>\n",
       "      <td>5493</td>\n",
       "      <td>0</td>\n",
       "      <td>1</td>\n",
       "      <td>1</td>\n",
       "      <td>0</td>\n",
       "      <td>0</td>\n",
       "      <td>0</td>\n",
       "      <td>0</td>\n",
       "      <td>...</td>\n",
       "      <td>0</td>\n",
       "      <td>0</td>\n",
       "      <td>0</td>\n",
       "      <td>0</td>\n",
       "      <td>0</td>\n",
       "      <td>0</td>\n",
       "      <td>0</td>\n",
       "      <td>0</td>\n",
       "      <td>0</td>\n",
       "      <td>0</td>\n",
       "    </tr>\n",
       "    <tr>\n",
       "      <th>1</th>\n",
       "      <td>0</td>\n",
       "      <td>0.109247</td>\n",
       "      <td>8064</td>\n",
       "      <td>0</td>\n",
       "      <td>1</td>\n",
       "      <td>1</td>\n",
       "      <td>0</td>\n",
       "      <td>0</td>\n",
       "      <td>0</td>\n",
       "      <td>0</td>\n",
       "      <td>...</td>\n",
       "      <td>0</td>\n",
       "      <td>0</td>\n",
       "      <td>0</td>\n",
       "      <td>0</td>\n",
       "      <td>0</td>\n",
       "      <td>0</td>\n",
       "      <td>0</td>\n",
       "      <td>0</td>\n",
       "      <td>0</td>\n",
       "      <td>0</td>\n",
       "    </tr>\n",
       "    <tr>\n",
       "      <th>2</th>\n",
       "      <td>0</td>\n",
       "      <td>0.013730</td>\n",
       "      <td>4716</td>\n",
       "      <td>0</td>\n",
       "      <td>1</td>\n",
       "      <td>0</td>\n",
       "      <td>0</td>\n",
       "      <td>0</td>\n",
       "      <td>0</td>\n",
       "      <td>0</td>\n",
       "      <td>...</td>\n",
       "      <td>0</td>\n",
       "      <td>0</td>\n",
       "      <td>0</td>\n",
       "      <td>0</td>\n",
       "      <td>0</td>\n",
       "      <td>0</td>\n",
       "      <td>0</td>\n",
       "      <td>0</td>\n",
       "      <td>0</td>\n",
       "      <td>0</td>\n",
       "    </tr>\n",
       "    <tr>\n",
       "      <th>3</th>\n",
       "      <td>0</td>\n",
       "      <td>0.344528</td>\n",
       "      <td>9117</td>\n",
       "      <td>0</td>\n",
       "      <td>1</td>\n",
       "      <td>1</td>\n",
       "      <td>1</td>\n",
       "      <td>1</td>\n",
       "      <td>0</td>\n",
       "      <td>0</td>\n",
       "      <td>...</td>\n",
       "      <td>1</td>\n",
       "      <td>1</td>\n",
       "      <td>1</td>\n",
       "      <td>1</td>\n",
       "      <td>0</td>\n",
       "      <td>0</td>\n",
       "      <td>0</td>\n",
       "      <td>0</td>\n",
       "      <td>0</td>\n",
       "      <td>0</td>\n",
       "    </tr>\n",
       "    <tr>\n",
       "      <th>4</th>\n",
       "      <td>1</td>\n",
       "      <td>0.475239</td>\n",
       "      <td>2402</td>\n",
       "      <td>0</td>\n",
       "      <td>1</td>\n",
       "      <td>1</td>\n",
       "      <td>1</td>\n",
       "      <td>1</td>\n",
       "      <td>1</td>\n",
       "      <td>0</td>\n",
       "      <td>...</td>\n",
       "      <td>1</td>\n",
       "      <td>1</td>\n",
       "      <td>1</td>\n",
       "      <td>1</td>\n",
       "      <td>1</td>\n",
       "      <td>1</td>\n",
       "      <td>1</td>\n",
       "      <td>1</td>\n",
       "      <td>1</td>\n",
       "      <td>1</td>\n",
       "    </tr>\n",
       "  </tbody>\n",
       "</table>\n",
       "<p>5 rows × 24 columns</p>\n",
       "</div>"
      ],
      "text/plain": [
       "   Converted  Converted_Prob  LeadId  predicted  0.0  0.1  0.2  0.3  0.4  0.5  \\\n",
       "0          0        0.104052    5493          0    1    1    0    0    0    0   \n",
       "1          0        0.109247    8064          0    1    1    0    0    0    0   \n",
       "2          0        0.013730    4716          0    1    0    0    0    0    0   \n",
       "3          0        0.344528    9117          0    1    1    1    1    0    0   \n",
       "4          1        0.475239    2402          0    1    1    1    1    1    0   \n",
       "\n",
       "   ...  0.31  0.32  0.33  0.34  0.35  0.36  0.37  0.38  0.39  final_predicted  \n",
       "0  ...     0     0     0     0     0     0     0     0     0                0  \n",
       "1  ...     0     0     0     0     0     0     0     0     0                0  \n",
       "2  ...     0     0     0     0     0     0     0     0     0                0  \n",
       "3  ...     1     1     1     1     0     0     0     0     0                0  \n",
       "4  ...     1     1     1     1     1     1     1     1     1                1  \n",
       "\n",
       "[5 rows x 24 columns]"
      ]
     },
     "execution_count": 118,
     "metadata": {},
     "output_type": "execute_result"
    }
   ],
   "source": [
    "# Making final predictions using 0.36 as the cutoff\n",
    "\n",
    "y_train_pred_final[\"final_predicted\"] = y_train_pred_final.Converted_Prob.map( lambda x: 1 if x > 0.37 else 0 )\n",
    "y_train_pred_final.head()"
   ]
  },
  {
   "cell_type": "code",
   "execution_count": 119,
   "id": "8bc245e3",
   "metadata": {},
   "outputs": [
    {
     "data": {
      "text/html": [
       "<div>\n",
       "<style scoped>\n",
       "    .dataframe tbody tr th:only-of-type {\n",
       "        vertical-align: middle;\n",
       "    }\n",
       "\n",
       "    .dataframe tbody tr th {\n",
       "        vertical-align: top;\n",
       "    }\n",
       "\n",
       "    .dataframe thead th {\n",
       "        text-align: right;\n",
       "    }\n",
       "</style>\n",
       "<table border=\"1\" class=\"dataframe\">\n",
       "  <thead>\n",
       "    <tr style=\"text-align: right;\">\n",
       "      <th></th>\n",
       "      <th>Converted</th>\n",
       "      <th>Converted_Prob</th>\n",
       "      <th>LeadId</th>\n",
       "      <th>predicted</th>\n",
       "      <th>0.0</th>\n",
       "      <th>0.1</th>\n",
       "      <th>0.2</th>\n",
       "      <th>0.3</th>\n",
       "      <th>0.4</th>\n",
       "      <th>0.5</th>\n",
       "      <th>...</th>\n",
       "      <th>0.32</th>\n",
       "      <th>0.33</th>\n",
       "      <th>0.34</th>\n",
       "      <th>0.35</th>\n",
       "      <th>0.36</th>\n",
       "      <th>0.37</th>\n",
       "      <th>0.38</th>\n",
       "      <th>0.39</th>\n",
       "      <th>final_predicted</th>\n",
       "      <th>lead_score</th>\n",
       "    </tr>\n",
       "  </thead>\n",
       "  <tbody>\n",
       "    <tr>\n",
       "      <th>0</th>\n",
       "      <td>0</td>\n",
       "      <td>0.104052</td>\n",
       "      <td>5493</td>\n",
       "      <td>0</td>\n",
       "      <td>1</td>\n",
       "      <td>1</td>\n",
       "      <td>0</td>\n",
       "      <td>0</td>\n",
       "      <td>0</td>\n",
       "      <td>0</td>\n",
       "      <td>...</td>\n",
       "      <td>0</td>\n",
       "      <td>0</td>\n",
       "      <td>0</td>\n",
       "      <td>0</td>\n",
       "      <td>0</td>\n",
       "      <td>0</td>\n",
       "      <td>0</td>\n",
       "      <td>0</td>\n",
       "      <td>0</td>\n",
       "      <td>10</td>\n",
       "    </tr>\n",
       "    <tr>\n",
       "      <th>1</th>\n",
       "      <td>0</td>\n",
       "      <td>0.109247</td>\n",
       "      <td>8064</td>\n",
       "      <td>0</td>\n",
       "      <td>1</td>\n",
       "      <td>1</td>\n",
       "      <td>0</td>\n",
       "      <td>0</td>\n",
       "      <td>0</td>\n",
       "      <td>0</td>\n",
       "      <td>...</td>\n",
       "      <td>0</td>\n",
       "      <td>0</td>\n",
       "      <td>0</td>\n",
       "      <td>0</td>\n",
       "      <td>0</td>\n",
       "      <td>0</td>\n",
       "      <td>0</td>\n",
       "      <td>0</td>\n",
       "      <td>0</td>\n",
       "      <td>11</td>\n",
       "    </tr>\n",
       "    <tr>\n",
       "      <th>2</th>\n",
       "      <td>0</td>\n",
       "      <td>0.013730</td>\n",
       "      <td>4716</td>\n",
       "      <td>0</td>\n",
       "      <td>1</td>\n",
       "      <td>0</td>\n",
       "      <td>0</td>\n",
       "      <td>0</td>\n",
       "      <td>0</td>\n",
       "      <td>0</td>\n",
       "      <td>...</td>\n",
       "      <td>0</td>\n",
       "      <td>0</td>\n",
       "      <td>0</td>\n",
       "      <td>0</td>\n",
       "      <td>0</td>\n",
       "      <td>0</td>\n",
       "      <td>0</td>\n",
       "      <td>0</td>\n",
       "      <td>0</td>\n",
       "      <td>1</td>\n",
       "    </tr>\n",
       "    <tr>\n",
       "      <th>3</th>\n",
       "      <td>0</td>\n",
       "      <td>0.344528</td>\n",
       "      <td>9117</td>\n",
       "      <td>0</td>\n",
       "      <td>1</td>\n",
       "      <td>1</td>\n",
       "      <td>1</td>\n",
       "      <td>1</td>\n",
       "      <td>0</td>\n",
       "      <td>0</td>\n",
       "      <td>...</td>\n",
       "      <td>1</td>\n",
       "      <td>1</td>\n",
       "      <td>1</td>\n",
       "      <td>0</td>\n",
       "      <td>0</td>\n",
       "      <td>0</td>\n",
       "      <td>0</td>\n",
       "      <td>0</td>\n",
       "      <td>0</td>\n",
       "      <td>34</td>\n",
       "    </tr>\n",
       "    <tr>\n",
       "      <th>4</th>\n",
       "      <td>1</td>\n",
       "      <td>0.475239</td>\n",
       "      <td>2402</td>\n",
       "      <td>0</td>\n",
       "      <td>1</td>\n",
       "      <td>1</td>\n",
       "      <td>1</td>\n",
       "      <td>1</td>\n",
       "      <td>1</td>\n",
       "      <td>0</td>\n",
       "      <td>...</td>\n",
       "      <td>1</td>\n",
       "      <td>1</td>\n",
       "      <td>1</td>\n",
       "      <td>1</td>\n",
       "      <td>1</td>\n",
       "      <td>1</td>\n",
       "      <td>1</td>\n",
       "      <td>1</td>\n",
       "      <td>1</td>\n",
       "      <td>48</td>\n",
       "    </tr>\n",
       "    <tr>\n",
       "      <th>5</th>\n",
       "      <td>0</td>\n",
       "      <td>0.035135</td>\n",
       "      <td>1796</td>\n",
       "      <td>0</td>\n",
       "      <td>1</td>\n",
       "      <td>0</td>\n",
       "      <td>0</td>\n",
       "      <td>0</td>\n",
       "      <td>0</td>\n",
       "      <td>0</td>\n",
       "      <td>...</td>\n",
       "      <td>0</td>\n",
       "      <td>0</td>\n",
       "      <td>0</td>\n",
       "      <td>0</td>\n",
       "      <td>0</td>\n",
       "      <td>0</td>\n",
       "      <td>0</td>\n",
       "      <td>0</td>\n",
       "      <td>0</td>\n",
       "      <td>4</td>\n",
       "    </tr>\n",
       "    <tr>\n",
       "      <th>6</th>\n",
       "      <td>0</td>\n",
       "      <td>0.035135</td>\n",
       "      <td>1120</td>\n",
       "      <td>0</td>\n",
       "      <td>1</td>\n",
       "      <td>0</td>\n",
       "      <td>0</td>\n",
       "      <td>0</td>\n",
       "      <td>0</td>\n",
       "      <td>0</td>\n",
       "      <td>...</td>\n",
       "      <td>0</td>\n",
       "      <td>0</td>\n",
       "      <td>0</td>\n",
       "      <td>0</td>\n",
       "      <td>0</td>\n",
       "      <td>0</td>\n",
       "      <td>0</td>\n",
       "      <td>0</td>\n",
       "      <td>0</td>\n",
       "      <td>4</td>\n",
       "    </tr>\n",
       "    <tr>\n",
       "      <th>7</th>\n",
       "      <td>0</td>\n",
       "      <td>0.057269</td>\n",
       "      <td>253</td>\n",
       "      <td>0</td>\n",
       "      <td>1</td>\n",
       "      <td>0</td>\n",
       "      <td>0</td>\n",
       "      <td>0</td>\n",
       "      <td>0</td>\n",
       "      <td>0</td>\n",
       "      <td>...</td>\n",
       "      <td>0</td>\n",
       "      <td>0</td>\n",
       "      <td>0</td>\n",
       "      <td>0</td>\n",
       "      <td>0</td>\n",
       "      <td>0</td>\n",
       "      <td>0</td>\n",
       "      <td>0</td>\n",
       "      <td>0</td>\n",
       "      <td>6</td>\n",
       "    </tr>\n",
       "    <tr>\n",
       "      <th>8</th>\n",
       "      <td>0</td>\n",
       "      <td>0.125597</td>\n",
       "      <td>1491</td>\n",
       "      <td>0</td>\n",
       "      <td>1</td>\n",
       "      <td>1</td>\n",
       "      <td>0</td>\n",
       "      <td>0</td>\n",
       "      <td>0</td>\n",
       "      <td>0</td>\n",
       "      <td>...</td>\n",
       "      <td>0</td>\n",
       "      <td>0</td>\n",
       "      <td>0</td>\n",
       "      <td>0</td>\n",
       "      <td>0</td>\n",
       "      <td>0</td>\n",
       "      <td>0</td>\n",
       "      <td>0</td>\n",
       "      <td>0</td>\n",
       "      <td>13</td>\n",
       "    </tr>\n",
       "    <tr>\n",
       "      <th>9</th>\n",
       "      <td>1</td>\n",
       "      <td>0.387121</td>\n",
       "      <td>2004</td>\n",
       "      <td>0</td>\n",
       "      <td>1</td>\n",
       "      <td>1</td>\n",
       "      <td>1</td>\n",
       "      <td>1</td>\n",
       "      <td>0</td>\n",
       "      <td>0</td>\n",
       "      <td>...</td>\n",
       "      <td>1</td>\n",
       "      <td>1</td>\n",
       "      <td>1</td>\n",
       "      <td>1</td>\n",
       "      <td>1</td>\n",
       "      <td>1</td>\n",
       "      <td>1</td>\n",
       "      <td>0</td>\n",
       "      <td>1</td>\n",
       "      <td>39</td>\n",
       "    </tr>\n",
       "    <tr>\n",
       "      <th>10</th>\n",
       "      <td>0</td>\n",
       "      <td>0.356852</td>\n",
       "      <td>1792</td>\n",
       "      <td>0</td>\n",
       "      <td>1</td>\n",
       "      <td>1</td>\n",
       "      <td>1</td>\n",
       "      <td>1</td>\n",
       "      <td>0</td>\n",
       "      <td>0</td>\n",
       "      <td>...</td>\n",
       "      <td>1</td>\n",
       "      <td>1</td>\n",
       "      <td>1</td>\n",
       "      <td>1</td>\n",
       "      <td>0</td>\n",
       "      <td>0</td>\n",
       "      <td>0</td>\n",
       "      <td>0</td>\n",
       "      <td>0</td>\n",
       "      <td>36</td>\n",
       "    </tr>\n",
       "    <tr>\n",
       "      <th>11</th>\n",
       "      <td>0</td>\n",
       "      <td>0.101568</td>\n",
       "      <td>1944</td>\n",
       "      <td>0</td>\n",
       "      <td>1</td>\n",
       "      <td>1</td>\n",
       "      <td>0</td>\n",
       "      <td>0</td>\n",
       "      <td>0</td>\n",
       "      <td>0</td>\n",
       "      <td>...</td>\n",
       "      <td>0</td>\n",
       "      <td>0</td>\n",
       "      <td>0</td>\n",
       "      <td>0</td>\n",
       "      <td>0</td>\n",
       "      <td>0</td>\n",
       "      <td>0</td>\n",
       "      <td>0</td>\n",
       "      <td>0</td>\n",
       "      <td>10</td>\n",
       "    </tr>\n",
       "    <tr>\n",
       "      <th>12</th>\n",
       "      <td>0</td>\n",
       "      <td>0.062934</td>\n",
       "      <td>3879</td>\n",
       "      <td>0</td>\n",
       "      <td>1</td>\n",
       "      <td>0</td>\n",
       "      <td>0</td>\n",
       "      <td>0</td>\n",
       "      <td>0</td>\n",
       "      <td>0</td>\n",
       "      <td>...</td>\n",
       "      <td>0</td>\n",
       "      <td>0</td>\n",
       "      <td>0</td>\n",
       "      <td>0</td>\n",
       "      <td>0</td>\n",
       "      <td>0</td>\n",
       "      <td>0</td>\n",
       "      <td>0</td>\n",
       "      <td>0</td>\n",
       "      <td>6</td>\n",
       "    </tr>\n",
       "    <tr>\n",
       "      <th>13</th>\n",
       "      <td>0</td>\n",
       "      <td>0.269818</td>\n",
       "      <td>4084</td>\n",
       "      <td>0</td>\n",
       "      <td>1</td>\n",
       "      <td>1</td>\n",
       "      <td>1</td>\n",
       "      <td>0</td>\n",
       "      <td>0</td>\n",
       "      <td>0</td>\n",
       "      <td>...</td>\n",
       "      <td>0</td>\n",
       "      <td>0</td>\n",
       "      <td>0</td>\n",
       "      <td>0</td>\n",
       "      <td>0</td>\n",
       "      <td>0</td>\n",
       "      <td>0</td>\n",
       "      <td>0</td>\n",
       "      <td>0</td>\n",
       "      <td>27</td>\n",
       "    </tr>\n",
       "    <tr>\n",
       "      <th>14</th>\n",
       "      <td>0</td>\n",
       "      <td>0.117897</td>\n",
       "      <td>1338</td>\n",
       "      <td>0</td>\n",
       "      <td>1</td>\n",
       "      <td>1</td>\n",
       "      <td>0</td>\n",
       "      <td>0</td>\n",
       "      <td>0</td>\n",
       "      <td>0</td>\n",
       "      <td>...</td>\n",
       "      <td>0</td>\n",
       "      <td>0</td>\n",
       "      <td>0</td>\n",
       "      <td>0</td>\n",
       "      <td>0</td>\n",
       "      <td>0</td>\n",
       "      <td>0</td>\n",
       "      <td>0</td>\n",
       "      <td>0</td>\n",
       "      <td>12</td>\n",
       "    </tr>\n",
       "    <tr>\n",
       "      <th>15</th>\n",
       "      <td>1</td>\n",
       "      <td>0.835471</td>\n",
       "      <td>4371</td>\n",
       "      <td>1</td>\n",
       "      <td>1</td>\n",
       "      <td>1</td>\n",
       "      <td>1</td>\n",
       "      <td>1</td>\n",
       "      <td>1</td>\n",
       "      <td>1</td>\n",
       "      <td>...</td>\n",
       "      <td>1</td>\n",
       "      <td>1</td>\n",
       "      <td>1</td>\n",
       "      <td>1</td>\n",
       "      <td>1</td>\n",
       "      <td>1</td>\n",
       "      <td>1</td>\n",
       "      <td>1</td>\n",
       "      <td>1</td>\n",
       "      <td>84</td>\n",
       "    </tr>\n",
       "    <tr>\n",
       "      <th>16</th>\n",
       "      <td>0</td>\n",
       "      <td>0.126745</td>\n",
       "      <td>6941</td>\n",
       "      <td>0</td>\n",
       "      <td>1</td>\n",
       "      <td>1</td>\n",
       "      <td>0</td>\n",
       "      <td>0</td>\n",
       "      <td>0</td>\n",
       "      <td>0</td>\n",
       "      <td>...</td>\n",
       "      <td>0</td>\n",
       "      <td>0</td>\n",
       "      <td>0</td>\n",
       "      <td>0</td>\n",
       "      <td>0</td>\n",
       "      <td>0</td>\n",
       "      <td>0</td>\n",
       "      <td>0</td>\n",
       "      <td>0</td>\n",
       "      <td>13</td>\n",
       "    </tr>\n",
       "    <tr>\n",
       "      <th>17</th>\n",
       "      <td>0</td>\n",
       "      <td>0.165187</td>\n",
       "      <td>6600</td>\n",
       "      <td>0</td>\n",
       "      <td>1</td>\n",
       "      <td>1</td>\n",
       "      <td>0</td>\n",
       "      <td>0</td>\n",
       "      <td>0</td>\n",
       "      <td>0</td>\n",
       "      <td>...</td>\n",
       "      <td>0</td>\n",
       "      <td>0</td>\n",
       "      <td>0</td>\n",
       "      <td>0</td>\n",
       "      <td>0</td>\n",
       "      <td>0</td>\n",
       "      <td>0</td>\n",
       "      <td>0</td>\n",
       "      <td>0</td>\n",
       "      <td>17</td>\n",
       "    </tr>\n",
       "    <tr>\n",
       "      <th>18</th>\n",
       "      <td>0</td>\n",
       "      <td>0.014095</td>\n",
       "      <td>6818</td>\n",
       "      <td>0</td>\n",
       "      <td>1</td>\n",
       "      <td>0</td>\n",
       "      <td>0</td>\n",
       "      <td>0</td>\n",
       "      <td>0</td>\n",
       "      <td>0</td>\n",
       "      <td>...</td>\n",
       "      <td>0</td>\n",
       "      <td>0</td>\n",
       "      <td>0</td>\n",
       "      <td>0</td>\n",
       "      <td>0</td>\n",
       "      <td>0</td>\n",
       "      <td>0</td>\n",
       "      <td>0</td>\n",
       "      <td>0</td>\n",
       "      <td>1</td>\n",
       "    </tr>\n",
       "    <tr>\n",
       "      <th>19</th>\n",
       "      <td>0</td>\n",
       "      <td>0.123652</td>\n",
       "      <td>5930</td>\n",
       "      <td>0</td>\n",
       "      <td>1</td>\n",
       "      <td>1</td>\n",
       "      <td>0</td>\n",
       "      <td>0</td>\n",
       "      <td>0</td>\n",
       "      <td>0</td>\n",
       "      <td>...</td>\n",
       "      <td>0</td>\n",
       "      <td>0</td>\n",
       "      <td>0</td>\n",
       "      <td>0</td>\n",
       "      <td>0</td>\n",
       "      <td>0</td>\n",
       "      <td>0</td>\n",
       "      <td>0</td>\n",
       "      <td>0</td>\n",
       "      <td>12</td>\n",
       "    </tr>\n",
       "  </tbody>\n",
       "</table>\n",
       "<p>20 rows × 25 columns</p>\n",
       "</div>"
      ],
      "text/plain": [
       "    Converted  Converted_Prob  LeadId  predicted  0.0  0.1  0.2  0.3  0.4  \\\n",
       "0           0        0.104052    5493          0    1    1    0    0    0   \n",
       "1           0        0.109247    8064          0    1    1    0    0    0   \n",
       "2           0        0.013730    4716          0    1    0    0    0    0   \n",
       "3           0        0.344528    9117          0    1    1    1    1    0   \n",
       "4           1        0.475239    2402          0    1    1    1    1    1   \n",
       "5           0        0.035135    1796          0    1    0    0    0    0   \n",
       "6           0        0.035135    1120          0    1    0    0    0    0   \n",
       "7           0        0.057269     253          0    1    0    0    0    0   \n",
       "8           0        0.125597    1491          0    1    1    0    0    0   \n",
       "9           1        0.387121    2004          0    1    1    1    1    0   \n",
       "10          0        0.356852    1792          0    1    1    1    1    0   \n",
       "11          0        0.101568    1944          0    1    1    0    0    0   \n",
       "12          0        0.062934    3879          0    1    0    0    0    0   \n",
       "13          0        0.269818    4084          0    1    1    1    0    0   \n",
       "14          0        0.117897    1338          0    1    1    0    0    0   \n",
       "15          1        0.835471    4371          1    1    1    1    1    1   \n",
       "16          0        0.126745    6941          0    1    1    0    0    0   \n",
       "17          0        0.165187    6600          0    1    1    0    0    0   \n",
       "18          0        0.014095    6818          0    1    0    0    0    0   \n",
       "19          0        0.123652    5930          0    1    1    0    0    0   \n",
       "\n",
       "    0.5  ...  0.32  0.33  0.34  0.35  0.36  0.37  0.38  0.39  final_predicted  \\\n",
       "0     0  ...     0     0     0     0     0     0     0     0                0   \n",
       "1     0  ...     0     0     0     0     0     0     0     0                0   \n",
       "2     0  ...     0     0     0     0     0     0     0     0                0   \n",
       "3     0  ...     1     1     1     0     0     0     0     0                0   \n",
       "4     0  ...     1     1     1     1     1     1     1     1                1   \n",
       "5     0  ...     0     0     0     0     0     0     0     0                0   \n",
       "6     0  ...     0     0     0     0     0     0     0     0                0   \n",
       "7     0  ...     0     0     0     0     0     0     0     0                0   \n",
       "8     0  ...     0     0     0     0     0     0     0     0                0   \n",
       "9     0  ...     1     1     1     1     1     1     1     0                1   \n",
       "10    0  ...     1     1     1     1     0     0     0     0                0   \n",
       "11    0  ...     0     0     0     0     0     0     0     0                0   \n",
       "12    0  ...     0     0     0     0     0     0     0     0                0   \n",
       "13    0  ...     0     0     0     0     0     0     0     0                0   \n",
       "14    0  ...     0     0     0     0     0     0     0     0                0   \n",
       "15    1  ...     1     1     1     1     1     1     1     1                1   \n",
       "16    0  ...     0     0     0     0     0     0     0     0                0   \n",
       "17    0  ...     0     0     0     0     0     0     0     0                0   \n",
       "18    0  ...     0     0     0     0     0     0     0     0                0   \n",
       "19    0  ...     0     0     0     0     0     0     0     0                0   \n",
       "\n",
       "    lead_score  \n",
       "0           10  \n",
       "1           11  \n",
       "2            1  \n",
       "3           34  \n",
       "4           48  \n",
       "5            4  \n",
       "6            4  \n",
       "7            6  \n",
       "8           13  \n",
       "9           39  \n",
       "10          36  \n",
       "11          10  \n",
       "12           6  \n",
       "13          27  \n",
       "14          12  \n",
       "15          84  \n",
       "16          13  \n",
       "17          17  \n",
       "18           1  \n",
       "19          12  \n",
       "\n",
       "[20 rows x 25 columns]"
      ]
     },
     "execution_count": 119,
     "metadata": {},
     "output_type": "execute_result"
    }
   ],
   "source": [
    "# Calculating the lead score\n",
    "\n",
    "y_train_pred_final[\"lead_score\"] = y_train_pred_final.Converted_Prob.map(lambda x: round(x*100))\n",
    "y_train_pred_final.head(20)"
   ]
  },
  {
   "cell_type": "code",
   "execution_count": 120,
   "id": "a564096c",
   "metadata": {},
   "outputs": [
    {
     "data": {
      "text/plain": [
       "1    1946\n",
       "0     465\n",
       "Name: final_predicted, dtype: int64"
      ]
     },
     "execution_count": 120,
     "metadata": {},
     "output_type": "execute_result"
    }
   ],
   "source": [
    "# Checking if 80% cases are correctly predicted based on the converted column.\n",
    "# Getting the total of final predicted conversion / non conversion counts from the actual converted rates\n",
    "\n",
    "Checking_df = y_train_pred_final.loc[y_train_pred_final['Converted']==1,['Converted','final_predicted']]\n",
    "Checking_df['final_predicted'].value_counts()\n"
   ]
  },
  {
   "cell_type": "code",
   "execution_count": 121,
   "id": "a99a3de0",
   "metadata": {},
   "outputs": [
    {
     "name": "stdout",
     "output_type": "stream",
     "text": [
      "Percentage =  0.8071339693073414\n"
     ]
    }
   ],
   "source": [
    "# Checking the percentage of final predicted conversions\n",
    "\n",
    "print(\"Percentage = \", 1946/float(1946 + 465))"
   ]
  },
  {
   "cell_type": "markdown",
   "id": "53444b4b",
   "metadata": {},
   "source": [
    "#### Inference:\n",
    "- The Final prediction of conversions have a target of 80% conversion as per the X Education's CEO requirement. \n",
    "- This model has 80.7% of lead conversion rate predictability."
   ]
  },
  {
   "cell_type": "markdown",
   "id": "a3010415",
   "metadata": {},
   "source": [
    "### Metrics of the Final Model\n"
   ]
  },
  {
   "cell_type": "code",
   "execution_count": 122,
   "id": "5fda0deb",
   "metadata": {},
   "outputs": [
    {
     "name": "stdout",
     "output_type": "stream",
     "text": [
      "Accuracy =  0.8156645569620253\n"
     ]
    }
   ],
   "source": [
    "# Accuracy.\n",
    "\n",
    "print(\"Accuracy = \", metrics.accuracy_score(y_train_pred_final.Converted, y_train_pred_final.final_predicted))"
   ]
  },
  {
   "cell_type": "code",
   "execution_count": 123,
   "id": "a8a0a17e",
   "metadata": {},
   "outputs": [
    {
     "data": {
      "text/plain": [
       "array([[3209,  700],\n",
       "       [ 465, 1946]], dtype=int64)"
      ]
     },
     "execution_count": 123,
     "metadata": {},
     "output_type": "execute_result"
    }
   ],
   "source": [
    "# Confusion Matrix\n",
    "\n",
    "Confusion_Mat2 = metrics.confusion_matrix(y_train_pred_final.Converted, y_train_pred_final.final_predicted)\n",
    "Confusion_Mat2"
   ]
  },
  {
   "cell_type": "code",
   "execution_count": 124,
   "id": "78ac6caf",
   "metadata": {},
   "outputs": [],
   "source": [
    "TP = Confusion_Mat2[1,1] # true positive \n",
    "TN = Confusion_Mat2[0,0] # true negatives\n",
    "FP = Confusion_Mat2[0,1] # false positives\n",
    "FN = Confusion_Mat2[1,0] # false negatives"
   ]
  },
  {
   "cell_type": "code",
   "execution_count": 125,
   "id": "20d39f7b",
   "metadata": {},
   "outputs": [
    {
     "name": "stdout",
     "output_type": "stream",
     "text": [
      "Sensitivity =  0.8071339693073414\n"
     ]
    }
   ],
   "source": [
    "# Sensitivity\n",
    "\n",
    "print(\"Sensitivity = \", TP / float(TP+FN))"
   ]
  },
  {
   "cell_type": "code",
   "execution_count": 126,
   "id": "353acdcd",
   "metadata": {},
   "outputs": [
    {
     "name": "stdout",
     "output_type": "stream",
     "text": [
      "Specificity =  0.8209260680480941\n"
     ]
    }
   ],
   "source": [
    "# Specificity\n",
    "\n",
    "print(\"Specificity = \", TN / float(TN+FP))"
   ]
  },
  {
   "cell_type": "code",
   "execution_count": 127,
   "id": "585917cc",
   "metadata": {},
   "outputs": [
    {
     "name": "stdout",
     "output_type": "stream",
     "text": [
      "False Positive Rate =  0.17907393195190585\n"
     ]
    }
   ],
   "source": [
    "# False Positive Rate - Predicting non converted leads as converted\n",
    "\n",
    "print(\"False Positive Rate = \", (FP/ float(TN+FP)))"
   ]
  },
  {
   "cell_type": "code",
   "execution_count": 128,
   "id": "22bfadfc",
   "metadata": {},
   "outputs": [
    {
     "name": "stdout",
     "output_type": "stream",
     "text": [
      "Positive Predictive Value =  0.7354497354497355\n"
     ]
    }
   ],
   "source": [
    "# Positive Predictive Value\n",
    "\n",
    "print(\"Positive Predictive Value = \", (TP / float(TP+FP)))"
   ]
  },
  {
   "cell_type": "code",
   "execution_count": 129,
   "id": "0d0efd51",
   "metadata": {},
   "outputs": [
    {
     "name": "stdout",
     "output_type": "stream",
     "text": [
      "Negative Predictive Value =  0.8734349482852477\n"
     ]
    }
   ],
   "source": [
    "# Negative Predictive Value\n",
    "\n",
    "print(\"Negative Predictive Value = \", TN / float(TN+ FN))"
   ]
  },
  {
   "cell_type": "markdown",
   "id": "137b17d5",
   "metadata": {},
   "source": [
    "#### Metrics - Precision and Recall"
   ]
  },
  {
   "cell_type": "code",
   "execution_count": 130,
   "id": "d4a90f01",
   "metadata": {},
   "outputs": [
    {
     "data": {
      "text/plain": [
       "array([[3455,  454],\n",
       "       [ 706, 1705]], dtype=int64)"
      ]
     },
     "execution_count": 130,
     "metadata": {},
     "output_type": "execute_result"
    }
   ],
   "source": [
    "# Looking at the confusion matrix \n",
    "\n",
    "Confusion_Mat"
   ]
  },
  {
   "cell_type": "code",
   "execution_count": 131,
   "id": "644ca98b",
   "metadata": {},
   "outputs": [
    {
     "name": "stdout",
     "output_type": "stream",
     "text": [
      "Precision score =  0.7897174617878647\n"
     ]
    }
   ],
   "source": [
    "# Precision\n",
    "\n",
    "print(\"Precision score = \", precision_score(y_train_pred_final.Converted, y_train_pred_final.predicted))"
   ]
  },
  {
   "cell_type": "code",
   "execution_count": 132,
   "id": "59bf23b7",
   "metadata": {},
   "outputs": [
    {
     "name": "stdout",
     "output_type": "stream",
     "text": [
      "Recall score =  0.7071754458730817\n"
     ]
    }
   ],
   "source": [
    "# Recall\n",
    "\n",
    "print(\"Recall score = \", recall_score(y_train_pred_final.Converted, y_train_pred_final.predicted))"
   ]
  },
  {
   "cell_type": "markdown",
   "id": "c3245466",
   "metadata": {},
   "source": [
    "#### Precision and Recall tradeoff"
   ]
  },
  {
   "cell_type": "code",
   "execution_count": 133,
   "id": "a428cfdf",
   "metadata": {
    "scrolled": true
   },
   "outputs": [
    {
     "data": {
      "text/plain": [
       "(0       0\n",
       " 1       0\n",
       " 2       0\n",
       " 3       0\n",
       " 4       1\n",
       "        ..\n",
       " 6315    0\n",
       " 6316    1\n",
       " 6317    1\n",
       " 6318    1\n",
       " 6319    0\n",
       " Name: Converted, Length: 6320, dtype: int64,\n",
       " 0       0\n",
       " 1       0\n",
       " 2       0\n",
       " 3       0\n",
       " 4       0\n",
       "        ..\n",
       " 6315    0\n",
       " 6316    1\n",
       " 6317    1\n",
       " 6318    1\n",
       " 6319    0\n",
       " Name: predicted, Length: 6320, dtype: int64)"
      ]
     },
     "execution_count": 133,
     "metadata": {},
     "output_type": "execute_result"
    }
   ],
   "source": [
    "y_train_pred_final.Converted, y_train_pred_final.predicted"
   ]
  },
  {
   "cell_type": "code",
   "execution_count": 134,
   "id": "7f6ca8b9",
   "metadata": {},
   "outputs": [],
   "source": [
    "p, r, thresholds = precision_recall_curve(y_train_pred_final.Converted, y_train_pred_final.Converted_Prob)"
   ]
  },
  {
   "cell_type": "code",
   "execution_count": 135,
   "id": "fb10e3e1",
   "metadata": {},
   "outputs": [
    {
     "data": {
      "image/png": "[encoded data removed]",
      "text/plain": [
       "<Figure size 432x288 with 1 Axes>"
      ]
     },
     "metadata": {
      "needs_background": "light"
     },
     "output_type": "display_data"
    }
   ],
   "source": [
    "plt.plot(thresholds, p[:-1], \"g-\")\n",
    "plt.plot(thresholds, r[:-1], \"r-\")\n",
    "plt.show()"
   ]
  },
  {
   "cell_type": "markdown",
   "id": "4925f3f5",
   "metadata": {},
   "source": [
    "### Step 9: Making Predictions on the Test Set"
   ]
  },
  {
   "cell_type": "code",
   "execution_count": 136,
   "id": "ecbd0d55",
   "metadata": {},
   "outputs": [],
   "source": [
    "X_test = df_test\n",
    "y_test = df_test.pop(\"Converted\")"
   ]
  },
  {
   "cell_type": "code",
   "execution_count": 137,
   "id": "8b863e62",
   "metadata": {},
   "outputs": [],
   "source": [
    "X_test[['TotalVisits','Total Time Spent on Website','Page Views Per Visit']] = scaler.transform(X_test[['TotalVisits', 'Total Time Spent on Website','Page Views Per Visit']])"
   ]
  },
  {
   "cell_type": "code",
   "execution_count": 138,
   "id": "38af30c1",
   "metadata": {},
   "outputs": [
    {
     "data": {
      "text/html": [
       "<div>\n",
       "<style scoped>\n",
       "    .dataframe tbody tr th:only-of-type {\n",
       "        vertical-align: middle;\n",
       "    }\n",
       "\n",
       "    .dataframe tbody tr th {\n",
       "        vertical-align: top;\n",
       "    }\n",
       "\n",
       "    .dataframe thead th {\n",
       "        text-align: right;\n",
       "    }\n",
       "</style>\n",
       "<table border=\"1\" class=\"dataframe\">\n",
       "  <thead>\n",
       "    <tr style=\"text-align: right;\">\n",
       "      <th></th>\n",
       "      <th>Do Not Email</th>\n",
       "      <th>TotalVisits</th>\n",
       "      <th>Total Time Spent on Website</th>\n",
       "      <th>LeadOrigin_Lead Add Form</th>\n",
       "      <th>LeadSource_Olark Chat</th>\n",
       "      <th>LeadSource_Welingak Website</th>\n",
       "      <th>LastActivity_Converted to Lead</th>\n",
       "      <th>LastActivity_Email Bounced</th>\n",
       "      <th>LastActivity_No Available</th>\n",
       "      <th>LastActivity_Olark Chat Conversation</th>\n",
       "      <th>CurrentOccupation_No Information</th>\n",
       "      <th>CurrentOccupation_Working Professional</th>\n",
       "      <th>LastNotableActivity_Email Link Clicked</th>\n",
       "      <th>LastNotableActivity_Email Opened</th>\n",
       "      <th>LastNotableActivity_Modified</th>\n",
       "      <th>LastNotableActivity_Olark Chat Conversation</th>\n",
       "      <th>LastNotableActivity_Page Visited on Website</th>\n",
       "    </tr>\n",
       "  </thead>\n",
       "  <tbody>\n",
       "    <tr>\n",
       "      <th>4664</th>\n",
       "      <td>0</td>\n",
       "      <td>0.0000</td>\n",
       "      <td>0.000000</td>\n",
       "      <td>0</td>\n",
       "      <td>1</td>\n",
       "      <td>0</td>\n",
       "      <td>0</td>\n",
       "      <td>0</td>\n",
       "      <td>0</td>\n",
       "      <td>0</td>\n",
       "      <td>0</td>\n",
       "      <td>0</td>\n",
       "      <td>0</td>\n",
       "      <td>1</td>\n",
       "      <td>0</td>\n",
       "      <td>0</td>\n",
       "      <td>0</td>\n",
       "    </tr>\n",
       "    <tr>\n",
       "      <th>5394</th>\n",
       "      <td>0</td>\n",
       "      <td>0.2500</td>\n",
       "      <td>0.072183</td>\n",
       "      <td>0</td>\n",
       "      <td>1</td>\n",
       "      <td>0</td>\n",
       "      <td>0</td>\n",
       "      <td>0</td>\n",
       "      <td>0</td>\n",
       "      <td>0</td>\n",
       "      <td>1</td>\n",
       "      <td>0</td>\n",
       "      <td>0</td>\n",
       "      <td>0</td>\n",
       "      <td>1</td>\n",
       "      <td>0</td>\n",
       "      <td>0</td>\n",
       "    </tr>\n",
       "    <tr>\n",
       "      <th>1595</th>\n",
       "      <td>0</td>\n",
       "      <td>0.2500</td>\n",
       "      <td>0.515405</td>\n",
       "      <td>0</td>\n",
       "      <td>0</td>\n",
       "      <td>0</td>\n",
       "      <td>0</td>\n",
       "      <td>0</td>\n",
       "      <td>0</td>\n",
       "      <td>0</td>\n",
       "      <td>0</td>\n",
       "      <td>1</td>\n",
       "      <td>0</td>\n",
       "      <td>0</td>\n",
       "      <td>1</td>\n",
       "      <td>0</td>\n",
       "      <td>0</td>\n",
       "    </tr>\n",
       "    <tr>\n",
       "      <th>2111</th>\n",
       "      <td>0</td>\n",
       "      <td>0.4375</td>\n",
       "      <td>0.229754</td>\n",
       "      <td>0</td>\n",
       "      <td>0</td>\n",
       "      <td>0</td>\n",
       "      <td>0</td>\n",
       "      <td>0</td>\n",
       "      <td>0</td>\n",
       "      <td>0</td>\n",
       "      <td>1</td>\n",
       "      <td>0</td>\n",
       "      <td>0</td>\n",
       "      <td>1</td>\n",
       "      <td>0</td>\n",
       "      <td>0</td>\n",
       "      <td>0</td>\n",
       "    </tr>\n",
       "    <tr>\n",
       "      <th>9182</th>\n",
       "      <td>0</td>\n",
       "      <td>0.0000</td>\n",
       "      <td>0.000000</td>\n",
       "      <td>0</td>\n",
       "      <td>1</td>\n",
       "      <td>0</td>\n",
       "      <td>0</td>\n",
       "      <td>0</td>\n",
       "      <td>0</td>\n",
       "      <td>0</td>\n",
       "      <td>0</td>\n",
       "      <td>0</td>\n",
       "      <td>0</td>\n",
       "      <td>0</td>\n",
       "      <td>1</td>\n",
       "      <td>0</td>\n",
       "      <td>0</td>\n",
       "    </tr>\n",
       "  </tbody>\n",
       "</table>\n",
       "</div>"
      ],
      "text/plain": [
       "      Do Not Email  TotalVisits  Total Time Spent on Website  \\\n",
       "4664             0       0.0000                     0.000000   \n",
       "5394             0       0.2500                     0.072183   \n",
       "1595             0       0.2500                     0.515405   \n",
       "2111             0       0.4375                     0.229754   \n",
       "9182             0       0.0000                     0.000000   \n",
       "\n",
       "      LeadOrigin_Lead Add Form  LeadSource_Olark Chat  \\\n",
       "4664                         0                      1   \n",
       "5394                         0                      1   \n",
       "1595                         0                      0   \n",
       "2111                         0                      0   \n",
       "9182                         0                      1   \n",
       "\n",
       "      LeadSource_Welingak Website  LastActivity_Converted to Lead  \\\n",
       "4664                            0                               0   \n",
       "5394                            0                               0   \n",
       "1595                            0                               0   \n",
       "2111                            0                               0   \n",
       "9182                            0                               0   \n",
       "\n",
       "      LastActivity_Email Bounced  LastActivity_No Available  \\\n",
       "4664                           0                          0   \n",
       "5394                           0                          0   \n",
       "1595                           0                          0   \n",
       "2111                           0                          0   \n",
       "9182                           0                          0   \n",
       "\n",
       "      LastActivity_Olark Chat Conversation  CurrentOccupation_No Information  \\\n",
       "4664                                     0                                 0   \n",
       "5394                                     0                                 1   \n",
       "1595                                     0                                 0   \n",
       "2111                                     0                                 1   \n",
       "9182                                     0                                 0   \n",
       "\n",
       "      CurrentOccupation_Working Professional  \\\n",
       "4664                                       0   \n",
       "5394                                       0   \n",
       "1595                                       1   \n",
       "2111                                       0   \n",
       "9182                                       0   \n",
       "\n",
       "      LastNotableActivity_Email Link Clicked  \\\n",
       "4664                                       0   \n",
       "5394                                       0   \n",
       "1595                                       0   \n",
       "2111                                       0   \n",
       "9182                                       0   \n",
       "\n",
       "      LastNotableActivity_Email Opened  LastNotableActivity_Modified  \\\n",
       "4664                                 1                             0   \n",
       "5394                                 0                             1   \n",
       "1595                                 0                             1   \n",
       "2111                                 1                             0   \n",
       "9182                                 0                             1   \n",
       "\n",
       "      LastNotableActivity_Olark Chat Conversation  \\\n",
       "4664                                            0   \n",
       "5394                                            0   \n",
       "1595                                            0   \n",
       "2111                                            0   \n",
       "9182                                            0   \n",
       "\n",
       "      LastNotableActivity_Page Visited on Website  \n",
       "4664                                            0  \n",
       "5394                                            0  \n",
       "1595                                            0  \n",
       "2111                                            0  \n",
       "9182                                            0  "
      ]
     },
     "execution_count": 138,
     "metadata": {},
     "output_type": "execute_result"
    }
   ],
   "source": [
    "X_test = X_test[cols]\n",
    "X_test.head()"
   ]
  },
  {
   "cell_type": "code",
   "execution_count": 139,
   "id": "d349010c",
   "metadata": {},
   "outputs": [],
   "source": [
    "# Adding Constant to the test set\n",
    "\n",
    "X_test_sm = sm.add_constant(X_test)"
   ]
  },
  {
   "cell_type": "code",
   "execution_count": 140,
   "id": "4de7643d",
   "metadata": {},
   "outputs": [],
   "source": [
    "# Making predictions on the test set\n",
    "\n",
    "y_test_pred = res.predict(X_test_sm)"
   ]
  },
  {
   "cell_type": "code",
   "execution_count": 141,
   "id": "305047ee",
   "metadata": {},
   "outputs": [
    {
     "data": {
      "text/plain": [
       "4664    0.344528\n",
       "5394    0.184938\n",
       "1595    0.922462\n",
       "2111    0.134096\n",
       "9182    0.286104\n",
       "1055    0.498239\n",
       "541     0.065364\n",
       "446     0.975969\n",
       "3728    0.014466\n",
       "4249    0.011585\n",
       "dtype: float64"
      ]
     },
     "execution_count": 141,
     "metadata": {},
     "output_type": "execute_result"
    }
   ],
   "source": [
    "\n",
    "y_test_pred[:10]"
   ]
  },
  {
   "cell_type": "code",
   "execution_count": 142,
   "id": "87a26b48",
   "metadata": {},
   "outputs": [],
   "source": [
    "# Converting y_pred to a dataframe which is an array\n",
    "\n",
    "y_pred_1 = pd.DataFrame(y_test_pred)"
   ]
  },
  {
   "cell_type": "code",
   "execution_count": 143,
   "id": "36c5119c",
   "metadata": {},
   "outputs": [
    {
     "data": {
      "text/html": [
       "<div>\n",
       "<style scoped>\n",
       "    .dataframe tbody tr th:only-of-type {\n",
       "        vertical-align: middle;\n",
       "    }\n",
       "\n",
       "    .dataframe tbody tr th {\n",
       "        vertical-align: top;\n",
       "    }\n",
       "\n",
       "    .dataframe thead th {\n",
       "        text-align: right;\n",
       "    }\n",
       "</style>\n",
       "<table border=\"1\" class=\"dataframe\">\n",
       "  <thead>\n",
       "    <tr style=\"text-align: right;\">\n",
       "      <th></th>\n",
       "      <th>0</th>\n",
       "    </tr>\n",
       "  </thead>\n",
       "  <tbody>\n",
       "    <tr>\n",
       "      <th>4664</th>\n",
       "      <td>0.344528</td>\n",
       "    </tr>\n",
       "    <tr>\n",
       "      <th>5394</th>\n",
       "      <td>0.184938</td>\n",
       "    </tr>\n",
       "    <tr>\n",
       "      <th>1595</th>\n",
       "      <td>0.922462</td>\n",
       "    </tr>\n",
       "    <tr>\n",
       "      <th>2111</th>\n",
       "      <td>0.134096</td>\n",
       "    </tr>\n",
       "    <tr>\n",
       "      <th>9182</th>\n",
       "      <td>0.286104</td>\n",
       "    </tr>\n",
       "  </tbody>\n",
       "</table>\n",
       "</div>"
      ],
      "text/plain": [
       "             0\n",
       "4664  0.344528\n",
       "5394  0.184938\n",
       "1595  0.922462\n",
       "2111  0.134096\n",
       "9182  0.286104"
      ]
     },
     "execution_count": 143,
     "metadata": {},
     "output_type": "execute_result"
    }
   ],
   "source": [
    "# Checking the head of the dataframe\n",
    "\n",
    "y_pred_1.head()"
   ]
  },
  {
   "cell_type": "code",
   "execution_count": 144,
   "id": "5f51bc03",
   "metadata": {},
   "outputs": [],
   "source": [
    "# Converting y_test to dataframe\n",
    "\n",
    "y_test_df = pd.DataFrame(y_test)"
   ]
  },
  {
   "cell_type": "code",
   "execution_count": 145,
   "id": "a1a7eb47",
   "metadata": {},
   "outputs": [],
   "source": [
    "# Putting LeadId to Index\n",
    "\n",
    "y_test_df['LeadId'] = y_test_df.index"
   ]
  },
  {
   "cell_type": "code",
   "execution_count": 146,
   "id": "1f620387",
   "metadata": {},
   "outputs": [],
   "source": [
    "# Removing index for both dataframes to append them side by side \n",
    "\n",
    "y_pred_1.reset_index(drop=True, inplace=True)\n",
    "y_test_df.reset_index(drop=True, inplace=True)"
   ]
  },
  {
   "cell_type": "code",
   "execution_count": 147,
   "id": "a8012b56",
   "metadata": {},
   "outputs": [],
   "source": [
    "# Appending y_test_df and y_pred_1\n",
    "\n",
    "y_pred_final = pd.concat([y_test_df, y_pred_1], axis = 1)"
   ]
  },
  {
   "cell_type": "code",
   "execution_count": 148,
   "id": "e516a043",
   "metadata": {},
   "outputs": [
    {
     "data": {
      "text/html": [
       "<div>\n",
       "<style scoped>\n",
       "    .dataframe tbody tr th:only-of-type {\n",
       "        vertical-align: middle;\n",
       "    }\n",
       "\n",
       "    .dataframe tbody tr th {\n",
       "        vertical-align: top;\n",
       "    }\n",
       "\n",
       "    .dataframe thead th {\n",
       "        text-align: right;\n",
       "    }\n",
       "</style>\n",
       "<table border=\"1\" class=\"dataframe\">\n",
       "  <thead>\n",
       "    <tr style=\"text-align: right;\">\n",
       "      <th></th>\n",
       "      <th>Converted</th>\n",
       "      <th>LeadId</th>\n",
       "      <th>0</th>\n",
       "    </tr>\n",
       "  </thead>\n",
       "  <tbody>\n",
       "    <tr>\n",
       "      <th>0</th>\n",
       "      <td>0</td>\n",
       "      <td>4664</td>\n",
       "      <td>0.344528</td>\n",
       "    </tr>\n",
       "    <tr>\n",
       "      <th>1</th>\n",
       "      <td>0</td>\n",
       "      <td>5394</td>\n",
       "      <td>0.184938</td>\n",
       "    </tr>\n",
       "    <tr>\n",
       "      <th>2</th>\n",
       "      <td>1</td>\n",
       "      <td>1595</td>\n",
       "      <td>0.922462</td>\n",
       "    </tr>\n",
       "    <tr>\n",
       "      <th>3</th>\n",
       "      <td>0</td>\n",
       "      <td>2111</td>\n",
       "      <td>0.134096</td>\n",
       "    </tr>\n",
       "    <tr>\n",
       "      <th>4</th>\n",
       "      <td>0</td>\n",
       "      <td>9182</td>\n",
       "      <td>0.286104</td>\n",
       "    </tr>\n",
       "  </tbody>\n",
       "</table>\n",
       "</div>"
      ],
      "text/plain": [
       "   Converted  LeadId         0\n",
       "0          0    4664  0.344528\n",
       "1          0    5394  0.184938\n",
       "2          1    1595  0.922462\n",
       "3          0    2111  0.134096\n",
       "4          0    9182  0.286104"
      ]
     },
     "execution_count": 148,
     "metadata": {},
     "output_type": "execute_result"
    }
   ],
   "source": [
    "# Checking the head of the final dataframe\n",
    "\n",
    "y_pred_final.head()"
   ]
  },
  {
   "cell_type": "code",
   "execution_count": 149,
   "id": "452d2cab",
   "metadata": {},
   "outputs": [],
   "source": [
    "# Renaming the column\n",
    "\n",
    "y_pred_final = y_pred_final.rename(columns = { 0 : \"Converted_Prob\"})"
   ]
  },
  {
   "cell_type": "code",
   "execution_count": 150,
   "id": "4e6817f2",
   "metadata": {},
   "outputs": [],
   "source": [
    "# Rearranging the columns\n",
    "\n",
    "y_pred_final = y_pred_final.reindex(columns = ['LeadId','Converted','Converted_Prob'])"
   ]
  },
  {
   "cell_type": "code",
   "execution_count": 151,
   "id": "92503fca",
   "metadata": {},
   "outputs": [
    {
     "data": {
      "text/html": [
       "<div>\n",
       "<style scoped>\n",
       "    .dataframe tbody tr th:only-of-type {\n",
       "        vertical-align: middle;\n",
       "    }\n",
       "\n",
       "    .dataframe tbody tr th {\n",
       "        vertical-align: top;\n",
       "    }\n",
       "\n",
       "    .dataframe thead th {\n",
       "        text-align: right;\n",
       "    }\n",
       "</style>\n",
       "<table border=\"1\" class=\"dataframe\">\n",
       "  <thead>\n",
       "    <tr style=\"text-align: right;\">\n",
       "      <th></th>\n",
       "      <th>LeadId</th>\n",
       "      <th>Converted</th>\n",
       "      <th>Converted_Prob</th>\n",
       "    </tr>\n",
       "  </thead>\n",
       "  <tbody>\n",
       "    <tr>\n",
       "      <th>0</th>\n",
       "      <td>4664</td>\n",
       "      <td>0</td>\n",
       "      <td>0.344528</td>\n",
       "    </tr>\n",
       "    <tr>\n",
       "      <th>1</th>\n",
       "      <td>5394</td>\n",
       "      <td>0</td>\n",
       "      <td>0.184938</td>\n",
       "    </tr>\n",
       "    <tr>\n",
       "      <th>2</th>\n",
       "      <td>1595</td>\n",
       "      <td>1</td>\n",
       "      <td>0.922462</td>\n",
       "    </tr>\n",
       "    <tr>\n",
       "      <th>3</th>\n",
       "      <td>2111</td>\n",
       "      <td>0</td>\n",
       "      <td>0.134096</td>\n",
       "    </tr>\n",
       "    <tr>\n",
       "      <th>4</th>\n",
       "      <td>9182</td>\n",
       "      <td>0</td>\n",
       "      <td>0.286104</td>\n",
       "    </tr>\n",
       "  </tbody>\n",
       "</table>\n",
       "</div>"
      ],
      "text/plain": [
       "   LeadId  Converted  Converted_Prob\n",
       "0    4664          0        0.344528\n",
       "1    5394          0        0.184938\n",
       "2    1595          1        0.922462\n",
       "3    2111          0        0.134096\n",
       "4    9182          0        0.286104"
      ]
     },
     "execution_count": 151,
     "metadata": {},
     "output_type": "execute_result"
    }
   ],
   "source": [
    "# Checking the head\n",
    "\n",
    "y_pred_final.head()"
   ]
  },
  {
   "cell_type": "code",
   "execution_count": 152,
   "id": "b90430c7",
   "metadata": {},
   "outputs": [],
   "source": [
    "# Based on cut off threshold using accuracy, sensitivity, and specificity of 0.36%\n",
    "\n",
    "y_pred_final['final_predicted'] = y_pred_final.Converted_Prob.map(lambda x: 1 if x > 0.36 else 0)"
   ]
  },
  {
   "cell_type": "code",
   "execution_count": 153,
   "id": "a0de29c1",
   "metadata": {},
   "outputs": [
    {
     "data": {
      "text/html": [
       "<div>\n",
       "<style scoped>\n",
       "    .dataframe tbody tr th:only-of-type {\n",
       "        vertical-align: middle;\n",
       "    }\n",
       "\n",
       "    .dataframe tbody tr th {\n",
       "        vertical-align: top;\n",
       "    }\n",
       "\n",
       "    .dataframe thead th {\n",
       "        text-align: right;\n",
       "    }\n",
       "</style>\n",
       "<table border=\"1\" class=\"dataframe\">\n",
       "  <thead>\n",
       "    <tr style=\"text-align: right;\">\n",
       "      <th></th>\n",
       "      <th>LeadId</th>\n",
       "      <th>Converted</th>\n",
       "      <th>Converted_Prob</th>\n",
       "      <th>final_predicted</th>\n",
       "    </tr>\n",
       "  </thead>\n",
       "  <tbody>\n",
       "    <tr>\n",
       "      <th>0</th>\n",
       "      <td>4664</td>\n",
       "      <td>0</td>\n",
       "      <td>0.344528</td>\n",
       "      <td>0</td>\n",
       "    </tr>\n",
       "    <tr>\n",
       "      <th>1</th>\n",
       "      <td>5394</td>\n",
       "      <td>0</td>\n",
       "      <td>0.184938</td>\n",
       "      <td>0</td>\n",
       "    </tr>\n",
       "    <tr>\n",
       "      <th>2</th>\n",
       "      <td>1595</td>\n",
       "      <td>1</td>\n",
       "      <td>0.922462</td>\n",
       "      <td>1</td>\n",
       "    </tr>\n",
       "    <tr>\n",
       "      <th>3</th>\n",
       "      <td>2111</td>\n",
       "      <td>0</td>\n",
       "      <td>0.134096</td>\n",
       "      <td>0</td>\n",
       "    </tr>\n",
       "    <tr>\n",
       "      <th>4</th>\n",
       "      <td>9182</td>\n",
       "      <td>0</td>\n",
       "      <td>0.286104</td>\n",
       "      <td>0</td>\n",
       "    </tr>\n",
       "  </tbody>\n",
       "</table>\n",
       "</div>"
      ],
      "text/plain": [
       "   LeadId  Converted  Converted_Prob  final_predicted\n",
       "0    4664          0        0.344528                0\n",
       "1    5394          0        0.184938                0\n",
       "2    1595          1        0.922462                1\n",
       "3    2111          0        0.134096                0\n",
       "4    9182          0        0.286104                0"
      ]
     },
     "execution_count": 153,
     "metadata": {},
     "output_type": "execute_result"
    }
   ],
   "source": [
    "y_pred_final.head()"
   ]
  },
  {
   "cell_type": "code",
   "execution_count": 154,
   "id": "0694b94c",
   "metadata": {
    "scrolled": true
   },
   "outputs": [
    {
     "data": {
      "text/html": [
       "<div>\n",
       "<style scoped>\n",
       "    .dataframe tbody tr th:only-of-type {\n",
       "        vertical-align: middle;\n",
       "    }\n",
       "\n",
       "    .dataframe tbody tr th {\n",
       "        vertical-align: top;\n",
       "    }\n",
       "\n",
       "    .dataframe thead th {\n",
       "        text-align: right;\n",
       "    }\n",
       "</style>\n",
       "<table border=\"1\" class=\"dataframe\">\n",
       "  <thead>\n",
       "    <tr style=\"text-align: right;\">\n",
       "      <th></th>\n",
       "      <th>LeadId</th>\n",
       "      <th>Converted</th>\n",
       "      <th>Converted_Prob</th>\n",
       "      <th>final_predicted</th>\n",
       "      <th>Lead_Score</th>\n",
       "    </tr>\n",
       "  </thead>\n",
       "  <tbody>\n",
       "    <tr>\n",
       "      <th>0</th>\n",
       "      <td>4664</td>\n",
       "      <td>0</td>\n",
       "      <td>0.344528</td>\n",
       "      <td>0</td>\n",
       "      <td>34</td>\n",
       "    </tr>\n",
       "    <tr>\n",
       "      <th>1</th>\n",
       "      <td>5394</td>\n",
       "      <td>0</td>\n",
       "      <td>0.184938</td>\n",
       "      <td>0</td>\n",
       "      <td>18</td>\n",
       "    </tr>\n",
       "    <tr>\n",
       "      <th>2</th>\n",
       "      <td>1595</td>\n",
       "      <td>1</td>\n",
       "      <td>0.922462</td>\n",
       "      <td>1</td>\n",
       "      <td>92</td>\n",
       "    </tr>\n",
       "    <tr>\n",
       "      <th>3</th>\n",
       "      <td>2111</td>\n",
       "      <td>0</td>\n",
       "      <td>0.134096</td>\n",
       "      <td>0</td>\n",
       "      <td>13</td>\n",
       "    </tr>\n",
       "    <tr>\n",
       "      <th>4</th>\n",
       "      <td>9182</td>\n",
       "      <td>0</td>\n",
       "      <td>0.286104</td>\n",
       "      <td>0</td>\n",
       "      <td>29</td>\n",
       "    </tr>\n",
       "    <tr>\n",
       "      <th>5</th>\n",
       "      <td>1055</td>\n",
       "      <td>1</td>\n",
       "      <td>0.498239</td>\n",
       "      <td>1</td>\n",
       "      <td>50</td>\n",
       "    </tr>\n",
       "    <tr>\n",
       "      <th>6</th>\n",
       "      <td>541</td>\n",
       "      <td>0</td>\n",
       "      <td>0.065364</td>\n",
       "      <td>0</td>\n",
       "      <td>7</td>\n",
       "    </tr>\n",
       "    <tr>\n",
       "      <th>7</th>\n",
       "      <td>446</td>\n",
       "      <td>1</td>\n",
       "      <td>0.975969</td>\n",
       "      <td>1</td>\n",
       "      <td>98</td>\n",
       "    </tr>\n",
       "    <tr>\n",
       "      <th>8</th>\n",
       "      <td>3728</td>\n",
       "      <td>0</td>\n",
       "      <td>0.014466</td>\n",
       "      <td>0</td>\n",
       "      <td>1</td>\n",
       "    </tr>\n",
       "    <tr>\n",
       "      <th>9</th>\n",
       "      <td>4249</td>\n",
       "      <td>0</td>\n",
       "      <td>0.011585</td>\n",
       "      <td>0</td>\n",
       "      <td>1</td>\n",
       "    </tr>\n",
       "    <tr>\n",
       "      <th>10</th>\n",
       "      <td>9123</td>\n",
       "      <td>0</td>\n",
       "      <td>0.183673</td>\n",
       "      <td>0</td>\n",
       "      <td>18</td>\n",
       "    </tr>\n",
       "    <tr>\n",
       "      <th>11</th>\n",
       "      <td>5036</td>\n",
       "      <td>1</td>\n",
       "      <td>0.956617</td>\n",
       "      <td>1</td>\n",
       "      <td>96</td>\n",
       "    </tr>\n",
       "    <tr>\n",
       "      <th>12</th>\n",
       "      <td>2015</td>\n",
       "      <td>1</td>\n",
       "      <td>0.529572</td>\n",
       "      <td>1</td>\n",
       "      <td>53</td>\n",
       "    </tr>\n",
       "    <tr>\n",
       "      <th>13</th>\n",
       "      <td>2112</td>\n",
       "      <td>0</td>\n",
       "      <td>0.336312</td>\n",
       "      <td>0</td>\n",
       "      <td>34</td>\n",
       "    </tr>\n",
       "    <tr>\n",
       "      <th>14</th>\n",
       "      <td>4118</td>\n",
       "      <td>0</td>\n",
       "      <td>0.035135</td>\n",
       "      <td>0</td>\n",
       "      <td>4</td>\n",
       "    </tr>\n",
       "    <tr>\n",
       "      <th>15</th>\n",
       "      <td>6195</td>\n",
       "      <td>0</td>\n",
       "      <td>0.075936</td>\n",
       "      <td>0</td>\n",
       "      <td>8</td>\n",
       "    </tr>\n",
       "    <tr>\n",
       "      <th>16</th>\n",
       "      <td>2305</td>\n",
       "      <td>1</td>\n",
       "      <td>0.519985</td>\n",
       "      <td>1</td>\n",
       "      <td>52</td>\n",
       "    </tr>\n",
       "    <tr>\n",
       "      <th>17</th>\n",
       "      <td>8329</td>\n",
       "      <td>0</td>\n",
       "      <td>0.117031</td>\n",
       "      <td>0</td>\n",
       "      <td>12</td>\n",
       "    </tr>\n",
       "    <tr>\n",
       "      <th>18</th>\n",
       "      <td>7651</td>\n",
       "      <td>0</td>\n",
       "      <td>0.619343</td>\n",
       "      <td>1</td>\n",
       "      <td>62</td>\n",
       "    </tr>\n",
       "    <tr>\n",
       "      <th>19</th>\n",
       "      <td>2673</td>\n",
       "      <td>1</td>\n",
       "      <td>0.995328</td>\n",
       "      <td>1</td>\n",
       "      <td>100</td>\n",
       "    </tr>\n",
       "  </tbody>\n",
       "</table>\n",
       "</div>"
      ],
      "text/plain": [
       "    LeadId  Converted  Converted_Prob  final_predicted  Lead_Score\n",
       "0     4664          0        0.344528                0          34\n",
       "1     5394          0        0.184938                0          18\n",
       "2     1595          1        0.922462                1          92\n",
       "3     2111          0        0.134096                0          13\n",
       "4     9182          0        0.286104                0          29\n",
       "5     1055          1        0.498239                1          50\n",
       "6      541          0        0.065364                0           7\n",
       "7      446          1        0.975969                1          98\n",
       "8     3728          0        0.014466                0           1\n",
       "9     4249          0        0.011585                0           1\n",
       "10    9123          0        0.183673                0          18\n",
       "11    5036          1        0.956617                1          96\n",
       "12    2015          1        0.529572                1          53\n",
       "13    2112          0        0.336312                0          34\n",
       "14    4118          0        0.035135                0           4\n",
       "15    6195          0        0.075936                0           8\n",
       "16    2305          1        0.519985                1          52\n",
       "17    8329          0        0.117031                0          12\n",
       "18    7651          0        0.619343                1          62\n",
       "19    2673          1        0.995328                1         100"
      ]
     },
     "execution_count": 154,
     "metadata": {},
     "output_type": "execute_result"
    }
   ],
   "source": [
    "# Calculating the lead score\n",
    "\n",
    "y_pred_final[\"Lead_Score\"] = y_pred_final.Converted_Prob.map(lambda x: round(x*100))\n",
    "y_pred_final.head(20)"
   ]
  },
  {
   "cell_type": "code",
   "execution_count": 155,
   "id": "93f14008",
   "metadata": {},
   "outputs": [
    {
     "data": {
      "text/plain": [
       "1    870\n",
       "0    196\n",
       "Name: final_predicted, dtype: int64"
      ]
     },
     "execution_count": 155,
     "metadata": {},
     "output_type": "execute_result"
    }
   ],
   "source": [
    "# Checking if 80% cases are correctly predicted based on the converted column.\n",
    "\n",
    "# Getting the total of final predicted conversion or non conversion counts from the actual converted rates\n",
    "\n",
    "checking_test_df = y_pred_final.loc[y_pred_final['Converted']==1,['Converted','final_predicted']]\n",
    "checking_test_df['final_predicted'].value_counts()"
   ]
  },
  {
   "cell_type": "code",
   "execution_count": 157,
   "id": "850f41e7",
   "metadata": {},
   "outputs": [
    {
     "name": "stdout",
     "output_type": "stream",
     "text": [
      "Percentage =  0.8161350844277674\n"
     ]
    }
   ],
   "source": [
    "# Checking the percentage of final predicted conversions on test data\n",
    "\n",
    "print(\"Percentage = \", 870/float(870+196))"
   ]
  },
  {
   "cell_type": "markdown",
   "id": "437af920",
   "metadata": {},
   "source": [
    "#### Inference:\n",
    "- We can see that the final prediction of conversions have a target rate of 81.6% (Requirement - 80%)"
   ]
  },
  {
   "cell_type": "markdown",
   "id": "e56cb44d",
   "metadata": {},
   "source": [
    "### Overall Metrics\n",
    "#### Accuracy, Confusion Metrics, Sensitivity, Specificity of the test set"
   ]
  },
  {
   "cell_type": "code",
   "execution_count": 158,
   "id": "3a41f7e6",
   "metadata": {},
   "outputs": [
    {
     "name": "stdout",
     "output_type": "stream",
     "text": [
      "Accuracy - 0.8087855297157622\n"
     ]
    }
   ],
   "source": [
    "# Accuracy\n",
    "\n",
    "print(\"Accuracy -\", metrics.accuracy_score(y_pred_final.Converted, y_pred_final.final_predicted))"
   ]
  },
  {
   "cell_type": "code",
   "execution_count": 160,
   "id": "a2d21c55",
   "metadata": {},
   "outputs": [
    {
     "data": {
      "text/plain": [
       "array([[1321,  322],\n",
       "       [ 196,  870]], dtype=int64)"
      ]
     },
     "execution_count": 160,
     "metadata": {},
     "output_type": "execute_result"
    }
   ],
   "source": [
    "# Confusion Metrics\n",
    "\n",
    "Confusion_Metrics = metrics.confusion_matrix(y_pred_final.Converted, y_pred_final.final_predicted)\n",
    "Confusion_Metrics"
   ]
  },
  {
   "cell_type": "code",
   "execution_count": 162,
   "id": "ecaf3494",
   "metadata": {},
   "outputs": [],
   "source": [
    "TP = Confusion_Metrics[1,1] # true positive \n",
    "TN = Confusion_Metrics[0,0] # true negatives\n",
    "FP = Confusion_Metrics[0,1] # false positives\n",
    "FN = Confusion_Metrics[1,0] # false negatives"
   ]
  },
  {
   "cell_type": "code",
   "execution_count": 163,
   "id": "20fbfe64",
   "metadata": {},
   "outputs": [
    {
     "name": "stdout",
     "output_type": "stream",
     "text": [
      "Sensitivity - 0.8161350844277674\n"
     ]
    }
   ],
   "source": [
    "# Sensitivity\n",
    "\n",
    "print(\"Sensitivity -\", TP / float(TP+FN))"
   ]
  },
  {
   "cell_type": "code",
   "execution_count": 164,
   "id": "3dc3aab5",
   "metadata": {},
   "outputs": [
    {
     "name": "stdout",
     "output_type": "stream",
     "text": [
      "Specificity - 0.8040170419963482\n"
     ]
    }
   ],
   "source": [
    "# Specificity\n",
    "\n",
    "print(\"Specificity -\", TN / float(TN+FP))"
   ]
  },
  {
   "cell_type": "markdown",
   "id": "8541188c",
   "metadata": {},
   "source": [
    "#### Precision and Recall metrics for the test set"
   ]
  },
  {
   "cell_type": "code",
   "execution_count": 165,
   "id": "8a2b8f81",
   "metadata": {},
   "outputs": [
    {
     "name": "stdout",
     "output_type": "stream",
     "text": [
      "Precision  0.7298657718120806\n",
      "Recall  0.8161350844277674\n"
     ]
    }
   ],
   "source": [
    "# Precision\n",
    "print('Precision ', precision_score(y_pred_final.Converted, y_pred_final.final_predicted))\n",
    "\n",
    "# Recall\n",
    "print('Recall ', recall_score(y_pred_final.Converted, y_pred_final.final_predicted))\n"
   ]
  },
  {
   "cell_type": "code",
   "execution_count": 166,
   "id": "fc804827",
   "metadata": {},
   "outputs": [
    {
     "data": {
      "image/png": "[encoded data removed]",
      "text/plain": [
       "<Figure size 432x288 with 1 Axes>"
      ]
     },
     "metadata": {
      "needs_background": "light"
     },
     "output_type": "display_data"
    }
   ],
   "source": [
    "p, r, thresholds = precision_recall_curve(y_pred_final.Converted, y_pred_final.Converted_Prob)\n",
    "\n",
    "plt.plot(thresholds, p[:-1], \"g-\")\n",
    "plt.plot(thresholds, r[:-1], \"r-\")\n",
    "plt.show()"
   ]
  },
  {
   "cell_type": "markdown",
   "id": "2993c9e7",
   "metadata": {},
   "source": [
    "### Conclusion:"
   ]
  },
  {
   "cell_type": "markdown",
   "id": "02600fde",
   "metadata": {},
   "source": [
    "- While we have checked both Sensitivity-Specificity as well as Precision and Recall Metrics, we have considered the optimal cut off based on Sensitivity and Specificity for calculating the final prediction.\n",
    "- Accuracy, Sensitivity, and Specificity values of both trained set and test set are approximately closer \n",
    "  - Test set - 81%, 81.6%, 80.4%\n",
    "  - Train set - 81%, 81%, 82%\n",
    "- The lead score calculated in the trained set of data shows the conversion rate on the final predicted model to be around 80%, which matches with the test set.\n",
    "- Hence, this seems to be a good model. "
   ]
  },
  {
   "cell_type": "code",
   "execution_count": null,
   "id": "80a4697e",
   "metadata": {},
   "outputs": [],
   "source": []
  }
 ],
 "metadata": {
  "kernelspec": {
   "display_name": "Python 3 (ipykernel)",
   "language": "python",
   "name": "python3"
  },
  "language_info": {
   "codemirror_mode": {
    "name": "ipython",
    "version": 3
   },
   "file_extension": ".py",
   "mimetype": "text/x-python",
   "name": "python",
   "nbconvert_exporter": "python",
   "pygments_lexer": "ipython3",
   "version": "3.9.12"
  }
 },
 "nbformat": 4,
 "nbformat_minor": 5
}
